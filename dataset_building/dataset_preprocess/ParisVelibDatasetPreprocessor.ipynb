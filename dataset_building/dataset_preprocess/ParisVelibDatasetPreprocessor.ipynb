{
 "cells": [
  {
   "cell_type": "code",
   "execution_count": 8,
   "outputs": [],
   "source": [
    "import pandas as pd\n",
    "from sklearn import preprocessing\n",
    "from sklearn.preprocessing import MinMaxScaler"
   ],
   "metadata": {
    "collapsed": false,
    "pycharm": {
     "name": "#%%\n"
    }
   }
  },
  {
   "cell_type": "code",
   "execution_count": 9,
   "outputs": [
    {
     "data": {
      "text/plain": "                          dataset_id  \\\n0  velib-disponibilite-en-temps-reel   \n1  velib-disponibilite-en-temps-reel   \n2  velib-disponibilite-en-temps-reel   \n3  velib-disponibilite-en-temps-reel   \n4  velib-disponibilite-en-temps-reel   \n5  velib-disponibilite-en-temps-reel   \n6  velib-disponibilite-en-temps-reel   \n7  velib-disponibilite-en-temps-reel   \n8  velib-disponibilite-en-temps-reel   \n9  velib-disponibilite-en-temps-reel   \n\n                                  record_id  ebike  capacity  \\\n0  1570b7d512f1fd3d40eafb63631c6ddd8d523b43      8        60   \n1  2c265ac8877d9287010c180634946c407412b8f7      3        25   \n2  f3b93652b4487a5c4d8ef2a24266ed1f0e7dd70e      0        23   \n3  4157ff7aec0f29e27c4e219196f66f30b47148ea      4        31   \n4  4f5eaa60256a428f684307eff93685aa0db9b6a0      2        27   \n5  38c720f0548e366ed1342970b939f5081c6bde16      4        60   \n6  62005c4310ab176646f76076c01ffc545fc69ae8      6        35   \n7  13e23d8a238d65cb871a3b8503cb501b2cb8e83e      3        17   \n8  08d5e251544c27adc8d8c6deb041d45c4ecfb143     12        43   \n9  92b93c19ae64bedc4a0912d9d18421ceeb737580      1        30   \n\n                                     name nom_arrondissement_communes  \\\n0                      Alibert - Jemmapes                       Paris   \n1             Cassini - Denfert-Rochereau                       Paris   \n2                        Lacépède - Monge                       Paris   \n3               André Karman - République               Aubervilliers   \n4  Pierre et Marie Curie - Maurice Thorez              Ivry-sur-Seine   \n5                        Square Boucicaut                       Paris   \n6                         Vaneau - Sèvres                       Paris   \n7               Thouin - Cardinal Lemoine                       Paris   \n8                       Froment - Bréguet                       Paris   \n9                De Toqueville - Terrasse                       Paris   \n\n   num_bikes_availabile is_installed is_renting  mechanical  station_code  \\\n0                    15          OUI        OUI           7         10013   \n1                     4          OUI        OUI           1         14111   \n2                     6          OUI        OUI           6          5110   \n3                     7          OUI        OUI           3         33006   \n4                     5          OUI        OUI           3         42016   \n5                    35          OUI        OUI          31          7003   \n6                    21          OUI        OUI          15          7002   \n7                     3          OUI        OUI           0          5016   \n8                    36          OUI        OUI          24         11025   \n9                     2          OUI        OUI           1         17048   \n\n   num_docks_available                   due_date is_returning geometry_type  \\\n0                   43  2021-12-05T00:47:03+00:00          OUI         Point   \n1                   18  2021-12-05T00:44:04+00:00          OUI         Point   \n2                   17  2021-12-05T00:48:35+00:00          OUI         Point   \n3                   18  2021-12-05T00:46:59+00:00          OUI         Point   \n4                   22  2021-12-05T00:42:21+00:00          OUI         Point   \n5                   21  2021-12-05T00:48:53+00:00          OUI         Point   \n6                   12  2021-12-05T00:44:19+00:00          OUI         Point   \n7                   13  2021-12-05T00:45:20+00:00          OUI         Point   \n8                    4  2021-12-05T00:48:04+00:00          OUI         Point   \n9                   26  2021-12-05T00:49:15+00:00          OUI         Point   \n\n   longitude   latitude                  record_timestamp  \n0   2.366104  48.871044  2021-12-05T01:46:00.617000+00:00  \n1   2.336035  48.837526  2021-12-05T01:46:00.617000+00:00  \n2   2.351966  48.843893  2021-12-05T01:46:00.617000+00:00  \n3   2.385136  48.910399  2021-12-05T01:46:00.617000+00:00  \n4   2.376805  48.815802  2021-12-05T01:46:00.617000+00:00  \n5   2.325062  48.851296  2021-12-05T01:46:00.617000+00:00  \n6   2.320422  48.848563  2021-12-05T01:46:00.617000+00:00  \n7   2.349465  48.845047  2021-12-05T01:46:00.617000+00:00  \n8   2.372895  48.857041  2021-12-05T01:46:00.617000+00:00  \n9   2.314002  48.882428  2021-12-05T01:46:00.617000+00:00  ",
      "text/html": "<div>\n<style scoped>\n    .dataframe tbody tr th:only-of-type {\n        vertical-align: middle;\n    }\n\n    .dataframe tbody tr th {\n        vertical-align: top;\n    }\n\n    .dataframe thead th {\n        text-align: right;\n    }\n</style>\n<table border=\"1\" class=\"dataframe\">\n  <thead>\n    <tr style=\"text-align: right;\">\n      <th></th>\n      <th>dataset_id</th>\n      <th>record_id</th>\n      <th>ebike</th>\n      <th>capacity</th>\n      <th>name</th>\n      <th>nom_arrondissement_communes</th>\n      <th>num_bikes_availabile</th>\n      <th>is_installed</th>\n      <th>is_renting</th>\n      <th>mechanical</th>\n      <th>station_code</th>\n      <th>num_docks_available</th>\n      <th>due_date</th>\n      <th>is_returning</th>\n      <th>geometry_type</th>\n      <th>longitude</th>\n      <th>latitude</th>\n      <th>record_timestamp</th>\n    </tr>\n  </thead>\n  <tbody>\n    <tr>\n      <th>0</th>\n      <td>velib-disponibilite-en-temps-reel</td>\n      <td>1570b7d512f1fd3d40eafb63631c6ddd8d523b43</td>\n      <td>8</td>\n      <td>60</td>\n      <td>Alibert - Jemmapes</td>\n      <td>Paris</td>\n      <td>15</td>\n      <td>OUI</td>\n      <td>OUI</td>\n      <td>7</td>\n      <td>10013</td>\n      <td>43</td>\n      <td>2021-12-05T00:47:03+00:00</td>\n      <td>OUI</td>\n      <td>Point</td>\n      <td>2.366104</td>\n      <td>48.871044</td>\n      <td>2021-12-05T01:46:00.617000+00:00</td>\n    </tr>\n    <tr>\n      <th>1</th>\n      <td>velib-disponibilite-en-temps-reel</td>\n      <td>2c265ac8877d9287010c180634946c407412b8f7</td>\n      <td>3</td>\n      <td>25</td>\n      <td>Cassini - Denfert-Rochereau</td>\n      <td>Paris</td>\n      <td>4</td>\n      <td>OUI</td>\n      <td>OUI</td>\n      <td>1</td>\n      <td>14111</td>\n      <td>18</td>\n      <td>2021-12-05T00:44:04+00:00</td>\n      <td>OUI</td>\n      <td>Point</td>\n      <td>2.336035</td>\n      <td>48.837526</td>\n      <td>2021-12-05T01:46:00.617000+00:00</td>\n    </tr>\n    <tr>\n      <th>2</th>\n      <td>velib-disponibilite-en-temps-reel</td>\n      <td>f3b93652b4487a5c4d8ef2a24266ed1f0e7dd70e</td>\n      <td>0</td>\n      <td>23</td>\n      <td>Lacépède - Monge</td>\n      <td>Paris</td>\n      <td>6</td>\n      <td>OUI</td>\n      <td>OUI</td>\n      <td>6</td>\n      <td>5110</td>\n      <td>17</td>\n      <td>2021-12-05T00:48:35+00:00</td>\n      <td>OUI</td>\n      <td>Point</td>\n      <td>2.351966</td>\n      <td>48.843893</td>\n      <td>2021-12-05T01:46:00.617000+00:00</td>\n    </tr>\n    <tr>\n      <th>3</th>\n      <td>velib-disponibilite-en-temps-reel</td>\n      <td>4157ff7aec0f29e27c4e219196f66f30b47148ea</td>\n      <td>4</td>\n      <td>31</td>\n      <td>André Karman - République</td>\n      <td>Aubervilliers</td>\n      <td>7</td>\n      <td>OUI</td>\n      <td>OUI</td>\n      <td>3</td>\n      <td>33006</td>\n      <td>18</td>\n      <td>2021-12-05T00:46:59+00:00</td>\n      <td>OUI</td>\n      <td>Point</td>\n      <td>2.385136</td>\n      <td>48.910399</td>\n      <td>2021-12-05T01:46:00.617000+00:00</td>\n    </tr>\n    <tr>\n      <th>4</th>\n      <td>velib-disponibilite-en-temps-reel</td>\n      <td>4f5eaa60256a428f684307eff93685aa0db9b6a0</td>\n      <td>2</td>\n      <td>27</td>\n      <td>Pierre et Marie Curie - Maurice Thorez</td>\n      <td>Ivry-sur-Seine</td>\n      <td>5</td>\n      <td>OUI</td>\n      <td>OUI</td>\n      <td>3</td>\n      <td>42016</td>\n      <td>22</td>\n      <td>2021-12-05T00:42:21+00:00</td>\n      <td>OUI</td>\n      <td>Point</td>\n      <td>2.376805</td>\n      <td>48.815802</td>\n      <td>2021-12-05T01:46:00.617000+00:00</td>\n    </tr>\n    <tr>\n      <th>5</th>\n      <td>velib-disponibilite-en-temps-reel</td>\n      <td>38c720f0548e366ed1342970b939f5081c6bde16</td>\n      <td>4</td>\n      <td>60</td>\n      <td>Square Boucicaut</td>\n      <td>Paris</td>\n      <td>35</td>\n      <td>OUI</td>\n      <td>OUI</td>\n      <td>31</td>\n      <td>7003</td>\n      <td>21</td>\n      <td>2021-12-05T00:48:53+00:00</td>\n      <td>OUI</td>\n      <td>Point</td>\n      <td>2.325062</td>\n      <td>48.851296</td>\n      <td>2021-12-05T01:46:00.617000+00:00</td>\n    </tr>\n    <tr>\n      <th>6</th>\n      <td>velib-disponibilite-en-temps-reel</td>\n      <td>62005c4310ab176646f76076c01ffc545fc69ae8</td>\n      <td>6</td>\n      <td>35</td>\n      <td>Vaneau - Sèvres</td>\n      <td>Paris</td>\n      <td>21</td>\n      <td>OUI</td>\n      <td>OUI</td>\n      <td>15</td>\n      <td>7002</td>\n      <td>12</td>\n      <td>2021-12-05T00:44:19+00:00</td>\n      <td>OUI</td>\n      <td>Point</td>\n      <td>2.320422</td>\n      <td>48.848563</td>\n      <td>2021-12-05T01:46:00.617000+00:00</td>\n    </tr>\n    <tr>\n      <th>7</th>\n      <td>velib-disponibilite-en-temps-reel</td>\n      <td>13e23d8a238d65cb871a3b8503cb501b2cb8e83e</td>\n      <td>3</td>\n      <td>17</td>\n      <td>Thouin - Cardinal Lemoine</td>\n      <td>Paris</td>\n      <td>3</td>\n      <td>OUI</td>\n      <td>OUI</td>\n      <td>0</td>\n      <td>5016</td>\n      <td>13</td>\n      <td>2021-12-05T00:45:20+00:00</td>\n      <td>OUI</td>\n      <td>Point</td>\n      <td>2.349465</td>\n      <td>48.845047</td>\n      <td>2021-12-05T01:46:00.617000+00:00</td>\n    </tr>\n    <tr>\n      <th>8</th>\n      <td>velib-disponibilite-en-temps-reel</td>\n      <td>08d5e251544c27adc8d8c6deb041d45c4ecfb143</td>\n      <td>12</td>\n      <td>43</td>\n      <td>Froment - Bréguet</td>\n      <td>Paris</td>\n      <td>36</td>\n      <td>OUI</td>\n      <td>OUI</td>\n      <td>24</td>\n      <td>11025</td>\n      <td>4</td>\n      <td>2021-12-05T00:48:04+00:00</td>\n      <td>OUI</td>\n      <td>Point</td>\n      <td>2.372895</td>\n      <td>48.857041</td>\n      <td>2021-12-05T01:46:00.617000+00:00</td>\n    </tr>\n    <tr>\n      <th>9</th>\n      <td>velib-disponibilite-en-temps-reel</td>\n      <td>92b93c19ae64bedc4a0912d9d18421ceeb737580</td>\n      <td>1</td>\n      <td>30</td>\n      <td>De Toqueville - Terrasse</td>\n      <td>Paris</td>\n      <td>2</td>\n      <td>OUI</td>\n      <td>OUI</td>\n      <td>1</td>\n      <td>17048</td>\n      <td>26</td>\n      <td>2021-12-05T00:49:15+00:00</td>\n      <td>OUI</td>\n      <td>Point</td>\n      <td>2.314002</td>\n      <td>48.882428</td>\n      <td>2021-12-05T01:46:00.617000+00:00</td>\n    </tr>\n  </tbody>\n</table>\n</div>"
     },
     "execution_count": 9,
     "metadata": {},
     "output_type": "execute_result"
    }
   ],
   "source": [
    "# Read the raw data\n",
    "data = pd.read_csv(\"../paris_velib_dataset.csv\")\n",
    "data.head(10)"
   ],
   "metadata": {
    "collapsed": false,
    "pycharm": {
     "name": "#%%\n"
    }
   }
  },
  {
   "cell_type": "code",
   "execution_count": 10,
   "outputs": [
    {
     "data": {
      "text/plain": "                          dataset_id  \\\n0  velib-disponibilite-en-temps-reel   \n1  velib-disponibilite-en-temps-reel   \n2  velib-disponibilite-en-temps-reel   \n3  velib-disponibilite-en-temps-reel   \n4  velib-disponibilite-en-temps-reel   \n\n                                  record_id  ebike  capacity  \\\n0  1570b7d512f1fd3d40eafb63631c6ddd8d523b43      8        60   \n1  2c265ac8877d9287010c180634946c407412b8f7      3        25   \n2  f3b93652b4487a5c4d8ef2a24266ed1f0e7dd70e      0        23   \n3  4157ff7aec0f29e27c4e219196f66f30b47148ea      4        31   \n4  4f5eaa60256a428f684307eff93685aa0db9b6a0      2        27   \n\n                                     name nom_arrondissement_communes  \\\n0                      Alibert - Jemmapes                       Paris   \n1             Cassini - Denfert-Rochereau                       Paris   \n2                        Lacépède - Monge                       Paris   \n3               André Karman - République               Aubervilliers   \n4  Pierre et Marie Curie - Maurice Thorez              Ivry-sur-Seine   \n\n   num_bikes_availabile is_installed is_renting  mechanical  ...  latitude  \\\n0                    15          OUI        OUI           7  ...  0.488710   \n1                     4          OUI        OUI           1  ...  0.488375   \n2                     6          OUI        OUI           6  ...  0.488439   \n3                     7          OUI        OUI           3  ...  0.489104   \n4                     5          OUI        OUI           3  ...  0.488158   \n\n                   record_timestamp bike_availability_ratio  \\\n0  2021-12-05T01:46:00.617000+00:00               25.000000   \n1  2021-12-05T01:46:00.617000+00:00               16.000000   \n2  2021-12-05T01:46:00.617000+00:00               26.086957   \n3  2021-12-05T01:46:00.617000+00:00               22.580645   \n4  2021-12-05T01:46:00.617000+00:00               18.518519   \n\n  record_timestamp_converted record_timestamp_year  record_timestamp_month  \\\n0        2021-12-05 01:46:00                  2021                      12   \n1        2021-12-05 01:46:00                  2021                      12   \n2        2021-12-05 01:46:00                  2021                      12   \n3        2021-12-05 01:46:00                  2021                      12   \n4        2021-12-05 01:46:00                  2021                      12   \n\n   record_timestamp_day record_timestamp_hour  record_timestamp_minute  \\\n0                     5                     1                       46   \n1                     5                     1                       46   \n2                     5                     1                       46   \n3                     5                     1                       46   \n4                     5                     1                       46   \n\n  record_timestamp_second  \n0                       0  \n1                       0  \n2                       0  \n3                       0  \n4                       0  \n\n[5 rows x 26 columns]",
      "text/html": "<div>\n<style scoped>\n    .dataframe tbody tr th:only-of-type {\n        vertical-align: middle;\n    }\n\n    .dataframe tbody tr th {\n        vertical-align: top;\n    }\n\n    .dataframe thead th {\n        text-align: right;\n    }\n</style>\n<table border=\"1\" class=\"dataframe\">\n  <thead>\n    <tr style=\"text-align: right;\">\n      <th></th>\n      <th>dataset_id</th>\n      <th>record_id</th>\n      <th>ebike</th>\n      <th>capacity</th>\n      <th>name</th>\n      <th>nom_arrondissement_communes</th>\n      <th>num_bikes_availabile</th>\n      <th>is_installed</th>\n      <th>is_renting</th>\n      <th>mechanical</th>\n      <th>...</th>\n      <th>latitude</th>\n      <th>record_timestamp</th>\n      <th>bike_availability_ratio</th>\n      <th>record_timestamp_converted</th>\n      <th>record_timestamp_year</th>\n      <th>record_timestamp_month</th>\n      <th>record_timestamp_day</th>\n      <th>record_timestamp_hour</th>\n      <th>record_timestamp_minute</th>\n      <th>record_timestamp_second</th>\n    </tr>\n  </thead>\n  <tbody>\n    <tr>\n      <th>0</th>\n      <td>velib-disponibilite-en-temps-reel</td>\n      <td>1570b7d512f1fd3d40eafb63631c6ddd8d523b43</td>\n      <td>8</td>\n      <td>60</td>\n      <td>Alibert - Jemmapes</td>\n      <td>Paris</td>\n      <td>15</td>\n      <td>OUI</td>\n      <td>OUI</td>\n      <td>7</td>\n      <td>...</td>\n      <td>0.488710</td>\n      <td>2021-12-05T01:46:00.617000+00:00</td>\n      <td>25.000000</td>\n      <td>2021-12-05 01:46:00</td>\n      <td>2021</td>\n      <td>12</td>\n      <td>5</td>\n      <td>1</td>\n      <td>46</td>\n      <td>0</td>\n    </tr>\n    <tr>\n      <th>1</th>\n      <td>velib-disponibilite-en-temps-reel</td>\n      <td>2c265ac8877d9287010c180634946c407412b8f7</td>\n      <td>3</td>\n      <td>25</td>\n      <td>Cassini - Denfert-Rochereau</td>\n      <td>Paris</td>\n      <td>4</td>\n      <td>OUI</td>\n      <td>OUI</td>\n      <td>1</td>\n      <td>...</td>\n      <td>0.488375</td>\n      <td>2021-12-05T01:46:00.617000+00:00</td>\n      <td>16.000000</td>\n      <td>2021-12-05 01:46:00</td>\n      <td>2021</td>\n      <td>12</td>\n      <td>5</td>\n      <td>1</td>\n      <td>46</td>\n      <td>0</td>\n    </tr>\n    <tr>\n      <th>2</th>\n      <td>velib-disponibilite-en-temps-reel</td>\n      <td>f3b93652b4487a5c4d8ef2a24266ed1f0e7dd70e</td>\n      <td>0</td>\n      <td>23</td>\n      <td>Lacépède - Monge</td>\n      <td>Paris</td>\n      <td>6</td>\n      <td>OUI</td>\n      <td>OUI</td>\n      <td>6</td>\n      <td>...</td>\n      <td>0.488439</td>\n      <td>2021-12-05T01:46:00.617000+00:00</td>\n      <td>26.086957</td>\n      <td>2021-12-05 01:46:00</td>\n      <td>2021</td>\n      <td>12</td>\n      <td>5</td>\n      <td>1</td>\n      <td>46</td>\n      <td>0</td>\n    </tr>\n    <tr>\n      <th>3</th>\n      <td>velib-disponibilite-en-temps-reel</td>\n      <td>4157ff7aec0f29e27c4e219196f66f30b47148ea</td>\n      <td>4</td>\n      <td>31</td>\n      <td>André Karman - République</td>\n      <td>Aubervilliers</td>\n      <td>7</td>\n      <td>OUI</td>\n      <td>OUI</td>\n      <td>3</td>\n      <td>...</td>\n      <td>0.489104</td>\n      <td>2021-12-05T01:46:00.617000+00:00</td>\n      <td>22.580645</td>\n      <td>2021-12-05 01:46:00</td>\n      <td>2021</td>\n      <td>12</td>\n      <td>5</td>\n      <td>1</td>\n      <td>46</td>\n      <td>0</td>\n    </tr>\n    <tr>\n      <th>4</th>\n      <td>velib-disponibilite-en-temps-reel</td>\n      <td>4f5eaa60256a428f684307eff93685aa0db9b6a0</td>\n      <td>2</td>\n      <td>27</td>\n      <td>Pierre et Marie Curie - Maurice Thorez</td>\n      <td>Ivry-sur-Seine</td>\n      <td>5</td>\n      <td>OUI</td>\n      <td>OUI</td>\n      <td>3</td>\n      <td>...</td>\n      <td>0.488158</td>\n      <td>2021-12-05T01:46:00.617000+00:00</td>\n      <td>18.518519</td>\n      <td>2021-12-05 01:46:00</td>\n      <td>2021</td>\n      <td>12</td>\n      <td>5</td>\n      <td>1</td>\n      <td>46</td>\n      <td>0</td>\n    </tr>\n  </tbody>\n</table>\n<p>5 rows × 26 columns</p>\n</div>"
     },
     "execution_count": 10,
     "metadata": {},
     "output_type": "execute_result"
    }
   ],
   "source": [
    "# bike_availability_ratio\n",
    "data[\"bike_availability_ratio\"] = (data[\"num_bikes_availabile\"] / data[\"capacity\"]) * 100\n",
    "\n",
    "# Datetime conversions\n",
    "data[\"record_timestamp_converted\"] = pd.to_datetime(data[\"record_timestamp\"])\n",
    "data[\"record_timestamp_converted\"] = data[\"record_timestamp_converted\"].dt.strftime(\"%Y-%m-%d %H:%M:%S\")\n",
    "data['record_timestamp_year'] = pd.DatetimeIndex(data[\"record_timestamp_converted\"]).year\n",
    "data['record_timestamp_month'] = pd.DatetimeIndex(data[\"record_timestamp_converted\"]).month\n",
    "data['record_timestamp_day'] = pd.DatetimeIndex(data[\"record_timestamp_converted\"]).day\n",
    "data['record_timestamp_hour'] = pd.DatetimeIndex(data[\"record_timestamp_converted\"]).hour\n",
    "data['record_timestamp_minute'] = pd.DatetimeIndex(data[\"record_timestamp_converted\"]).minute\n",
    "data['record_timestamp_second'] = pd.DatetimeIndex(data[\"record_timestamp_converted\"]).second\n",
    "\n",
    "# Geolocation normalization\n",
    "data[\"latitude\"] = data[\"latitude\"].apply(lambda x: x / 100)\n",
    "data[\"longitude\"] = data[\"longitude\"].apply(lambda x: x / 100)\n",
    "data.head()"
   ],
   "metadata": {
    "collapsed": false,
    "pycharm": {
     "name": "#%%\n"
    }
   }
  },
  {
   "cell_type": "code",
   "execution_count": 11,
   "outputs": [
    {
     "name": "stdout",
     "output_type": "stream",
     "text": [
      "<class 'pandas.core.frame.DataFrame'>\n",
      "RangeIndex: 95642 entries, 0 to 95641\n",
      "Data columns (total 12 columns):\n",
      " #   Column                   Non-Null Count  Dtype  \n",
      "---  ------                   --------------  -----  \n",
      " 0   is_installed             95642 non-null  object \n",
      " 1   is_renting               95642 non-null  object \n",
      " 2   is_returning             95642 non-null  object \n",
      " 3   longitude                95642 non-null  float64\n",
      " 4   latitude                 95642 non-null  float64\n",
      " 5   bike_availability_ratio  95642 non-null  float64\n",
      " 6   record_timestamp_year    95642 non-null  int64  \n",
      " 7   record_timestamp_month   95642 non-null  int64  \n",
      " 8   record_timestamp_day     95642 non-null  int64  \n",
      " 9   record_timestamp_hour    95642 non-null  int64  \n",
      " 10  record_timestamp_minute  95642 non-null  int64  \n",
      " 11  record_timestamp_second  95642 non-null  int64  \n",
      "dtypes: float64(3), int64(6), object(3)\n",
      "memory usage: 8.8+ MB\n"
     ]
    }
   ],
   "source": [
    "# Drop redundant columns\n",
    "df = data.drop(labels=[\"dataset_id\", \"record_id\", \"ebike\", \"name\", \"nom_arrondissement_communes\", \"capacity\",\n",
    "                       \"num_bikes_availabile\", \"mechanical\", \"station_code\", \"num_docks_available\", \"due_date\",\n",
    "                       \"geometry_type\", \"record_timestamp\", \"record_timestamp_converted\"], axis=1)\n",
    "df.info()"
   ],
   "metadata": {
    "collapsed": false,
    "pycharm": {
     "name": "#%%\n"
    }
   }
  },
  {
   "cell_type": "code",
   "execution_count": 12,
   "outputs": [],
   "source": [
    "le = preprocessing.LabelEncoder()\n",
    "df[\"is_installed\"] = le.fit_transform(df[\"is_installed\"])\n",
    "df[\"is_renting\"] = le.fit_transform(df[\"is_renting\"])\n",
    "df[\"is_returning\"] = le.fit_transform(df[\"is_returning\"])"
   ],
   "metadata": {
    "collapsed": false,
    "pycharm": {
     "name": "#%%\n"
    }
   }
  },
  {
   "cell_type": "code",
   "execution_count": 13,
   "outputs": [
    {
     "data": {
      "text/plain": "   is_installed  is_renting  is_returning  longitude  latitude  \\\n0             1           1             1   0.023661  0.488710   \n1             1           1             1   0.023360  0.488375   \n2             1           1             1   0.023520  0.488439   \n3             1           1             1   0.023851  0.489104   \n4             1           1             1   0.023768  0.488158   \n\n   bike_availability_ratio  record_timestamp_year_2021  \\\n0                25.000000                           1   \n1                16.000000                           1   \n2                26.086957                           1   \n3                22.580645                           1   \n4                18.518519                           1   \n\n   record_timestamp_month_12  record_timestamp_day_5  record_timestamp_day_10  \\\n0                          1                       1                        0   \n1                          1                       1                        0   \n2                          1                       1                        0   \n3                          1                       1                        0   \n4                          1                       1                        0   \n\n   ...  record_timestamp_minute_14  record_timestamp_minute_21  \\\n0  ...                           0                           0   \n1  ...                           0                           0   \n2  ...                           0                           0   \n3  ...                           0                           0   \n4  ...                           0                           0   \n\n   record_timestamp_minute_29  record_timestamp_minute_43  \\\n0                           0                           0   \n1                           0                           0   \n2                           0                           0   \n3                           0                           0   \n4                           0                           0   \n\n   record_timestamp_minute_44  record_timestamp_minute_46  \\\n0                           0                           1   \n1                           0                           1   \n2                           0                           1   \n3                           0                           1   \n4                           0                           1   \n\n   record_timestamp_minute_50  record_timestamp_minute_51  \\\n0                           0                           0   \n1                           0                           0   \n2                           0                           0   \n3                           0                           0   \n4                           0                           0   \n\n   record_timestamp_minute_59  record_timestamp_second_0  \n0                           0                          1  \n1                           0                          1  \n2                           0                          1  \n3                           0                          1  \n4                           0                          1  \n\n[5 rows x 40 columns]",
      "text/html": "<div>\n<style scoped>\n    .dataframe tbody tr th:only-of-type {\n        vertical-align: middle;\n    }\n\n    .dataframe tbody tr th {\n        vertical-align: top;\n    }\n\n    .dataframe thead th {\n        text-align: right;\n    }\n</style>\n<table border=\"1\" class=\"dataframe\">\n  <thead>\n    <tr style=\"text-align: right;\">\n      <th></th>\n      <th>is_installed</th>\n      <th>is_renting</th>\n      <th>is_returning</th>\n      <th>longitude</th>\n      <th>latitude</th>\n      <th>bike_availability_ratio</th>\n      <th>record_timestamp_year_2021</th>\n      <th>record_timestamp_month_12</th>\n      <th>record_timestamp_day_5</th>\n      <th>record_timestamp_day_10</th>\n      <th>...</th>\n      <th>record_timestamp_minute_14</th>\n      <th>record_timestamp_minute_21</th>\n      <th>record_timestamp_minute_29</th>\n      <th>record_timestamp_minute_43</th>\n      <th>record_timestamp_minute_44</th>\n      <th>record_timestamp_minute_46</th>\n      <th>record_timestamp_minute_50</th>\n      <th>record_timestamp_minute_51</th>\n      <th>record_timestamp_minute_59</th>\n      <th>record_timestamp_second_0</th>\n    </tr>\n  </thead>\n  <tbody>\n    <tr>\n      <th>0</th>\n      <td>1</td>\n      <td>1</td>\n      <td>1</td>\n      <td>0.023661</td>\n      <td>0.488710</td>\n      <td>25.000000</td>\n      <td>1</td>\n      <td>1</td>\n      <td>1</td>\n      <td>0</td>\n      <td>...</td>\n      <td>0</td>\n      <td>0</td>\n      <td>0</td>\n      <td>0</td>\n      <td>0</td>\n      <td>1</td>\n      <td>0</td>\n      <td>0</td>\n      <td>0</td>\n      <td>1</td>\n    </tr>\n    <tr>\n      <th>1</th>\n      <td>1</td>\n      <td>1</td>\n      <td>1</td>\n      <td>0.023360</td>\n      <td>0.488375</td>\n      <td>16.000000</td>\n      <td>1</td>\n      <td>1</td>\n      <td>1</td>\n      <td>0</td>\n      <td>...</td>\n      <td>0</td>\n      <td>0</td>\n      <td>0</td>\n      <td>0</td>\n      <td>0</td>\n      <td>1</td>\n      <td>0</td>\n      <td>0</td>\n      <td>0</td>\n      <td>1</td>\n    </tr>\n    <tr>\n      <th>2</th>\n      <td>1</td>\n      <td>1</td>\n      <td>1</td>\n      <td>0.023520</td>\n      <td>0.488439</td>\n      <td>26.086957</td>\n      <td>1</td>\n      <td>1</td>\n      <td>1</td>\n      <td>0</td>\n      <td>...</td>\n      <td>0</td>\n      <td>0</td>\n      <td>0</td>\n      <td>0</td>\n      <td>0</td>\n      <td>1</td>\n      <td>0</td>\n      <td>0</td>\n      <td>0</td>\n      <td>1</td>\n    </tr>\n    <tr>\n      <th>3</th>\n      <td>1</td>\n      <td>1</td>\n      <td>1</td>\n      <td>0.023851</td>\n      <td>0.489104</td>\n      <td>22.580645</td>\n      <td>1</td>\n      <td>1</td>\n      <td>1</td>\n      <td>0</td>\n      <td>...</td>\n      <td>0</td>\n      <td>0</td>\n      <td>0</td>\n      <td>0</td>\n      <td>0</td>\n      <td>1</td>\n      <td>0</td>\n      <td>0</td>\n      <td>0</td>\n      <td>1</td>\n    </tr>\n    <tr>\n      <th>4</th>\n      <td>1</td>\n      <td>1</td>\n      <td>1</td>\n      <td>0.023768</td>\n      <td>0.488158</td>\n      <td>18.518519</td>\n      <td>1</td>\n      <td>1</td>\n      <td>1</td>\n      <td>0</td>\n      <td>...</td>\n      <td>0</td>\n      <td>0</td>\n      <td>0</td>\n      <td>0</td>\n      <td>0</td>\n      <td>1</td>\n      <td>0</td>\n      <td>0</td>\n      <td>0</td>\n      <td>1</td>\n    </tr>\n  </tbody>\n</table>\n<p>5 rows × 40 columns</p>\n</div>"
     },
     "execution_count": 13,
     "metadata": {},
     "output_type": "execute_result"
    }
   ],
   "source": [
    "df = pd.get_dummies(df, columns=[\"record_timestamp_year\", \"record_timestamp_month\", \"record_timestamp_day\", \"record_timestamp_hour\", \"record_timestamp_minute\", \"record_timestamp_second\"])\n",
    "df.head()"
   ],
   "metadata": {
    "collapsed": false,
    "pycharm": {
     "name": "#%%\n"
    }
   }
  },
  {
   "cell_type": "code",
   "execution_count": 14,
   "outputs": [],
   "source": [
    "df.to_csv('../paris_velib_dataset_preprocessed.csv', index=False)"
   ],
   "metadata": {
    "collapsed": false,
    "pycharm": {
     "name": "#%%\n"
    }
   }
  }
 ],
 "metadata": {
  "kernelspec": {
   "display_name": "Python 3",
   "language": "python",
   "name": "python3"
  },
  "language_info": {
   "codemirror_mode": {
    "name": "ipython",
    "version": 2
   },
   "file_extension": ".py",
   "mimetype": "text/x-python",
   "name": "python",
   "nbconvert_exporter": "python",
   "pygments_lexer": "ipython2",
   "version": "2.7.6"
  }
 },
 "nbformat": 4,
 "nbformat_minor": 0
}