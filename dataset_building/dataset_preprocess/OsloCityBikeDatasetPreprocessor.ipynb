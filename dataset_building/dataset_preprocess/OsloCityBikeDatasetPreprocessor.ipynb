{
 "cells": [
  {
   "cell_type": "code",
   "execution_count": 18,
   "metadata": {
    "collapsed": true
   },
   "outputs": [],
   "source": [
    "import pandas as pd\n",
    "from sklearn import preprocessing"
   ]
  },
  {
   "cell_type": "code",
   "execution_count": 19,
   "outputs": [
    {
     "data": {
      "text/plain": "   station_id      station_name         station_address  station_lat  \\\n0        2332        Legevakten             Storgata 38    59.916296   \n1        2330    Stjerneplassen            Storgata 10a    59.913233   \n2        2329          Via Vika  Dronning Mauds gate 10    59.912713   \n3        2328           The Hub  Biskop Gunnerus Gate 3    59.912522   \n4        2315       Rostockgata           Rostockgata 5    59.906920   \n5        2309        Ulven Torg           Ulvenveien 89    59.925035   \n6        2308          Gunerius             Storgata 33    59.914599   \n7        2307   Domus Athletica             Trimveien 4    59.946219   \n8        2306     Ã˜kern Portal           LÃ¸renfaret 1    59.930904   \n9        2305  Hesselbergs Gate          Toftes Gate 24    59.927748   \n\n   station_lon  station_capacity  is_installed  is_renting  \\\n0    10.757377                12             1           1   \n1    10.749959                15             1           1   \n2    10.727171                15             1           1   \n3    10.750910                21             1           1   \n4    10.760312                18             1           1   \n5    10.812022                30             1           1   \n6    10.753399                12             1           1   \n7    10.724626                30             1           1   \n8    10.801940                18             1           1   \n9    10.761266                15             1           1   \n\n   num_bikes_available  num_docks_available  is_returning  last_reported  \n0                    0                   12             1     1642601914  \n1                    0                   15             1     1642601914  \n2                    2                   13             1     1642601914  \n3                    4                   17             1     1642601914  \n4                    4                   14             1     1642601914  \n5                    0                   30             1     1642601914  \n6                    3                    9             1     1642601914  \n7                    0                   30             1     1642601914  \n8                    1                   16             1     1642601914  \n9                    0                   15             1     1642601914  ",
      "text/html": "<div>\n<style scoped>\n    .dataframe tbody tr th:only-of-type {\n        vertical-align: middle;\n    }\n\n    .dataframe tbody tr th {\n        vertical-align: top;\n    }\n\n    .dataframe thead th {\n        text-align: right;\n    }\n</style>\n<table border=\"1\" class=\"dataframe\">\n  <thead>\n    <tr style=\"text-align: right;\">\n      <th></th>\n      <th>station_id</th>\n      <th>station_name</th>\n      <th>station_address</th>\n      <th>station_lat</th>\n      <th>station_lon</th>\n      <th>station_capacity</th>\n      <th>is_installed</th>\n      <th>is_renting</th>\n      <th>num_bikes_available</th>\n      <th>num_docks_available</th>\n      <th>is_returning</th>\n      <th>last_reported</th>\n    </tr>\n  </thead>\n  <tbody>\n    <tr>\n      <th>0</th>\n      <td>2332</td>\n      <td>Legevakten</td>\n      <td>Storgata 38</td>\n      <td>59.916296</td>\n      <td>10.757377</td>\n      <td>12</td>\n      <td>1</td>\n      <td>1</td>\n      <td>0</td>\n      <td>12</td>\n      <td>1</td>\n      <td>1642601914</td>\n    </tr>\n    <tr>\n      <th>1</th>\n      <td>2330</td>\n      <td>Stjerneplassen</td>\n      <td>Storgata 10a</td>\n      <td>59.913233</td>\n      <td>10.749959</td>\n      <td>15</td>\n      <td>1</td>\n      <td>1</td>\n      <td>0</td>\n      <td>15</td>\n      <td>1</td>\n      <td>1642601914</td>\n    </tr>\n    <tr>\n      <th>2</th>\n      <td>2329</td>\n      <td>Via Vika</td>\n      <td>Dronning Mauds gate 10</td>\n      <td>59.912713</td>\n      <td>10.727171</td>\n      <td>15</td>\n      <td>1</td>\n      <td>1</td>\n      <td>2</td>\n      <td>13</td>\n      <td>1</td>\n      <td>1642601914</td>\n    </tr>\n    <tr>\n      <th>3</th>\n      <td>2328</td>\n      <td>The Hub</td>\n      <td>Biskop Gunnerus Gate 3</td>\n      <td>59.912522</td>\n      <td>10.750910</td>\n      <td>21</td>\n      <td>1</td>\n      <td>1</td>\n      <td>4</td>\n      <td>17</td>\n      <td>1</td>\n      <td>1642601914</td>\n    </tr>\n    <tr>\n      <th>4</th>\n      <td>2315</td>\n      <td>Rostockgata</td>\n      <td>Rostockgata 5</td>\n      <td>59.906920</td>\n      <td>10.760312</td>\n      <td>18</td>\n      <td>1</td>\n      <td>1</td>\n      <td>4</td>\n      <td>14</td>\n      <td>1</td>\n      <td>1642601914</td>\n    </tr>\n    <tr>\n      <th>5</th>\n      <td>2309</td>\n      <td>Ulven Torg</td>\n      <td>Ulvenveien 89</td>\n      <td>59.925035</td>\n      <td>10.812022</td>\n      <td>30</td>\n      <td>1</td>\n      <td>1</td>\n      <td>0</td>\n      <td>30</td>\n      <td>1</td>\n      <td>1642601914</td>\n    </tr>\n    <tr>\n      <th>6</th>\n      <td>2308</td>\n      <td>Gunerius</td>\n      <td>Storgata 33</td>\n      <td>59.914599</td>\n      <td>10.753399</td>\n      <td>12</td>\n      <td>1</td>\n      <td>1</td>\n      <td>3</td>\n      <td>9</td>\n      <td>1</td>\n      <td>1642601914</td>\n    </tr>\n    <tr>\n      <th>7</th>\n      <td>2307</td>\n      <td>Domus Athletica</td>\n      <td>Trimveien 4</td>\n      <td>59.946219</td>\n      <td>10.724626</td>\n      <td>30</td>\n      <td>1</td>\n      <td>1</td>\n      <td>0</td>\n      <td>30</td>\n      <td>1</td>\n      <td>1642601914</td>\n    </tr>\n    <tr>\n      <th>8</th>\n      <td>2306</td>\n      <td>Ã˜kern Portal</td>\n      <td>LÃ¸renfaret 1</td>\n      <td>59.930904</td>\n      <td>10.801940</td>\n      <td>18</td>\n      <td>1</td>\n      <td>1</td>\n      <td>1</td>\n      <td>16</td>\n      <td>1</td>\n      <td>1642601914</td>\n    </tr>\n    <tr>\n      <th>9</th>\n      <td>2305</td>\n      <td>Hesselbergs Gate</td>\n      <td>Toftes Gate 24</td>\n      <td>59.927748</td>\n      <td>10.761266</td>\n      <td>15</td>\n      <td>1</td>\n      <td>1</td>\n      <td>0</td>\n      <td>15</td>\n      <td>1</td>\n      <td>1642601914</td>\n    </tr>\n  </tbody>\n</table>\n</div>"
     },
     "execution_count": 19,
     "metadata": {},
     "output_type": "execute_result"
    }
   ],
   "source": [
    "# Read the raw data\n",
    "data = pd.read_csv(\"../oslo_citybike_dataset.csv\")\n",
    "data.head(10)"
   ],
   "metadata": {
    "collapsed": false,
    "pycharm": {
     "name": "#%%\n"
    }
   }
  },
  {
   "cell_type": "code",
   "execution_count": 20,
   "outputs": [
    {
     "data": {
      "text/plain": "   station_id    station_name         station_address  station_lat  \\\n0        2332      Legevakten             Storgata 38     0.599163   \n1        2330  Stjerneplassen            Storgata 10a     0.599132   \n2        2329        Via Vika  Dronning Mauds gate 10     0.599127   \n3        2328         The Hub  Biskop Gunnerus Gate 3     0.599125   \n4        2315     Rostockgata           Rostockgata 5     0.599069   \n\n   station_lon  station_capacity  is_installed  is_renting  \\\n0     0.107574                12             1           1   \n1     0.107500                15             1           1   \n2     0.107272                15             1           1   \n3     0.107509                21             1           1   \n4     0.107603                18             1           1   \n\n   num_bikes_available  num_docks_available  is_returning  last_reported  \\\n0                    0                   12             1     1642601914   \n1                    0                   15             1     1642601914   \n2                    2                   13             1     1642601914   \n3                    4                   17             1     1642601914   \n4                    4                   14             1     1642601914   \n\n   bike_availability_ratio record_timestamp_converted  record_timestamp_year  \\\n0                 0.000000        2022-01-19 14:18:34                   2022   \n1                 0.000000        2022-01-19 14:18:34                   2022   \n2                13.333333        2022-01-19 14:18:34                   2022   \n3                19.047619        2022-01-19 14:18:34                   2022   \n4                22.222222        2022-01-19 14:18:34                   2022   \n\n   record_timestamp_month  record_timestamp_day  record_timestamp_hour  \\\n0                       1                    19                     14   \n1                       1                    19                     14   \n2                       1                    19                     14   \n3                       1                    19                     14   \n4                       1                    19                     14   \n\n   record_timestamp_minute  record_timestamp_second  \n0                       18                       34  \n1                       18                       34  \n2                       18                       34  \n3                       18                       34  \n4                       18                       34  ",
      "text/html": "<div>\n<style scoped>\n    .dataframe tbody tr th:only-of-type {\n        vertical-align: middle;\n    }\n\n    .dataframe tbody tr th {\n        vertical-align: top;\n    }\n\n    .dataframe thead th {\n        text-align: right;\n    }\n</style>\n<table border=\"1\" class=\"dataframe\">\n  <thead>\n    <tr style=\"text-align: right;\">\n      <th></th>\n      <th>station_id</th>\n      <th>station_name</th>\n      <th>station_address</th>\n      <th>station_lat</th>\n      <th>station_lon</th>\n      <th>station_capacity</th>\n      <th>is_installed</th>\n      <th>is_renting</th>\n      <th>num_bikes_available</th>\n      <th>num_docks_available</th>\n      <th>is_returning</th>\n      <th>last_reported</th>\n      <th>bike_availability_ratio</th>\n      <th>record_timestamp_converted</th>\n      <th>record_timestamp_year</th>\n      <th>record_timestamp_month</th>\n      <th>record_timestamp_day</th>\n      <th>record_timestamp_hour</th>\n      <th>record_timestamp_minute</th>\n      <th>record_timestamp_second</th>\n    </tr>\n  </thead>\n  <tbody>\n    <tr>\n      <th>0</th>\n      <td>2332</td>\n      <td>Legevakten</td>\n      <td>Storgata 38</td>\n      <td>0.599163</td>\n      <td>0.107574</td>\n      <td>12</td>\n      <td>1</td>\n      <td>1</td>\n      <td>0</td>\n      <td>12</td>\n      <td>1</td>\n      <td>1642601914</td>\n      <td>0.000000</td>\n      <td>2022-01-19 14:18:34</td>\n      <td>2022</td>\n      <td>1</td>\n      <td>19</td>\n      <td>14</td>\n      <td>18</td>\n      <td>34</td>\n    </tr>\n    <tr>\n      <th>1</th>\n      <td>2330</td>\n      <td>Stjerneplassen</td>\n      <td>Storgata 10a</td>\n      <td>0.599132</td>\n      <td>0.107500</td>\n      <td>15</td>\n      <td>1</td>\n      <td>1</td>\n      <td>0</td>\n      <td>15</td>\n      <td>1</td>\n      <td>1642601914</td>\n      <td>0.000000</td>\n      <td>2022-01-19 14:18:34</td>\n      <td>2022</td>\n      <td>1</td>\n      <td>19</td>\n      <td>14</td>\n      <td>18</td>\n      <td>34</td>\n    </tr>\n    <tr>\n      <th>2</th>\n      <td>2329</td>\n      <td>Via Vika</td>\n      <td>Dronning Mauds gate 10</td>\n      <td>0.599127</td>\n      <td>0.107272</td>\n      <td>15</td>\n      <td>1</td>\n      <td>1</td>\n      <td>2</td>\n      <td>13</td>\n      <td>1</td>\n      <td>1642601914</td>\n      <td>13.333333</td>\n      <td>2022-01-19 14:18:34</td>\n      <td>2022</td>\n      <td>1</td>\n      <td>19</td>\n      <td>14</td>\n      <td>18</td>\n      <td>34</td>\n    </tr>\n    <tr>\n      <th>3</th>\n      <td>2328</td>\n      <td>The Hub</td>\n      <td>Biskop Gunnerus Gate 3</td>\n      <td>0.599125</td>\n      <td>0.107509</td>\n      <td>21</td>\n      <td>1</td>\n      <td>1</td>\n      <td>4</td>\n      <td>17</td>\n      <td>1</td>\n      <td>1642601914</td>\n      <td>19.047619</td>\n      <td>2022-01-19 14:18:34</td>\n      <td>2022</td>\n      <td>1</td>\n      <td>19</td>\n      <td>14</td>\n      <td>18</td>\n      <td>34</td>\n    </tr>\n    <tr>\n      <th>4</th>\n      <td>2315</td>\n      <td>Rostockgata</td>\n      <td>Rostockgata 5</td>\n      <td>0.599069</td>\n      <td>0.107603</td>\n      <td>18</td>\n      <td>1</td>\n      <td>1</td>\n      <td>4</td>\n      <td>14</td>\n      <td>1</td>\n      <td>1642601914</td>\n      <td>22.222222</td>\n      <td>2022-01-19 14:18:34</td>\n      <td>2022</td>\n      <td>1</td>\n      <td>19</td>\n      <td>14</td>\n      <td>18</td>\n      <td>34</td>\n    </tr>\n  </tbody>\n</table>\n</div>"
     },
     "execution_count": 20,
     "metadata": {},
     "output_type": "execute_result"
    }
   ],
   "source": [
    "# bike_availability_ratio\n",
    "data[\"bike_availability_ratio\"] = (data[\"num_bikes_available\"] / data[\"station_capacity\"]) * 100\n",
    "\n",
    "# Datetime conversions\n",
    "data[\"record_timestamp_converted\"] = pd.to_datetime(data[\"last_reported\"], unit='s', origin='unix')\n",
    "data[\"record_timestamp_converted\"] = data[\"record_timestamp_converted\"].dt.strftime(\"%Y-%m-%d %H:%M:%S\")\n",
    "data['record_timestamp_year'] = pd.DatetimeIndex(data[\"record_timestamp_converted\"]).year\n",
    "data['record_timestamp_month'] = pd.DatetimeIndex(data[\"record_timestamp_converted\"]).month\n",
    "data['record_timestamp_day'] = pd.DatetimeIndex(data[\"record_timestamp_converted\"]).day\n",
    "data['record_timestamp_hour'] = pd.DatetimeIndex(data[\"record_timestamp_converted\"]).hour\n",
    "data['record_timestamp_minute'] = pd.DatetimeIndex(data[\"record_timestamp_converted\"]).minute\n",
    "data['record_timestamp_second'] = pd.DatetimeIndex(data[\"record_timestamp_converted\"]).second\n",
    "\n",
    "# Geolocation normalization\n",
    "data[\"station_lat\"] = data[\"station_lat\"].apply(lambda x: x / 100)\n",
    "data[\"station_lon\"] = data[\"station_lon\"].apply(lambda x: x / 100)\n",
    "data.head()"
   ],
   "metadata": {
    "collapsed": false,
    "pycharm": {
     "name": "#%%\n"
    }
   }
  },
  {
   "cell_type": "code",
   "execution_count": 21,
   "outputs": [
    {
     "name": "stdout",
     "output_type": "stream",
     "text": [
      "<class 'pandas.core.frame.DataFrame'>\n",
      "RangeIndex: 2223 entries, 0 to 2222\n",
      "Data columns (total 12 columns):\n",
      " #   Column                   Non-Null Count  Dtype  \n",
      "---  ------                   --------------  -----  \n",
      " 0   station_lat              2223 non-null   float64\n",
      " 1   station_lon              2223 non-null   float64\n",
      " 2   is_installed             2223 non-null   int64  \n",
      " 3   is_renting               2223 non-null   int64  \n",
      " 4   is_returning             2223 non-null   int64  \n",
      " 5   bike_availability_ratio  2223 non-null   float64\n",
      " 6   record_timestamp_year    2223 non-null   int64  \n",
      " 7   record_timestamp_month   2223 non-null   int64  \n",
      " 8   record_timestamp_day     2223 non-null   int64  \n",
      " 9   record_timestamp_hour    2223 non-null   int64  \n",
      " 10  record_timestamp_minute  2223 non-null   int64  \n",
      " 11  record_timestamp_second  2223 non-null   int64  \n",
      "dtypes: float64(3), int64(9)\n",
      "memory usage: 208.5 KB\n"
     ]
    }
   ],
   "source": [
    "# Drop redundant columns\n",
    "df = data.drop(labels=[\"station_id\", \"station_name\", \"station_address\", \"station_capacity\", \"num_bikes_available\", \"num_docks_available\",\n",
    "                       \"last_reported\", \"record_timestamp_converted\"], axis=1)\n",
    "df.info()"
   ],
   "metadata": {
    "collapsed": false,
    "pycharm": {
     "name": "#%%\n"
    }
   }
  },
  {
   "cell_type": "code",
   "execution_count": 22,
   "outputs": [],
   "source": [
    "le = preprocessing.LabelEncoder()\n",
    "df[\"is_installed\"] = le.fit_transform(df[\"is_installed\"])\n",
    "df[\"is_renting\"] = le.fit_transform(df[\"is_renting\"])\n",
    "df[\"is_returning\"] = le.fit_transform(df[\"is_returning\"])"
   ],
   "metadata": {
    "collapsed": false,
    "pycharm": {
     "name": "#%%\n"
    }
   }
  },
  {
   "cell_type": "code",
   "execution_count": 23,
   "outputs": [
    {
     "data": {
      "text/plain": "   station_lat  station_lon  is_installed  is_renting  is_returning  \\\n0     0.599163     0.107574             0           0             0   \n1     0.599132     0.107500             0           0             0   \n2     0.599127     0.107272             0           0             0   \n3     0.599125     0.107509             0           0             0   \n4     0.599069     0.107603             0           0             0   \n\n   bike_availability_ratio  record_timestamp_year_2022  \\\n0                 0.000000                           1   \n1                 0.000000                           1   \n2                13.333333                           1   \n3                19.047619                           1   \n4                22.222222                           1   \n\n   record_timestamp_month_1  record_timestamp_day_19  \\\n0                         1                        1   \n1                         1                        1   \n2                         1                        1   \n3                         1                        1   \n4                         1                        1   \n\n   record_timestamp_hour_14  ...  record_timestamp_minute_36  \\\n0                         1  ...                           0   \n1                         1  ...                           0   \n2                         1  ...                           0   \n3                         1  ...                           0   \n4                         1  ...                           0   \n\n   record_timestamp_second_24  record_timestamp_second_26  \\\n0                           0                           0   \n1                           0                           0   \n2                           0                           0   \n3                           0                           0   \n4                           0                           0   \n\n   record_timestamp_second_30  record_timestamp_second_33  \\\n0                           0                           0   \n1                           0                           0   \n2                           0                           0   \n3                           0                           0   \n4                           0                           0   \n\n   record_timestamp_second_34  record_timestamp_second_36  \\\n0                           1                           0   \n1                           1                           0   \n2                           1                           0   \n3                           1                           0   \n4                           1                           0   \n\n   record_timestamp_second_43  record_timestamp_second_46  \\\n0                           0                           0   \n1                           0                           0   \n2                           0                           0   \n3                           0                           0   \n4                           0                           0   \n\n   record_timestamp_second_59  \n0                           0  \n1                           0  \n2                           0  \n3                           0  \n4                           0  \n\n[5 rows x 29 columns]",
      "text/html": "<div>\n<style scoped>\n    .dataframe tbody tr th:only-of-type {\n        vertical-align: middle;\n    }\n\n    .dataframe tbody tr th {\n        vertical-align: top;\n    }\n\n    .dataframe thead th {\n        text-align: right;\n    }\n</style>\n<table border=\"1\" class=\"dataframe\">\n  <thead>\n    <tr style=\"text-align: right;\">\n      <th></th>\n      <th>station_lat</th>\n      <th>station_lon</th>\n      <th>is_installed</th>\n      <th>is_renting</th>\n      <th>is_returning</th>\n      <th>bike_availability_ratio</th>\n      <th>record_timestamp_year_2022</th>\n      <th>record_timestamp_month_1</th>\n      <th>record_timestamp_day_19</th>\n      <th>record_timestamp_hour_14</th>\n      <th>...</th>\n      <th>record_timestamp_minute_36</th>\n      <th>record_timestamp_second_24</th>\n      <th>record_timestamp_second_26</th>\n      <th>record_timestamp_second_30</th>\n      <th>record_timestamp_second_33</th>\n      <th>record_timestamp_second_34</th>\n      <th>record_timestamp_second_36</th>\n      <th>record_timestamp_second_43</th>\n      <th>record_timestamp_second_46</th>\n      <th>record_timestamp_second_59</th>\n    </tr>\n  </thead>\n  <tbody>\n    <tr>\n      <th>0</th>\n      <td>0.599163</td>\n      <td>0.107574</td>\n      <td>0</td>\n      <td>0</td>\n      <td>0</td>\n      <td>0.000000</td>\n      <td>1</td>\n      <td>1</td>\n      <td>1</td>\n      <td>1</td>\n      <td>...</td>\n      <td>0</td>\n      <td>0</td>\n      <td>0</td>\n      <td>0</td>\n      <td>0</td>\n      <td>1</td>\n      <td>0</td>\n      <td>0</td>\n      <td>0</td>\n      <td>0</td>\n    </tr>\n    <tr>\n      <th>1</th>\n      <td>0.599132</td>\n      <td>0.107500</td>\n      <td>0</td>\n      <td>0</td>\n      <td>0</td>\n      <td>0.000000</td>\n      <td>1</td>\n      <td>1</td>\n      <td>1</td>\n      <td>1</td>\n      <td>...</td>\n      <td>0</td>\n      <td>0</td>\n      <td>0</td>\n      <td>0</td>\n      <td>0</td>\n      <td>1</td>\n      <td>0</td>\n      <td>0</td>\n      <td>0</td>\n      <td>0</td>\n    </tr>\n    <tr>\n      <th>2</th>\n      <td>0.599127</td>\n      <td>0.107272</td>\n      <td>0</td>\n      <td>0</td>\n      <td>0</td>\n      <td>13.333333</td>\n      <td>1</td>\n      <td>1</td>\n      <td>1</td>\n      <td>1</td>\n      <td>...</td>\n      <td>0</td>\n      <td>0</td>\n      <td>0</td>\n      <td>0</td>\n      <td>0</td>\n      <td>1</td>\n      <td>0</td>\n      <td>0</td>\n      <td>0</td>\n      <td>0</td>\n    </tr>\n    <tr>\n      <th>3</th>\n      <td>0.599125</td>\n      <td>0.107509</td>\n      <td>0</td>\n      <td>0</td>\n      <td>0</td>\n      <td>19.047619</td>\n      <td>1</td>\n      <td>1</td>\n      <td>1</td>\n      <td>1</td>\n      <td>...</td>\n      <td>0</td>\n      <td>0</td>\n      <td>0</td>\n      <td>0</td>\n      <td>0</td>\n      <td>1</td>\n      <td>0</td>\n      <td>0</td>\n      <td>0</td>\n      <td>0</td>\n    </tr>\n    <tr>\n      <th>4</th>\n      <td>0.599069</td>\n      <td>0.107603</td>\n      <td>0</td>\n      <td>0</td>\n      <td>0</td>\n      <td>22.222222</td>\n      <td>1</td>\n      <td>1</td>\n      <td>1</td>\n      <td>1</td>\n      <td>...</td>\n      <td>0</td>\n      <td>0</td>\n      <td>0</td>\n      <td>0</td>\n      <td>0</td>\n      <td>1</td>\n      <td>0</td>\n      <td>0</td>\n      <td>0</td>\n      <td>0</td>\n    </tr>\n  </tbody>\n</table>\n<p>5 rows × 29 columns</p>\n</div>"
     },
     "execution_count": 23,
     "metadata": {},
     "output_type": "execute_result"
    }
   ],
   "source": [
    "df = pd.get_dummies(df, columns=[\"record_timestamp_year\", \"record_timestamp_month\", \"record_timestamp_day\", \"record_timestamp_hour\", \"record_timestamp_minute\", \"record_timestamp_second\"])\n",
    "df.head()"
   ],
   "metadata": {
    "collapsed": false,
    "pycharm": {
     "name": "#%%\n"
    }
   }
  },
  {
   "cell_type": "code",
   "execution_count": 24,
   "outputs": [],
   "source": [
    "df.to_csv('../oslo_citybike_dataset_preprocessed.csv', index=False)"
   ],
   "metadata": {
    "collapsed": false,
    "pycharm": {
     "name": "#%%\n"
    }
   }
  },
  {
   "cell_type": "code",
   "execution_count": 24,
   "outputs": [],
   "source": [],
   "metadata": {
    "collapsed": false,
    "pycharm": {
     "name": "#%%\n"
    }
   }
  }
 ],
 "metadata": {
  "kernelspec": {
   "display_name": "Python 3",
   "language": "python",
   "name": "python3"
  },
  "language_info": {
   "codemirror_mode": {
    "name": "ipython",
    "version": 2
   },
   "file_extension": ".py",
   "mimetype": "text/x-python",
   "name": "python",
   "nbconvert_exporter": "python",
   "pygments_lexer": "ipython2",
   "version": "2.7.6"
  }
 },
 "nbformat": 4,
 "nbformat_minor": 0
}