{
 "cells": [
  {
   "cell_type": "code",
   "execution_count": 40,
   "metadata": {
    "collapsed": true
   },
   "outputs": [],
   "source": [
    "import keras as keras\n",
    "import pandas as pd\n",
    "import numpy as np\n",
    "from sklearn import metrics\n",
    "import tensorflow as tf\n",
    "from sklearn.preprocessing import RobustScaler\n",
    "import matplotlib.pyplot as plt"
   ]
  },
  {
   "cell_type": "code",
   "execution_count": 41,
   "outputs": [
    {
     "data": {
      "text/plain": "   station_lat  station_lon  is_installed  is_renting  is_returning  ...  record_timestamp_second_34  record_timestamp_second_36  record_timestamp_second_43  record_timestamp_second_46  record_timestamp_second_59\n0     0.599163     0.107574             0           0             0  ...                           1                           0                           0                           0                           0\n1     0.599132     0.107500             0           0             0  ...                           1                           0                           0                           0                           0\n2     0.599127     0.107272             0           0             0  ...                           1                           0                           0                           0                           0\n3     0.599125     0.107509             0           0             0  ...                           1                           0                           0                           0                           0\n4     0.599069     0.107603             0           0             0  ...                           1                           0                           0                           0                           0\n\n[5 rows x 29 columns]",
      "text/html": "<div>\n<style scoped>\n    .dataframe tbody tr th:only-of-type {\n        vertical-align: middle;\n    }\n\n    .dataframe tbody tr th {\n        vertical-align: top;\n    }\n\n    .dataframe thead th {\n        text-align: right;\n    }\n</style>\n<table border=\"1\" class=\"dataframe\">\n  <thead>\n    <tr style=\"text-align: right;\">\n      <th></th>\n      <th>station_lat</th>\n      <th>station_lon</th>\n      <th>is_installed</th>\n      <th>is_renting</th>\n      <th>is_returning</th>\n      <th>...</th>\n      <th>record_timestamp_second_34</th>\n      <th>record_timestamp_second_36</th>\n      <th>record_timestamp_second_43</th>\n      <th>record_timestamp_second_46</th>\n      <th>record_timestamp_second_59</th>\n    </tr>\n  </thead>\n  <tbody>\n    <tr>\n      <th>0</th>\n      <td>0.599163</td>\n      <td>0.107574</td>\n      <td>0</td>\n      <td>0</td>\n      <td>0</td>\n      <td>...</td>\n      <td>1</td>\n      <td>0</td>\n      <td>0</td>\n      <td>0</td>\n      <td>0</td>\n    </tr>\n    <tr>\n      <th>1</th>\n      <td>0.599132</td>\n      <td>0.107500</td>\n      <td>0</td>\n      <td>0</td>\n      <td>0</td>\n      <td>...</td>\n      <td>1</td>\n      <td>0</td>\n      <td>0</td>\n      <td>0</td>\n      <td>0</td>\n    </tr>\n    <tr>\n      <th>2</th>\n      <td>0.599127</td>\n      <td>0.107272</td>\n      <td>0</td>\n      <td>0</td>\n      <td>0</td>\n      <td>...</td>\n      <td>1</td>\n      <td>0</td>\n      <td>0</td>\n      <td>0</td>\n      <td>0</td>\n    </tr>\n    <tr>\n      <th>3</th>\n      <td>0.599125</td>\n      <td>0.107509</td>\n      <td>0</td>\n      <td>0</td>\n      <td>0</td>\n      <td>...</td>\n      <td>1</td>\n      <td>0</td>\n      <td>0</td>\n      <td>0</td>\n      <td>0</td>\n    </tr>\n    <tr>\n      <th>4</th>\n      <td>0.599069</td>\n      <td>0.107603</td>\n      <td>0</td>\n      <td>0</td>\n      <td>0</td>\n      <td>...</td>\n      <td>1</td>\n      <td>0</td>\n      <td>0</td>\n      <td>0</td>\n      <td>0</td>\n    </tr>\n  </tbody>\n</table>\n<p>5 rows × 29 columns</p>\n</div>"
     },
     "execution_count": 41,
     "metadata": {},
     "output_type": "execute_result"
    }
   ],
   "source": [
    "pd.set_option('display.width', 500)\n",
    "np.set_printoptions(linewidth=500)\n",
    "pd.set_option('display.max_columns', 10)\n",
    "\n",
    "df = pd.read_csv(\n",
    "    \"../../dataset_building/oslo_citybike_dataset_preprocessed.csv\",\n",
    "    index_col=False\n",
    ")\n",
    "\n",
    "df.shape\n",
    "\n",
    "df.head()"
   ],
   "metadata": {
    "collapsed": false,
    "pycharm": {
     "name": "#%%\n"
    }
   }
  },
  {
   "cell_type": "code",
   "execution_count": 42,
   "outputs": [
    {
     "name": "stdout",
     "output_type": "stream",
     "text": [
      "1556 667\n"
     ]
    }
   ],
   "source": [
    "# 30% of data for testing\n",
    "train_size = int(len(df) * 0.7)\n",
    "test_size = len(df) - train_size\n",
    "train, test = df.iloc[0:train_size], df.iloc[train_size:len(df)]\n",
    "print(len(train), len(test))"
   ],
   "metadata": {
    "collapsed": false,
    "pycharm": {
     "name": "#%%\n"
    }
   }
  },
  {
   "cell_type": "code",
   "execution_count": 43,
   "outputs": [
    {
     "name": "stderr",
     "output_type": "stream",
     "text": [
      "C:\\Users\\teoma\\PycharmProjects\\RealtimePredictionBikeTerminalAvailability\\venv\\lib\\site-packages\\pandas\\core\\indexing.py:1835: SettingWithCopyWarning: \n",
      "A value is trying to be set on a copy of a slice from a DataFrame.\n",
      "Try using .loc[row_indexer,col_indexer] = value instead\n",
      "\n",
      "See the caveats in the documentation: https://pandas.pydata.org/pandas-docs/stable/user_guide/indexing.html#returning-a-view-versus-a-copy\n",
      "  self._setitem_single_column(loc, value[:, i].tolist(), pi)\n",
      "C:\\Users\\teoma\\PycharmProjects\\RealtimePredictionBikeTerminalAvailability\\venv\\lib\\site-packages\\pandas\\core\\indexing.py:1835: SettingWithCopyWarning: \n",
      "A value is trying to be set on a copy of a slice from a DataFrame.\n",
      "Try using .loc[row_indexer,col_indexer] = value instead\n",
      "\n",
      "See the caveats in the documentation: https://pandas.pydata.org/pandas-docs/stable/user_guide/indexing.html#returning-a-view-versus-a-copy\n",
      "  self._setitem_single_column(loc, value[:, i].tolist(), pi)\n",
      "C:\\Users\\teoma\\PycharmProjects\\RealtimePredictionBikeTerminalAvailability\\venv\\lib\\site-packages\\pandas\\core\\indexing.py:1732: SettingWithCopyWarning: \n",
      "A value is trying to be set on a copy of a slice from a DataFrame\n",
      "\n",
      "See the caveats in the documentation: https://pandas.pydata.org/pandas-docs/stable/user_guide/indexing.html#returning-a-view-versus-a-copy\n",
      "  self._setitem_single_block(indexer, value, name)\n",
      "C:\\Users\\teoma\\PycharmProjects\\RealtimePredictionBikeTerminalAvailability\\venv\\lib\\site-packages\\pandas\\core\\indexing.py:723: SettingWithCopyWarning: \n",
      "A value is trying to be set on a copy of a slice from a DataFrame\n",
      "\n",
      "See the caveats in the documentation: https://pandas.pydata.org/pandas-docs/stable/user_guide/indexing.html#returning-a-view-versus-a-copy\n",
      "  iloc._setitem_with_indexer(indexer, value, self.name)\n",
      "C:\\Users\\teoma\\PycharmProjects\\RealtimePredictionBikeTerminalAvailability\\venv\\lib\\site-packages\\pandas\\core\\indexing.py:1732: SettingWithCopyWarning: \n",
      "A value is trying to be set on a copy of a slice from a DataFrame\n",
      "\n",
      "See the caveats in the documentation: https://pandas.pydata.org/pandas-docs/stable/user_guide/indexing.html#returning-a-view-versus-a-copy\n",
      "  self._setitem_single_block(indexer, value, name)\n",
      "C:\\Users\\teoma\\PycharmProjects\\RealtimePredictionBikeTerminalAvailability\\venv\\lib\\site-packages\\pandas\\core\\indexing.py:723: SettingWithCopyWarning: \n",
      "A value is trying to be set on a copy of a slice from a DataFrame\n",
      "\n",
      "See the caveats in the documentation: https://pandas.pydata.org/pandas-docs/stable/user_guide/indexing.html#returning-a-view-versus-a-copy\n",
      "  iloc._setitem_with_indexer(indexer, value, self.name)\n"
     ]
    }
   ],
   "source": [
    "feature_columns = list(df.columns)\n",
    "feature_columns.remove('bike_availability_ratio')\n",
    "\n",
    "f_columns = feature_columns\n",
    "f_transformer = RobustScaler()\n",
    "f_transformer = f_transformer.fit(train[f_columns].to_numpy())\n",
    "train.loc[:, f_columns] = f_transformer.transform(\n",
    "    train[f_columns].to_numpy()\n",
    ")\n",
    "test.loc[:, f_columns] = f_transformer.transform(\n",
    "    test[f_columns].to_numpy()\n",
    ")\n",
    "\n",
    "bike_availability_col = ['bike_availability_ratio']\n",
    "availability_transformer = RobustScaler()\n",
    "availability_transformer = availability_transformer.fit(train[bike_availability_col])\n",
    "train.loc[:, bike_availability_col] = availability_transformer.transform(\n",
    "    train[bike_availability_col]\n",
    ")\n",
    "test.loc[:, bike_availability_col] = availability_transformer.transform(\n",
    "    test[bike_availability_col]\n",
    ")"
   ],
   "metadata": {
    "collapsed": false,
    "pycharm": {
     "name": "#%%\n"
    }
   }
  },
  {
   "cell_type": "code",
   "execution_count": 44,
   "outputs": [
    {
     "name": "stdout",
     "output_type": "stream",
     "text": [
      "feature columns: \n"
     ]
    },
    {
     "data": {
      "text/plain": "['station_lat',\n 'station_lon',\n 'is_installed',\n 'is_renting',\n 'is_returning',\n 'record_timestamp_year_2022',\n 'record_timestamp_month_1',\n 'record_timestamp_day_19',\n 'record_timestamp_hour_14',\n 'record_timestamp_hour_15',\n 'record_timestamp_minute_0',\n 'record_timestamp_minute_11',\n 'record_timestamp_minute_16',\n 'record_timestamp_minute_18',\n 'record_timestamp_minute_19',\n 'record_timestamp_minute_21',\n 'record_timestamp_minute_26',\n 'record_timestamp_minute_31',\n 'record_timestamp_minute_36',\n 'record_timestamp_second_24',\n 'record_timestamp_second_26',\n 'record_timestamp_second_30',\n 'record_timestamp_second_33',\n 'record_timestamp_second_34',\n 'record_timestamp_second_36',\n 'record_timestamp_second_43',\n 'record_timestamp_second_46',\n 'record_timestamp_second_59']"
     },
     "execution_count": 44,
     "metadata": {},
     "output_type": "execute_result"
    }
   ],
   "source": [
    "print(\"feature columns: \")\n",
    "feature_columns"
   ],
   "metadata": {
    "collapsed": false,
    "pycharm": {
     "name": "#%%\n"
    }
   }
  },
  {
   "cell_type": "code",
   "execution_count": 45,
   "outputs": [
    {
     "name": "stdout",
     "output_type": "stream",
     "text": [
      "train: \n"
     ]
    },
    {
     "data": {
      "text/plain": "      station_lat  station_lon  is_installed  is_renting  is_returning  ...  record_timestamp_second_34  record_timestamp_second_36  record_timestamp_second_43  record_timestamp_second_46  record_timestamp_second_59\n0       -0.288829     0.254495           0.0         0.0           0.0  ...                         1.0                         0.0                         0.0                         0.0                         0.0\n1       -0.482999     0.053213           0.0         0.0           0.0  ...                         1.0                         0.0                         0.0                         0.0                         0.0\n2       -0.515984    -0.565129           0.0         0.0           0.0  ...                         1.0                         0.0                         0.0                         0.0                         0.0\n3       -0.528061     0.079029           0.0         0.0           0.0  ...                         1.0                         0.0                         0.0                         0.0                         0.0\n4       -0.883244     0.334138           0.0         0.0           0.0  ...                         1.0                         0.0                         0.0                         0.0                         0.0\n...           ...          ...           ...         ...           ...  ...                         ...                         ...                         ...                         ...                         ...\n1551    -0.421890    -0.138791           0.0         0.0           0.0  ...                         0.0                         0.0                         1.0                         0.0                         0.0\n1552     0.099759     0.201602           0.0         0.0           0.0  ...                         0.0                         0.0                         1.0                         0.0                         0.0\n1553    -0.517789    -0.681008           0.0         0.0           0.0  ...                         0.0                         0.0                         1.0                         0.0                         0.0\n1554    -0.626220    -0.550768           0.0         0.0           0.0  ...                         0.0                         0.0                         1.0                         0.0                         0.0\n1555    -0.814463     0.395415           0.0         0.0           0.0  ...                         0.0                         0.0                         1.0                         0.0                         0.0\n\n[1556 rows x 29 columns]",
      "text/html": "<div>\n<style scoped>\n    .dataframe tbody tr th:only-of-type {\n        vertical-align: middle;\n    }\n\n    .dataframe tbody tr th {\n        vertical-align: top;\n    }\n\n    .dataframe thead th {\n        text-align: right;\n    }\n</style>\n<table border=\"1\" class=\"dataframe\">\n  <thead>\n    <tr style=\"text-align: right;\">\n      <th></th>\n      <th>station_lat</th>\n      <th>station_lon</th>\n      <th>is_installed</th>\n      <th>is_renting</th>\n      <th>is_returning</th>\n      <th>...</th>\n      <th>record_timestamp_second_34</th>\n      <th>record_timestamp_second_36</th>\n      <th>record_timestamp_second_43</th>\n      <th>record_timestamp_second_46</th>\n      <th>record_timestamp_second_59</th>\n    </tr>\n  </thead>\n  <tbody>\n    <tr>\n      <th>0</th>\n      <td>-0.288829</td>\n      <td>0.254495</td>\n      <td>0.0</td>\n      <td>0.0</td>\n      <td>0.0</td>\n      <td>...</td>\n      <td>1.0</td>\n      <td>0.0</td>\n      <td>0.0</td>\n      <td>0.0</td>\n      <td>0.0</td>\n    </tr>\n    <tr>\n      <th>1</th>\n      <td>-0.482999</td>\n      <td>0.053213</td>\n      <td>0.0</td>\n      <td>0.0</td>\n      <td>0.0</td>\n      <td>...</td>\n      <td>1.0</td>\n      <td>0.0</td>\n      <td>0.0</td>\n      <td>0.0</td>\n      <td>0.0</td>\n    </tr>\n    <tr>\n      <th>2</th>\n      <td>-0.515984</td>\n      <td>-0.565129</td>\n      <td>0.0</td>\n      <td>0.0</td>\n      <td>0.0</td>\n      <td>...</td>\n      <td>1.0</td>\n      <td>0.0</td>\n      <td>0.0</td>\n      <td>0.0</td>\n      <td>0.0</td>\n    </tr>\n    <tr>\n      <th>3</th>\n      <td>-0.528061</td>\n      <td>0.079029</td>\n      <td>0.0</td>\n      <td>0.0</td>\n      <td>0.0</td>\n      <td>...</td>\n      <td>1.0</td>\n      <td>0.0</td>\n      <td>0.0</td>\n      <td>0.0</td>\n      <td>0.0</td>\n    </tr>\n    <tr>\n      <th>4</th>\n      <td>-0.883244</td>\n      <td>0.334138</td>\n      <td>0.0</td>\n      <td>0.0</td>\n      <td>0.0</td>\n      <td>...</td>\n      <td>1.0</td>\n      <td>0.0</td>\n      <td>0.0</td>\n      <td>0.0</td>\n      <td>0.0</td>\n    </tr>\n    <tr>\n      <th>...</th>\n      <td>...</td>\n      <td>...</td>\n      <td>...</td>\n      <td>...</td>\n      <td>...</td>\n      <td>...</td>\n      <td>...</td>\n      <td>...</td>\n      <td>...</td>\n      <td>...</td>\n      <td>...</td>\n    </tr>\n    <tr>\n      <th>1551</th>\n      <td>-0.421890</td>\n      <td>-0.138791</td>\n      <td>0.0</td>\n      <td>0.0</td>\n      <td>0.0</td>\n      <td>...</td>\n      <td>0.0</td>\n      <td>0.0</td>\n      <td>1.0</td>\n      <td>0.0</td>\n      <td>0.0</td>\n    </tr>\n    <tr>\n      <th>1552</th>\n      <td>0.099759</td>\n      <td>0.201602</td>\n      <td>0.0</td>\n      <td>0.0</td>\n      <td>0.0</td>\n      <td>...</td>\n      <td>0.0</td>\n      <td>0.0</td>\n      <td>1.0</td>\n      <td>0.0</td>\n      <td>0.0</td>\n    </tr>\n    <tr>\n      <th>1553</th>\n      <td>-0.517789</td>\n      <td>-0.681008</td>\n      <td>0.0</td>\n      <td>0.0</td>\n      <td>0.0</td>\n      <td>...</td>\n      <td>0.0</td>\n      <td>0.0</td>\n      <td>1.0</td>\n      <td>0.0</td>\n      <td>0.0</td>\n    </tr>\n    <tr>\n      <th>1554</th>\n      <td>-0.626220</td>\n      <td>-0.550768</td>\n      <td>0.0</td>\n      <td>0.0</td>\n      <td>0.0</td>\n      <td>...</td>\n      <td>0.0</td>\n      <td>0.0</td>\n      <td>1.0</td>\n      <td>0.0</td>\n      <td>0.0</td>\n    </tr>\n    <tr>\n      <th>1555</th>\n      <td>-0.814463</td>\n      <td>0.395415</td>\n      <td>0.0</td>\n      <td>0.0</td>\n      <td>0.0</td>\n      <td>...</td>\n      <td>0.0</td>\n      <td>0.0</td>\n      <td>1.0</td>\n      <td>0.0</td>\n      <td>0.0</td>\n    </tr>\n  </tbody>\n</table>\n<p>1556 rows × 29 columns</p>\n</div>"
     },
     "execution_count": 45,
     "metadata": {},
     "output_type": "execute_result"
    }
   ],
   "source": [
    "print(\"train: \")\n",
    "train"
   ],
   "metadata": {
    "collapsed": false,
    "pycharm": {
     "name": "#%%\n"
    }
   }
  },
  {
   "cell_type": "code",
   "execution_count": 46,
   "outputs": [
    {
     "name": "stdout",
     "output_type": "stream",
     "text": [
      "test: \n"
     ]
    },
    {
     "data": {
      "text/plain": "      station_lat  station_lon  is_installed  is_renting  is_returning  ...  record_timestamp_second_34  record_timestamp_second_36  record_timestamp_second_43  record_timestamp_second_46  record_timestamp_second_59\n1556     0.814669     0.106699           0.0         0.0           0.0  ...                         0.0                         0.0                         1.0                         0.0                         0.0\n1557    -0.575358    -0.349621           0.0         0.0           0.0  ...                         0.0                         0.0                         1.0                         0.0                         0.0\n1558     0.800551    -0.588911           0.0         0.0           0.0  ...                         0.0                         0.0                         1.0                         0.0                         0.0\n1559    -0.464644    -0.485482           0.0         0.0           0.0  ...                         0.0                         0.0                         1.0                         0.0                         0.0\n1560    -0.446058     1.359326           0.0         0.0           0.0  ...                         0.0                         0.0                         1.0                         0.0                         0.0\n...           ...          ...           ...         ...           ...  ...                         ...                         ...                         ...                         ...                         ...\n2218    -0.328705     0.802338           0.0         0.0           0.0  ...                         0.0                         0.0                         0.0                         0.0                         0.0\n2219    -1.103030     0.812961           0.0         0.0           0.0  ...                         0.0                         0.0                         0.0                         0.0                         0.0\n2220    -0.344510     0.578850           0.0         0.0           0.0  ...                         0.0                         0.0                         0.0                         0.0                         0.0\n2221     0.676949     0.384533           0.0         0.0           0.0  ...                         0.0                         0.0                         0.0                         0.0                         0.0\n2222    -0.595854     0.761785           0.0         0.0           0.0  ...                         0.0                         0.0                         0.0                         0.0                         0.0\n\n[667 rows x 29 columns]",
      "text/html": "<div>\n<style scoped>\n    .dataframe tbody tr th:only-of-type {\n        vertical-align: middle;\n    }\n\n    .dataframe tbody tr th {\n        vertical-align: top;\n    }\n\n    .dataframe thead th {\n        text-align: right;\n    }\n</style>\n<table border=\"1\" class=\"dataframe\">\n  <thead>\n    <tr style=\"text-align: right;\">\n      <th></th>\n      <th>station_lat</th>\n      <th>station_lon</th>\n      <th>is_installed</th>\n      <th>is_renting</th>\n      <th>is_returning</th>\n      <th>...</th>\n      <th>record_timestamp_second_34</th>\n      <th>record_timestamp_second_36</th>\n      <th>record_timestamp_second_43</th>\n      <th>record_timestamp_second_46</th>\n      <th>record_timestamp_second_59</th>\n    </tr>\n  </thead>\n  <tbody>\n    <tr>\n      <th>1556</th>\n      <td>0.814669</td>\n      <td>0.106699</td>\n      <td>0.0</td>\n      <td>0.0</td>\n      <td>0.0</td>\n      <td>...</td>\n      <td>0.0</td>\n      <td>0.0</td>\n      <td>1.0</td>\n      <td>0.0</td>\n      <td>0.0</td>\n    </tr>\n    <tr>\n      <th>1557</th>\n      <td>-0.575358</td>\n      <td>-0.349621</td>\n      <td>0.0</td>\n      <td>0.0</td>\n      <td>0.0</td>\n      <td>...</td>\n      <td>0.0</td>\n      <td>0.0</td>\n      <td>1.0</td>\n      <td>0.0</td>\n      <td>0.0</td>\n    </tr>\n    <tr>\n      <th>1558</th>\n      <td>0.800551</td>\n      <td>-0.588911</td>\n      <td>0.0</td>\n      <td>0.0</td>\n      <td>0.0</td>\n      <td>...</td>\n      <td>0.0</td>\n      <td>0.0</td>\n      <td>1.0</td>\n      <td>0.0</td>\n      <td>0.0</td>\n    </tr>\n    <tr>\n      <th>1559</th>\n      <td>-0.464644</td>\n      <td>-0.485482</td>\n      <td>0.0</td>\n      <td>0.0</td>\n      <td>0.0</td>\n      <td>...</td>\n      <td>0.0</td>\n      <td>0.0</td>\n      <td>1.0</td>\n      <td>0.0</td>\n      <td>0.0</td>\n    </tr>\n    <tr>\n      <th>1560</th>\n      <td>-0.446058</td>\n      <td>1.359326</td>\n      <td>0.0</td>\n      <td>0.0</td>\n      <td>0.0</td>\n      <td>...</td>\n      <td>0.0</td>\n      <td>0.0</td>\n      <td>1.0</td>\n      <td>0.0</td>\n      <td>0.0</td>\n    </tr>\n    <tr>\n      <th>...</th>\n      <td>...</td>\n      <td>...</td>\n      <td>...</td>\n      <td>...</td>\n      <td>...</td>\n      <td>...</td>\n      <td>...</td>\n      <td>...</td>\n      <td>...</td>\n      <td>...</td>\n      <td>...</td>\n    </tr>\n    <tr>\n      <th>2218</th>\n      <td>-0.328705</td>\n      <td>0.802338</td>\n      <td>0.0</td>\n      <td>0.0</td>\n      <td>0.0</td>\n      <td>...</td>\n      <td>0.0</td>\n      <td>0.0</td>\n      <td>0.0</td>\n      <td>0.0</td>\n      <td>0.0</td>\n    </tr>\n    <tr>\n      <th>2219</th>\n      <td>-1.103030</td>\n      <td>0.812961</td>\n      <td>0.0</td>\n      <td>0.0</td>\n      <td>0.0</td>\n      <td>...</td>\n      <td>0.0</td>\n      <td>0.0</td>\n      <td>0.0</td>\n      <td>0.0</td>\n      <td>0.0</td>\n    </tr>\n    <tr>\n      <th>2220</th>\n      <td>-0.344510</td>\n      <td>0.578850</td>\n      <td>0.0</td>\n      <td>0.0</td>\n      <td>0.0</td>\n      <td>...</td>\n      <td>0.0</td>\n      <td>0.0</td>\n      <td>0.0</td>\n      <td>0.0</td>\n      <td>0.0</td>\n    </tr>\n    <tr>\n      <th>2221</th>\n      <td>0.676949</td>\n      <td>0.384533</td>\n      <td>0.0</td>\n      <td>0.0</td>\n      <td>0.0</td>\n      <td>...</td>\n      <td>0.0</td>\n      <td>0.0</td>\n      <td>0.0</td>\n      <td>0.0</td>\n      <td>0.0</td>\n    </tr>\n    <tr>\n      <th>2222</th>\n      <td>-0.595854</td>\n      <td>0.761785</td>\n      <td>0.0</td>\n      <td>0.0</td>\n      <td>0.0</td>\n      <td>...</td>\n      <td>0.0</td>\n      <td>0.0</td>\n      <td>0.0</td>\n      <td>0.0</td>\n      <td>0.0</td>\n    </tr>\n  </tbody>\n</table>\n<p>667 rows × 29 columns</p>\n</div>"
     },
     "execution_count": 46,
     "metadata": {},
     "output_type": "execute_result"
    }
   ],
   "source": [
    "print(\"test: \")\n",
    "test"
   ],
   "metadata": {
    "collapsed": false,
    "pycharm": {
     "name": "#%%\n"
    }
   }
  },
  {
   "cell_type": "code",
   "execution_count": 47,
   "outputs": [],
   "source": [
    "def create_dataset(X, y, time_steps=1):\n",
    "    Xs, ys = [], []\n",
    "    for i in range(len(X) - time_steps):\n",
    "        v = X.iloc[i:(i + time_steps)].values\n",
    "        Xs.append(v)\n",
    "        ys.append(y.iloc[i + time_steps])\n",
    "    return np.array(Xs), np.array(ys)"
   ],
   "metadata": {
    "collapsed": false,
    "pycharm": {
     "name": "#%%\n"
    }
   }
  },
  {
   "cell_type": "code",
   "execution_count": 48,
   "outputs": [
    {
     "name": "stdout",
     "output_type": "stream",
     "text": [
      "(1546, 10, 29) (1546,)\n"
     ]
    }
   ],
   "source": [
    "time_steps = 10\n",
    "X_train, y_train = create_dataset(train, train.bike_availability_ratio, time_steps)\n",
    "X_test, y_test = create_dataset(test, test.bike_availability_ratio, time_steps)\n",
    "print(X_train.shape, y_train.shape)"
   ],
   "metadata": {
    "collapsed": false,
    "pycharm": {
     "name": "#%%\n"
    }
   }
  },
  {
   "cell_type": "code",
   "execution_count": 49,
   "outputs": [
    {
     "data": {
      "text/plain": "array([[[-0.28882894,  0.25449463,  0.        , ...,  0.        ,  0.        ,  0.        ],\n        [-0.48299933,  0.0532127 ,  0.        , ...,  0.        ,  0.        ,  0.        ],\n        [-0.51598435, -0.56512912,  0.        , ...,  0.        ,  0.        ,  0.        ],\n        ...,\n        [ 1.60817633, -0.63417348,  0.        , ...,  0.        ,  0.        ,  0.        ],\n        [ 0.63724854,  1.46369513,  0.        , ...,  0.        ,  0.        ,  0.        ],\n        [ 0.43717693,  0.36002397,  0.        , ...,  0.        ,  0.        ,  0.        ]],\n\n       [[-0.48299933,  0.0532127 ,  0.        , ...,  0.        ,  0.        ,  0.        ],\n        [-0.51598435, -0.56512912,  0.        , ...,  0.        ,  0.        ,  0.        ],\n        [-0.52806055,  0.07902917,  0.        , ...,  0.        ,  0.        ,  0.        ],\n        ...,\n        [ 0.63724854,  1.46369513,  0.        , ...,  0.        ,  0.        ,  0.        ],\n        [ 0.43717693,  0.36002397,  0.        , ...,  0.        ,  0.        ,  0.        ],\n        [-0.57486753,  0.97377022,  0.        , ...,  0.        ,  0.        ,  0.        ]],\n\n       [[-0.51598435, -0.56512912,  0.        , ...,  0.        ,  0.        ,  0.        ],\n        [-0.52806055,  0.07902917,  0.        , ...,  0.        ,  0.        ,  0.        ],\n        [-0.88324413,  0.33413841,  0.        , ...,  0.        ,  0.        ,  0.        ],\n        ...,\n        [ 0.43717693,  0.36002397,  0.        , ...,  0.        ,  0.        ,  0.        ],\n        [-0.57486753,  0.97377022,  0.        , ...,  0.        ,  0.        ,  0.        ],\n        [-0.48823782, -0.42645864,  0.        , ...,  0.        ,  0.        ,  0.        ]],\n\n       ...,\n\n       [[ 0.08980015, -1.85649454,  0.        , ...,  1.        ,  0.        ,  0.        ],\n        [-0.10839986, -0.7694372 ,  0.        , ...,  1.        ,  0.        ,  0.        ],\n        [ 0.54549142,  0.573186  ,  0.        , ...,  1.        ,  0.        ,  0.        ],\n        ...,\n        [-0.37916813, -1.27426038,  0.        , ...,  1.        ,  0.        ,  0.        ],\n        [-0.42189032, -0.13879083,  0.        , ...,  1.        ,  0.        ,  0.        ],\n        [ 0.09975906,  0.20160203,  0.        , ...,  1.        ,  0.        ,  0.        ]],\n\n       [[-0.10839986, -0.7694372 ,  0.        , ...,  1.        ,  0.        ,  0.        ],\n        [ 0.54549142,  0.573186  ,  0.        , ...,  1.        ,  0.        ,  0.        ],\n        [ 0.60938867, -1.95950973,  0.        , ...,  1.        ,  0.        ,  0.        ],\n        ...,\n        [-0.42189032, -0.13879083,  0.        , ...,  1.        ,  0.        ,  0.        ],\n        [ 0.09975906,  0.20160203,  0.        , ...,  1.        ,  0.        ,  0.        ],\n        [-0.5177886 , -0.68100821,  0.        , ...,  1.        ,  0.        ,  0.        ]],\n\n       [[ 0.54549142,  0.573186  ,  0.        , ...,  1.        ,  0.        ,  0.        ],\n        [ 0.60938867, -1.95950973,  0.        , ...,  1.        ,  0.        ,  0.        ],\n        [ 1.68512956, -0.41863269,  0.        , ...,  1.        ,  0.        ,  0.        ],\n        ...,\n        [ 0.09975906,  0.20160203,  0.        , ...,  1.        ,  0.        ,  0.        ],\n        [-0.5177886 , -0.68100821,  0.        , ...,  1.        ,  0.        ,  0.        ],\n        [-0.62622016, -0.5507675 ,  0.        , ...,  1.        ,  0.        ,  0.        ]]])"
     },
     "execution_count": 49,
     "metadata": {},
     "output_type": "execute_result"
    }
   ],
   "source": [
    "X_train"
   ],
   "metadata": {
    "collapsed": false,
    "pycharm": {
     "name": "#%%\n"
    }
   }
  },
  {
   "cell_type": "code",
   "execution_count": 50,
   "outputs": [
    {
     "data": {
      "text/plain": "array([[[ 0.81466944,  0.10669872,  0.        , ...,  1.        ,  0.        ,  0.        ],\n        [-0.57535805, -0.34962118,  0.        , ...,  1.        ,  0.        ,  0.        ],\n        [ 0.80055086, -0.58891079,  0.        , ...,  1.        ,  0.        ,  0.        ],\n        ...,\n        [ 1.59141574, -1.02041608,  0.        , ...,  1.        ,  0.        ,  0.        ],\n        [-0.22398336, -0.84357873,  0.        , ...,  1.        ,  0.        ,  0.        ],\n        [ 0.19310251, -1.9527098 ,  0.        , ...,  1.        ,  0.        ,  0.        ]],\n\n       [[-0.57535805, -0.34962118,  0.        , ...,  1.        ,  0.        ,  0.        ],\n        [ 0.80055086, -0.58891079,  0.        , ...,  1.        ,  0.        ,  0.        ],\n        [-0.4646442 , -0.48548163,  0.        , ...,  1.        ,  0.        ,  0.        ],\n        ...,\n        [-0.22398336, -0.84357873,  0.        , ...,  1.        ,  0.        ,  0.        ],\n        [ 0.19310251, -1.9527098 ,  0.        , ...,  1.        ,  0.        ,  0.        ],\n        [-0.56313536, -0.00378256,  0.        , ...,  1.        ,  0.        ,  0.        ]],\n\n       [[ 0.80055086, -0.58891079,  0.        , ...,  1.        ,  0.        ,  0.        ],\n        [-0.4646442 , -0.48548163,  0.        , ...,  1.        ,  0.        ,  0.        ],\n        [-0.4460582 ,  1.35932631,  0.        , ...,  1.        ,  0.        ,  0.        ],\n        ...,\n        [ 0.19310251, -1.9527098 ,  0.        , ...,  1.        ,  0.        ,  0.        ],\n        [-0.56313536, -0.00378256,  0.        , ...,  1.        ,  0.        ,  0.        ],\n        [ 0.33562814, -0.46026272,  0.        , ...,  1.        ,  0.        ,  0.        ]],\n\n       ...,\n\n       [[ 0.55367153, -0.41132544,  0.        , ...,  0.        ,  0.        ,  0.        ],\n        [-0.49775819, -0.03356861,  0.        , ...,  0.        ,  0.        ,  0.        ],\n        [-1.11826087,  0.5249623 ,  0.        , ...,  0.        ,  0.        ,  0.        ],\n        ...,\n        [ 0.13983132,  0.6436737 ,  0.        , ...,  0.        ,  0.        ,  0.        ],\n        [-0.32870536,  0.80233792,  0.        , ...,  0.        ,  0.        ,  0.        ],\n        [-1.10302994,  0.81296112,  0.        , ...,  0.        ,  0.        ,  0.        ]],\n\n       [[-0.49775819, -0.03356861,  0.        , ...,  0.        ,  0.        ,  0.        ],\n        [-1.11826087,  0.5249623 ,  0.        , ...,  0.        ,  0.        ,  0.        ],\n        [-0.34132957,  0.08528878,  0.        , ...,  0.        ,  0.        ,  0.        ],\n        ...,\n        [-0.32870536,  0.80233792,  0.        , ...,  0.        ,  0.        ,  0.        ],\n        [-1.10302994,  0.81296112,  0.        , ...,  0.        ,  0.        ,  0.        ],\n        [-0.34450997,  0.57884969,  0.        , ...,  0.        ,  0.        ,  0.        ]],\n\n       [[-1.11826087,  0.5249623 ,  0.        , ...,  0.        ,  0.        ,  0.        ],\n        [-0.34132957,  0.08528878,  0.        , ...,  0.        ,  0.        ,  0.        ],\n        [ 0.29284364, -0.45527477,  0.        , ...,  0.        ,  0.        ,  0.        ],\n        ...,\n        [-1.10302994,  0.81296112,  0.        , ...,  0.        ,  0.        ,  0.        ],\n        [-0.34450997,  0.57884969,  0.        , ...,  0.        ,  0.        ,  0.        ],\n        [ 0.67694919,  0.38453273,  0.        , ...,  0.        ,  0.        ,  0.        ]]])"
     },
     "execution_count": 50,
     "metadata": {},
     "output_type": "execute_result"
    }
   ],
   "source": [
    "X_test"
   ],
   "metadata": {
    "collapsed": false,
    "pycharm": {
     "name": "#%%\n"
    }
   }
  },
  {
   "cell_type": "code",
   "execution_count": 51,
   "outputs": [
    {
     "data": {
      "text/plain": "array([0.        , 1.        , 0.        , ..., 0.        , 0.        , 1.66666667])"
     },
     "execution_count": 51,
     "metadata": {},
     "output_type": "execute_result"
    }
   ],
   "source": [
    "y_train"
   ],
   "metadata": {
    "collapsed": false,
    "pycharm": {
     "name": "#%%\n"
    }
   }
  },
  {
   "cell_type": "code",
   "execution_count": 52,
   "outputs": [
    {
     "data": {
      "text/plain": "array([0.76923077, 0.        , 0.        , 0.        , 0.        , 1.8       , 0.71428571, 0.        , 1.5       , 0.5       , 0.        , 0.        , 0.        , 0.71428571, 0.625     , 0.        , 2.        , 0.83333333, 0.        , 2.        , 0.        , 0.        , 0.        , 0.71428571, 0.        , 0.83333333, 0.        , 0.375     , 0.        , 0.        , 0.        , 1.66666667, 1.25      , 0.        , 0.        , 1.66666667, 1.        , 0.        , 0.        , 0.        , 0.        ,\n       0.        , 0.        , 2.        , 0.        , 0.        , 0.        , 0.        , 0.        , 0.35714286, 0.71428571, 0.625     , 0.83333333, 0.83333333, 1.        , 1.28571429, 1.66666667, 0.        , 0.        , 2.14285714, 0.        , 0.        , 0.        , 0.        , 0.        , 0.83333333, 0.        , 0.        , 0.        , 0.        , 0.75      , 0.        , 1.        , 0.        , 0.        , 0.        , 0.        , 0.        , 0.        , 0.        , 0.625     , 2.14285714,\n       0.625     , 0.        , 0.        , 0.        , 0.35714286, 2.5       , 0.        , 0.        , 1.5       , 0.        , 0.        , 0.        , 1.25      , 1.25      , 0.        , 0.        , 0.        , 0.35714286, 2.5       , 0.71428571, 0.85714286, 0.        , 1.        , 1.        , 0.71428571, 0.        , 1.28571429, 3.        , 0.        , 0.        , 0.5       , 1.        , 0.75      , 0.83333333, 0.        , 0.83333333, 0.        , 0.        , 0.        , 0.        , 1.        ,\n       1.        , 0.        , 3.75      , 0.        , 1.        , 0.3       , 0.35714286, 0.36585366, 1.        , 3.33333333, 1.25      , 1.5       , 0.        , 0.        , 1.66666667, 0.5       , 0.6       , 0.        , 0.        , 2.5       , 0.        , 0.        , 2.5       , 2.5       , 0.        , 0.        , 0.        , 0.        , 0.625     , 0.        , 1.875     , 0.        , 0.        , 0.        , 0.        , 1.03448276, 0.        , 0.        , 0.        , 0.        , 0.        ,\n       1.        , 1.        , 2.85714286, 1.66666667, 0.        , 3.75      , 0.        , 0.83333333, 0.        , 0.        , 2.        , 0.        , 0.        , 1.81818182, 0.625     , 0.        , 0.        , 0.        , 0.        , 0.5       , 0.        , 1.25      , 1.875     , 1.        , 0.35714286, 0.        , 0.5       , 0.        , 0.75      , 0.        , 0.        , 1.11111111, 0.        , 0.        , 0.        , 0.75      , 0.        , 0.        , 0.        , 0.        , 0.        ,\n       1.25      , 5.        , 0.        , 3.33333333, 0.        , 0.        , 1.25      , 0.83333333, 0.        , 0.        , 0.        , 0.        , 2.        , 0.71428571, 0.        , 2.        , 1.        , 0.        , 0.        , 0.75      , 3.        , 0.        , 0.        , 0.        , 0.        , 0.        , 1.25      , 0.        , 0.        , 0.        , 0.        , 1.66666667, 0.        , 0.625     , 0.        , 2.85714286, 0.        , 0.        , 0.        , 0.        , 2.5       ,\n       0.        , 0.        , 0.        , 0.        , 0.        , 0.        , 1.2       , 0.71428571, 0.        , 1.5       , 0.5       , 0.        , 0.        , 0.        , 0.71428571, 0.625     , 0.        , 3.        , 0.83333333, 0.        , 2.        , 0.        , 0.        , 0.        , 0.71428571, 0.        , 0.83333333, 0.        , 0.375     , 0.        , 0.        , 0.        , 1.66666667, 1.25      , 0.        , 0.        , 1.66666667, 1.        , 0.        , 0.        , 0.        ,\n       0.        , 0.33333333, 0.        , 2.        , 0.        , 0.        , 0.        , 0.        , 0.        , 0.35714286, 0.71428571, 0.625     , 0.83333333, 0.        , 1.        , 1.28571429, 1.66666667, 0.        , 0.        , 2.14285714, 0.        , 0.        , 0.        , 0.        , 0.55555556, 0.83333333, 0.        , 0.        , 0.        , 0.        , 0.75      , 0.        , 1.        , 0.        , 0.        , 0.        , 0.        , 0.        , 0.        , 0.        , 0.625     ,\n       2.14285714, 0.625     , 0.        , 0.        , 0.        , 0.35714286, 2.5       , 0.        , 0.        , 1.5       , 0.        , 0.        , 0.        , 1.25      , 1.25      , 0.        , 0.        , 0.        , 0.35714286, 2.5       , 0.71428571, 0.85714286, 0.        , 1.        , 1.        , 0.71428571, 0.        , 1.28571429, 4.        , 0.        , 0.        , 0.5       , 1.        , 0.75      , 0.83333333, 0.        , 0.83333333, 0.        , 0.        , 0.        , 0.        ,\n       1.        , 1.        , 0.        , 3.75      , 0.        , 1.        , 0.3       , 0.35714286, 0.36585366, 1.        , 3.33333333, 1.25      , 1.5       , 0.        , 0.        , 1.66666667, 0.5       , 0.6       , 0.        , 0.        , 2.5       , 0.        , 0.        , 2.5       , 1.66666667, 0.        , 0.        , 0.        , 0.        , 1.25      , 0.        , 1.875     , 0.        , 0.        , 0.        , 0.        , 1.03448276, 0.        , 0.        , 0.        , 0.        ,\n       0.        , 1.        , 1.        , 2.85714286, 1.66666667, 0.        , 3.75      , 0.        , 0.83333333, 0.        , 0.        , 2.        , 0.        , 0.        , 0.90909091, 0.625     , 0.        , 0.        , 0.        , 0.        , 0.5       , 0.        , 1.25      , 1.875     , 1.        , 0.35714286, 0.        , 0.5       , 0.55555556, 1.125     , 0.        , 0.        , 1.11111111, 0.        , 0.        , 0.        , 0.75      , 0.        , 0.        , 0.        , 0.        ,\n       0.        , 1.25      , 5.        , 0.        , 2.5       , 0.        , 0.        , 1.25      , 0.83333333, 0.        , 0.        , 0.        , 0.        , 2.        , 0.71428571, 0.        , 2.        , 1.        , 0.        , 0.        , 0.75      , 3.        , 0.        , 0.        , 0.        , 0.        , 0.        , 1.25      , 0.        , 0.        , 0.        , 0.        , 1.66666667, 0.        , 0.625     , 0.        , 2.85714286, 0.        , 0.        , 0.        , 0.        ,\n       2.5       , 0.        , 0.        , 0.        , 0.        , 0.        , 0.        , 0.6       , 0.71428571, 0.        , 1.5       , 0.5       , 0.        , 0.        , 0.        , 0.71428571, 0.625     , 0.        , 2.        , 0.83333333, 0.        , 2.        , 0.        , 1.5       , 0.        , 0.71428571, 0.        , 0.83333333, 0.        , 0.375     , 0.        , 0.625     , 0.        , 1.66666667, 1.25      , 0.        , 0.        , 1.66666667, 1.        , 0.        , 0.        ,\n       0.        , 0.        , 0.33333333, 0.        , 2.        , 0.        , 0.        , 0.71428571, 0.        , 0.        , 0.35714286, 0.71428571, 1.25      , 0.83333333, 0.        , 1.        , 1.71428571, 0.83333333, 0.        , 0.        , 2.14285714, 0.        , 0.        , 0.        , 0.        , 0.55555556, 0.83333333, 0.        , 0.        , 0.        , 0.        , 1.5       , 0.        , 1.        , 0.        , 0.        , 0.        , 0.625     , 0.        , 0.        , 0.        ,\n       0.625     , 2.14285714, 0.625     , 0.        , 0.        , 0.        , 0.35714286, 2.5       , 0.        , 0.        , 1.5       , 0.        , 0.        , 0.        , 1.25      , 1.25      , 0.        , 0.        , 0.        , 0.35714286, 0.5       , 0.71428571, 0.85714286, 0.        , 1.        , 1.        , 0.71428571, 0.        , 1.28571429, 4.        , 0.        , 0.        , 0.5       , 1.        , 0.        , 0.83333333, 0.        , 1.66666667, 0.        , 0.        , 0.45454545,\n       0.        , 1.5       , 1.        , 0.        , 3.75      , 0.        , 1.        , 0.3       , 0.35714286, 0.36585366, 1.        , 3.33333333, 1.25      , 1.5       , 0.        , 0.        , 1.66666667, 0.5       , 0.6       , 0.        , 1.25      , 2.5       , 0.        , 0.        , 2.5       , 1.66666667, 0.        , 0.        , 0.        , 0.        , 1.25      , 0.        , 1.25      , 0.        , 0.        , 0.        , 0.        , 1.03448276, 0.        , 0.        , 0.        ,\n       0.        ])"
     },
     "execution_count": 52,
     "metadata": {},
     "output_type": "execute_result"
    }
   ],
   "source": [
    "y_test"
   ],
   "metadata": {
    "collapsed": false,
    "pycharm": {
     "name": "#%%\n"
    }
   }
  },
  {
   "cell_type": "code",
   "execution_count": 53,
   "outputs": [
    {
     "name": "stdout",
     "output_type": "stream",
     "text": [
      "Epoch 1/20\n",
      "44/44 [==============================] - 3s 14ms/step - loss: 0.8633 - mean_squared_error: 0.8572 - mae: 0.6670 - val_loss: 1.0708 - val_mean_squared_error: 1.0608 - val_mae: 0.6862\n",
      "Epoch 2/20\n",
      "44/44 [==============================] - 0s 8ms/step - loss: 0.8211 - mean_squared_error: 0.8157 - mae: 0.6800 - val_loss: 1.0707 - val_mean_squared_error: 1.0608 - val_mae: 0.6791\n",
      "Epoch 3/20\n",
      "44/44 [==============================] - 0s 7ms/step - loss: 0.8117 - mean_squared_error: 0.8071 - mae: 0.6766 - val_loss: 1.0595 - val_mean_squared_error: 1.0503 - val_mae: 0.6777\n",
      "Epoch 4/20\n",
      "44/44 [==============================] - 0s 8ms/step - loss: 0.8021 - mean_squared_error: 0.7968 - mae: 0.6752 - val_loss: 1.0452 - val_mean_squared_error: 1.0356 - val_mae: 0.6818\n",
      "Epoch 5/20\n",
      "44/44 [==============================] - 0s 8ms/step - loss: 0.7997 - mean_squared_error: 0.7945 - mae: 0.6733 - val_loss: 1.0410 - val_mean_squared_error: 1.0313 - val_mae: 0.6825\n",
      "Epoch 6/20\n",
      "44/44 [==============================] - 0s 7ms/step - loss: 0.7928 - mean_squared_error: 0.7873 - mae: 0.6708 - val_loss: 1.0285 - val_mean_squared_error: 1.0193 - val_mae: 0.6859\n",
      "Epoch 7/20\n",
      "44/44 [==============================] - 0s 8ms/step - loss: 0.7933 - mean_squared_error: 0.7895 - mae: 0.6700 - val_loss: 1.0302 - val_mean_squared_error: 1.0209 - val_mae: 0.6813\n",
      "Epoch 8/20\n",
      "44/44 [==============================] - 0s 9ms/step - loss: 0.7911 - mean_squared_error: 0.7869 - mae: 0.6722 - val_loss: 1.0273 - val_mean_squared_error: 1.0182 - val_mae: 0.6817\n",
      "Epoch 9/20\n",
      "44/44 [==============================] - 0s 8ms/step - loss: 0.7947 - mean_squared_error: 0.7906 - mae: 0.6716 - val_loss: 1.0158 - val_mean_squared_error: 1.0064 - val_mae: 0.6807\n",
      "Epoch 10/20\n",
      "44/44 [==============================] - 0s 7ms/step - loss: 0.7902 - mean_squared_error: 0.7858 - mae: 0.6728 - val_loss: 1.0026 - val_mean_squared_error: 0.9930 - val_mae: 0.6873\n",
      "Epoch 11/20\n",
      "44/44 [==============================] - 0s 7ms/step - loss: 0.7792 - mean_squared_error: 0.7746 - mae: 0.6672 - val_loss: 1.0021 - val_mean_squared_error: 0.9925 - val_mae: 0.6849\n",
      "Epoch 12/20\n",
      "44/44 [==============================] - 0s 8ms/step - loss: 0.7801 - mean_squared_error: 0.7757 - mae: 0.6674 - val_loss: 1.0011 - val_mean_squared_error: 0.9913 - val_mae: 0.6816\n",
      "Epoch 13/20\n",
      "44/44 [==============================] - 0s 7ms/step - loss: 0.7807 - mean_squared_error: 0.7757 - mae: 0.6679 - val_loss: 0.9943 - val_mean_squared_error: 0.9846 - val_mae: 0.6800\n",
      "Epoch 14/20\n",
      "44/44 [==============================] - 0s 8ms/step - loss: 0.7813 - mean_squared_error: 0.7767 - mae: 0.6674 - val_loss: 0.9867 - val_mean_squared_error: 0.9768 - val_mae: 0.6770\n",
      "Epoch 15/20\n",
      "44/44 [==============================] - 0s 8ms/step - loss: 0.7753 - mean_squared_error: 0.7711 - mae: 0.6657 - val_loss: 0.9769 - val_mean_squared_error: 0.9673 - val_mae: 0.6829\n",
      "Epoch 16/20\n",
      "44/44 [==============================] - 0s 8ms/step - loss: 0.7751 - mean_squared_error: 0.7708 - mae: 0.6652 - val_loss: 0.9652 - val_mean_squared_error: 0.9557 - val_mae: 0.6843\n",
      "Epoch 17/20\n",
      "44/44 [==============================] - 0s 8ms/step - loss: 0.7720 - mean_squared_error: 0.7676 - mae: 0.6654 - val_loss: 0.9740 - val_mean_squared_error: 0.9645 - val_mae: 0.6913\n",
      "Epoch 18/20\n",
      "44/44 [==============================] - 0s 7ms/step - loss: 0.7701 - mean_squared_error: 0.7649 - mae: 0.6624 - val_loss: 0.9599 - val_mean_squared_error: 0.9505 - val_mae: 0.6880\n",
      "Epoch 19/20\n",
      "44/44 [==============================] - 0s 7ms/step - loss: 0.7725 - mean_squared_error: 0.7680 - mae: 0.6652 - val_loss: 0.9624 - val_mean_squared_error: 0.9531 - val_mae: 0.6863\n",
      "Epoch 20/20\n",
      "44/44 [==============================] - 0s 7ms/step - loss: 0.7709 - mean_squared_error: 0.7663 - mae: 0.6631 - val_loss: 0.9624 - val_mean_squared_error: 0.9529 - val_mae: 0.6832\n"
     ]
    }
   ],
   "source": [
    "model = keras.Sequential()\n",
    "model.add(\n",
    "    keras.layers.LSTM(\n",
    "        units=50,\n",
    "        dropout=0.5,\n",
    "        recurrent_dropout=0.2,\n",
    "        input_shape=(X_train.shape[1], X_train.shape[2])\n",
    "    )\n",
    ")\n",
    "\n",
    "model.add(keras.layers.Dense(units=1, activation=\"linear\"))\n",
    "\n",
    "model.compile(loss='mse', optimizer='rmsprop',metrics=[tf.keras.losses.MeanSquaredError(),'mae'])\n",
    "\n",
    "history = model.fit(\n",
    "    X_train, y_train,\n",
    "    epochs=20,\n",
    "    batch_size=32,\n",
    "    validation_split=0.1,\n",
    "    shuffle=False\n",
    ")"
   ],
   "metadata": {
    "collapsed": false,
    "pycharm": {
     "name": "#%%\n"
    }
   }
  },
  {
   "cell_type": "code",
   "execution_count": 54,
   "outputs": [
    {
     "name": "stdout",
     "output_type": "stream",
     "text": [
      "49/49 [==============================] - 0s 2ms/step - loss: 0.7603 - mean_squared_error: 0.7545 - mae: 0.6540\n",
      "21/21 [==============================] - 0s 2ms/step - loss: 0.6981 - mean_squared_error: 0.6917 - mae: 0.6046\n"
     ]
    },
    {
     "data": {
      "text/plain": "0.0627676248550415"
     },
     "execution_count": 54,
     "metadata": {},
     "output_type": "execute_result"
    }
   ],
   "source": [
    "np.abs(model.evaluate(X_train, y_train)[1]-model.evaluate(X_test, y_test)[1])"
   ],
   "metadata": {
    "collapsed": false,
    "pycharm": {
     "name": "#%%\n"
    }
   }
  },
  {
   "cell_type": "code",
   "execution_count": 55,
   "outputs": [
    {
     "data": {
      "text/plain": "<Figure size 432x288 with 1 Axes>",
      "image/png": "[encoded data removed]"
     },
     "metadata": {
      "needs_background": "light"
     },
     "output_type": "display_data"
    }
   ],
   "source": [
    "plt.plot(history.history['loss'], label='train')\n",
    "plt.plot(history.history['val_mean_squared_error'], label='train')\n",
    "plt.legend();"
   ],
   "metadata": {
    "collapsed": false,
    "pycharm": {
     "name": "#%%\n"
    }
   }
  },
  {
   "cell_type": "code",
   "execution_count": 56,
   "outputs": [],
   "source": [
    "y_pred = model.predict(X_test)"
   ],
   "metadata": {
    "collapsed": false,
    "pycharm": {
     "name": "#%%\n"
    }
   }
  },
  {
   "cell_type": "code",
   "execution_count": 57,
   "outputs": [
    {
     "data": {
      "text/plain": "<Figure size 432x288 with 1 Axes>",
      "image/png": "[encoded data removed]"
     },
     "metadata": {
      "needs_background": "light"
     },
     "output_type": "display_data"
    }
   ],
   "source": [
    "plt.plot(y_test, marker='.', label=\"true\")\n",
    "plt.plot(y_pred, 'r', label=\"prediction\")\n",
    "plt.ylabel('Bike Availability')\n",
    "plt.xlabel('Time Step')\n",
    "plt.legend()\n",
    "plt.show();"
   ],
   "metadata": {
    "collapsed": false,
    "pycharm": {
     "name": "#%%\n"
    }
   }
  },
  {
   "cell_type": "code",
   "execution_count": 58,
   "outputs": [
    {
     "name": "stdout",
     "output_type": "stream",
     "text": [
      "Mean Absolute Error: 0.6045798879391192\n"
     ]
    }
   ],
   "source": [
    "print(\"Mean Absolute Error:\", metrics.mean_absolute_error(y_test, y_pred, sample_weight=None, multioutput=\"uniform_average\"))"
   ],
   "metadata": {
    "collapsed": false,
    "pycharm": {
     "name": "#%%\n"
    }
   }
  },
  {
   "cell_type": "code",
   "execution_count": 58,
   "outputs": [],
   "source": [],
   "metadata": {
    "collapsed": false,
    "pycharm": {
     "name": "#%%\n"
    }
   }
  }
 ],
 "metadata": {
  "kernelspec": {
   "display_name": "Python 3",
   "language": "python",
   "name": "python3"
  },
  "language_info": {
   "codemirror_mode": {
    "name": "ipython",
    "version": 2
   },
   "file_extension": ".py",
   "mimetype": "text/x-python",
   "name": "python",
   "nbconvert_exporter": "python",
   "pygments_lexer": "ipython2",
   "version": "2.7.6"
  }
 },
 "nbformat": 4,
 "nbformat_minor": 0
}