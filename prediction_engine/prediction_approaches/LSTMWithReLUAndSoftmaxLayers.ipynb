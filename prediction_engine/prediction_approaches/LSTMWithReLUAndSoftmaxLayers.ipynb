{
 "cells": [
  {
   "cell_type": "code",
   "execution_count": 69,
   "outputs": [],
   "source": [
    "import keras as keras\n",
    "import pandas as pd\n",
    "import numpy as np\n",
    "from sklearn.preprocessing import RobustScaler\n",
    "import matplotlib.pyplot as plt"
   ],
   "metadata": {
    "collapsed": false,
    "pycharm": {
     "name": "#%%\n"
    }
   }
  },
  {
   "cell_type": "code",
   "execution_count": 70,
   "outputs": [
    {
     "data": {
      "text/plain": "   is_installed  is_renting  is_returning  longitude  latitude  ...  record_timestamp_minute_21  record_timestamp_minute_46  record_timestamp_minute_50  record_timestamp_minute_51  record_timestamp_second_0\n0             1           1             1   0.023661  0.488710  ...                           0                           1                           0                           0                          1\n1             1           1             1   0.023360  0.488375  ...                           0                           1                           0                           0                          1\n2             1           1             1   0.023520  0.488439  ...                           0                           1                           0                           0                          1\n3             1           1             1   0.023851  0.489104  ...                           0                           1                           0                           0                          1\n4             1           1             1   0.023768  0.488158  ...                           0                           1                           0                           0                          1\n\n[5 rows x 23 columns]",
      "text/html": "<div>\n<style scoped>\n    .dataframe tbody tr th:only-of-type {\n        vertical-align: middle;\n    }\n\n    .dataframe tbody tr th {\n        vertical-align: top;\n    }\n\n    .dataframe thead th {\n        text-align: right;\n    }\n</style>\n<table border=\"1\" class=\"dataframe\">\n  <thead>\n    <tr style=\"text-align: right;\">\n      <th></th>\n      <th>is_installed</th>\n      <th>is_renting</th>\n      <th>is_returning</th>\n      <th>longitude</th>\n      <th>latitude</th>\n      <th>...</th>\n      <th>record_timestamp_minute_21</th>\n      <th>record_timestamp_minute_46</th>\n      <th>record_timestamp_minute_50</th>\n      <th>record_timestamp_minute_51</th>\n      <th>record_timestamp_second_0</th>\n    </tr>\n  </thead>\n  <tbody>\n    <tr>\n      <th>0</th>\n      <td>1</td>\n      <td>1</td>\n      <td>1</td>\n      <td>0.023661</td>\n      <td>0.488710</td>\n      <td>...</td>\n      <td>0</td>\n      <td>1</td>\n      <td>0</td>\n      <td>0</td>\n      <td>1</td>\n    </tr>\n    <tr>\n      <th>1</th>\n      <td>1</td>\n      <td>1</td>\n      <td>1</td>\n      <td>0.023360</td>\n      <td>0.488375</td>\n      <td>...</td>\n      <td>0</td>\n      <td>1</td>\n      <td>0</td>\n      <td>0</td>\n      <td>1</td>\n    </tr>\n    <tr>\n      <th>2</th>\n      <td>1</td>\n      <td>1</td>\n      <td>1</td>\n      <td>0.023520</td>\n      <td>0.488439</td>\n      <td>...</td>\n      <td>0</td>\n      <td>1</td>\n      <td>0</td>\n      <td>0</td>\n      <td>1</td>\n    </tr>\n    <tr>\n      <th>3</th>\n      <td>1</td>\n      <td>1</td>\n      <td>1</td>\n      <td>0.023851</td>\n      <td>0.489104</td>\n      <td>...</td>\n      <td>0</td>\n      <td>1</td>\n      <td>0</td>\n      <td>0</td>\n      <td>1</td>\n    </tr>\n    <tr>\n      <th>4</th>\n      <td>1</td>\n      <td>1</td>\n      <td>1</td>\n      <td>0.023768</td>\n      <td>0.488158</td>\n      <td>...</td>\n      <td>0</td>\n      <td>1</td>\n      <td>0</td>\n      <td>0</td>\n      <td>1</td>\n    </tr>\n  </tbody>\n</table>\n<p>5 rows × 23 columns</p>\n</div>"
     },
     "execution_count": 70,
     "metadata": {},
     "output_type": "execute_result"
    }
   ],
   "source": [
    "pd.set_option('display.width', 500)\n",
    "np.set_printoptions(linewidth=500)\n",
    "pd.set_option('display.max_columns', 10)\n",
    "\n",
    "df = pd.read_csv(\n",
    "    \"../../dataset_building/paris_velib_dataset_preprocessed.csv\",\n",
    "    index_col=False\n",
    ")\n",
    "\n",
    "df.shape\n",
    "\n",
    "df.head()"
   ],
   "metadata": {
    "collapsed": false,
    "pycharm": {
     "name": "#%%\n"
    }
   }
  },
  {
   "cell_type": "code",
   "execution_count": 71,
   "outputs": [
    {
     "name": "stdout",
     "output_type": "stream",
     "text": [
      "21817 2425\n"
     ]
    }
   ],
   "source": [
    "# 10% of data for training\n",
    "train_size = int(len(df) * 0.9)\n",
    "test_size = len(df) - train_size\n",
    "train, test = df.iloc[0:train_size], df.iloc[train_size:len(df)]\n",
    "print(len(train), len(test))"
   ],
   "metadata": {
    "collapsed": false,
    "pycharm": {
     "name": "#%%\n"
    }
   }
  },
  {
   "cell_type": "code",
   "execution_count": 72,
   "outputs": [
    {
     "name": "stderr",
     "output_type": "stream",
     "text": [
      "C:\\Users\\teoma\\PycharmProjects\\RealtimePredictionBikeTerminalAvailability\\venv\\lib\\site-packages\\pandas\\core\\indexing.py:1835: SettingWithCopyWarning: \n",
      "A value is trying to be set on a copy of a slice from a DataFrame.\n",
      "Try using .loc[row_indexer,col_indexer] = value instead\n",
      "\n",
      "See the caveats in the documentation: https://pandas.pydata.org/pandas-docs/stable/user_guide/indexing.html#returning-a-view-versus-a-copy\n",
      "  self._setitem_single_column(loc, value[:, i].tolist(), pi)\n",
      "C:\\Users\\teoma\\PycharmProjects\\RealtimePredictionBikeTerminalAvailability\\venv\\lib\\site-packages\\pandas\\core\\indexing.py:1835: SettingWithCopyWarning: \n",
      "A value is trying to be set on a copy of a slice from a DataFrame.\n",
      "Try using .loc[row_indexer,col_indexer] = value instead\n",
      "\n",
      "See the caveats in the documentation: https://pandas.pydata.org/pandas-docs/stable/user_guide/indexing.html#returning-a-view-versus-a-copy\n",
      "  self._setitem_single_column(loc, value[:, i].tolist(), pi)\n",
      "C:\\Users\\teoma\\PycharmProjects\\RealtimePredictionBikeTerminalAvailability\\venv\\lib\\site-packages\\pandas\\core\\indexing.py:1732: SettingWithCopyWarning: \n",
      "A value is trying to be set on a copy of a slice from a DataFrame\n",
      "\n",
      "See the caveats in the documentation: https://pandas.pydata.org/pandas-docs/stable/user_guide/indexing.html#returning-a-view-versus-a-copy\n",
      "  self._setitem_single_block(indexer, value, name)\n",
      "C:\\Users\\teoma\\PycharmProjects\\RealtimePredictionBikeTerminalAvailability\\venv\\lib\\site-packages\\pandas\\core\\indexing.py:723: SettingWithCopyWarning: \n",
      "A value is trying to be set on a copy of a slice from a DataFrame\n",
      "\n",
      "See the caveats in the documentation: https://pandas.pydata.org/pandas-docs/stable/user_guide/indexing.html#returning-a-view-versus-a-copy\n",
      "  iloc._setitem_with_indexer(indexer, value, self.name)\n",
      "C:\\Users\\teoma\\PycharmProjects\\RealtimePredictionBikeTerminalAvailability\\venv\\lib\\site-packages\\pandas\\core\\indexing.py:1732: SettingWithCopyWarning: \n",
      "A value is trying to be set on a copy of a slice from a DataFrame\n",
      "\n",
      "See the caveats in the documentation: https://pandas.pydata.org/pandas-docs/stable/user_guide/indexing.html#returning-a-view-versus-a-copy\n",
      "  self._setitem_single_block(indexer, value, name)\n",
      "C:\\Users\\teoma\\PycharmProjects\\RealtimePredictionBikeTerminalAvailability\\venv\\lib\\site-packages\\pandas\\core\\indexing.py:723: SettingWithCopyWarning: \n",
      "A value is trying to be set on a copy of a slice from a DataFrame\n",
      "\n",
      "See the caveats in the documentation: https://pandas.pydata.org/pandas-docs/stable/user_guide/indexing.html#returning-a-view-versus-a-copy\n",
      "  iloc._setitem_with_indexer(indexer, value, self.name)\n"
     ]
    }
   ],
   "source": [
    "feature_columns = list(df.columns)\n",
    "feature_columns.remove('bike_availability_ratio')\n",
    "\n",
    "f_columns = feature_columns\n",
    "f_transformer = RobustScaler()\n",
    "f_transformer = f_transformer.fit(train[f_columns].to_numpy())\n",
    "train.loc[:, f_columns] = f_transformer.transform(\n",
    "    train[f_columns].to_numpy()\n",
    ")\n",
    "test.loc[:, f_columns] = f_transformer.transform(\n",
    "    test[f_columns].to_numpy()\n",
    ")\n",
    "\n",
    "bike_availability_col = ['bike_availability_ratio']\n",
    "availability_transformer = RobustScaler()\n",
    "availability_transformer = availability_transformer.fit(train[bike_availability_col])\n",
    "train.loc[:, bike_availability_col] = availability_transformer.transform(\n",
    "    train[bike_availability_col]\n",
    ")\n",
    "test.loc[:, bike_availability_col] = availability_transformer.transform(\n",
    "    test[bike_availability_col]\n",
    ")"
   ],
   "metadata": {
    "collapsed": false,
    "pycharm": {
     "name": "#%%\n"
    }
   }
  },
  {
   "cell_type": "code",
   "execution_count": 73,
   "outputs": [],
   "source": [
    "def create_dataset(X, y, time_steps=1):\n",
    "    Xs, ys = [], []\n",
    "    for i in range(len(X) - time_steps):\n",
    "        v = X.iloc[i:(i + time_steps)].values\n",
    "        Xs.append(v)\n",
    "        ys.append(y.iloc[i + time_steps])\n",
    "    return np.array(Xs), np.array(ys)"
   ],
   "metadata": {
    "collapsed": false,
    "pycharm": {
     "name": "#%%\n"
    }
   }
  },
  {
   "cell_type": "code",
   "execution_count": 98,
   "outputs": [
    {
     "name": "stdout",
     "output_type": "stream",
     "text": [
      "(21807, 10, 23) (21807,)\n",
      "Epoch 1/50\n",
      "614/614 [==============================] - 8s 10ms/step - loss: 0.3771 - val_loss: 0.3658\n",
      "Epoch 2/50\n",
      "614/614 [==============================] - 5s 9ms/step - loss: 0.3727 - val_loss: 0.3683\n",
      "Epoch 3/50\n",
      "614/614 [==============================] - 5s 9ms/step - loss: 0.3713 - val_loss: 0.3672\n",
      "Epoch 4/50\n",
      "614/614 [==============================] - 5s 9ms/step - loss: 0.3697 - val_loss: 0.3678\n",
      "Epoch 5/50\n",
      "614/614 [==============================] - 6s 9ms/step - loss: 0.3687 - val_loss: 0.3677\n",
      "Epoch 6/50\n",
      "614/614 [==============================] - 7s 11ms/step - loss: 0.3678 - val_loss: 0.3668\n",
      "Epoch 7/50\n",
      "614/614 [==============================] - 8s 13ms/step - loss: 0.3660 - val_loss: 0.3666\n",
      "Epoch 8/50\n",
      "614/614 [==============================] - 7s 11ms/step - loss: 0.3642 - val_loss: 0.3671\n",
      "Epoch 9/50\n",
      "614/614 [==============================] - 6s 10ms/step - loss: 0.3624 - val_loss: 0.3668\n",
      "Epoch 10/50\n",
      "614/614 [==============================] - 6s 10ms/step - loss: 0.3602 - val_loss: 0.3673\n",
      "Epoch 11/50\n",
      "614/614 [==============================] - 7s 11ms/step - loss: 0.3574 - val_loss: 0.3675\n",
      "Epoch 12/50\n",
      "614/614 [==============================] - 6s 9ms/step - loss: 0.3555 - val_loss: 0.3686\n",
      "Epoch 13/50\n",
      "614/614 [==============================] - 6s 9ms/step - loss: 0.3530 - val_loss: 0.3725\n",
      "Epoch 14/50\n",
      "614/614 [==============================] - 6s 9ms/step - loss: 0.3499 - val_loss: 0.3760\n",
      "Epoch 15/50\n",
      "614/614 [==============================] - 6s 9ms/step - loss: 0.3457 - val_loss: 0.3785\n",
      "Epoch 16/50\n",
      "614/614 [==============================] - 6s 9ms/step - loss: 0.3412 - val_loss: 0.3826\n",
      "Epoch 17/50\n",
      "614/614 [==============================] - 6s 10ms/step - loss: 0.3378 - val_loss: 0.3878\n",
      "Epoch 18/50\n",
      "614/614 [==============================] - 6s 10ms/step - loss: 0.3317 - val_loss: 0.3992\n",
      "Epoch 19/50\n",
      "614/614 [==============================] - 6s 10ms/step - loss: 0.3258 - val_loss: 0.4094\n",
      "Epoch 20/50\n",
      "614/614 [==============================] - 6s 9ms/step - loss: 0.3182 - val_loss: 0.4156\n",
      "Epoch 21/50\n",
      "614/614 [==============================] - 6s 10ms/step - loss: 0.3099 - val_loss: 0.4120\n",
      "Epoch 22/50\n",
      "614/614 [==============================] - 6s 11ms/step - loss: 0.3002 - val_loss: 0.4229\n",
      "Epoch 23/50\n",
      "614/614 [==============================] - 6s 10ms/step - loss: 0.2893 - val_loss: 0.4346\n",
      "Epoch 24/50\n",
      "614/614 [==============================] - 6s 10ms/step - loss: 0.2784 - val_loss: 0.4362\n",
      "Epoch 25/50\n",
      "614/614 [==============================] - 6s 10ms/step - loss: 0.2656 - val_loss: 0.4418\n",
      "Epoch 26/50\n",
      "614/614 [==============================] - 6s 10ms/step - loss: 0.2549 - val_loss: 0.4653\n",
      "Epoch 27/50\n",
      "614/614 [==============================] - 6s 10ms/step - loss: 0.2398 - val_loss: 0.4748\n",
      "Epoch 28/50\n",
      "614/614 [==============================] - 6s 10ms/step - loss: 0.2271 - val_loss: 0.4938\n",
      "Epoch 29/50\n",
      "614/614 [==============================] - 8s 12ms/step - loss: 0.2118 - val_loss: 0.5184\n",
      "Epoch 30/50\n",
      "614/614 [==============================] - 7s 11ms/step - loss: 0.1979 - val_loss: 0.5307\n",
      "Epoch 31/50\n",
      "614/614 [==============================] - 7s 11ms/step - loss: 0.1843 - val_loss: 0.5361\n",
      "Epoch 32/50\n",
      "614/614 [==============================] - 7s 11ms/step - loss: 0.1694 - val_loss: 0.5417\n",
      "Epoch 33/50\n",
      "614/614 [==============================] - 6s 10ms/step - loss: 0.1561 - val_loss: 0.5463\n",
      "Epoch 34/50\n",
      "614/614 [==============================] - 8s 12ms/step - loss: 0.1420 - val_loss: 0.5711\n",
      "Epoch 35/50\n",
      "614/614 [==============================] - 6s 10ms/step - loss: 0.1312 - val_loss: 0.5861\n",
      "Epoch 36/50\n",
      "614/614 [==============================] - 6s 10ms/step - loss: 0.1196 - val_loss: 0.5730\n",
      "Epoch 37/50\n",
      "614/614 [==============================] - 6s 9ms/step - loss: 0.1096 - val_loss: 0.5863\n",
      "Epoch 38/50\n",
      "614/614 [==============================] - 6s 9ms/step - loss: 0.1008 - val_loss: 0.5963\n",
      "Epoch 39/50\n",
      "614/614 [==============================] - 6s 10ms/step - loss: 0.0921 - val_loss: 0.5992\n",
      "Epoch 40/50\n",
      "614/614 [==============================] - 7s 11ms/step - loss: 0.0842 - val_loss: 0.5921\n",
      "Epoch 41/50\n",
      "614/614 [==============================] - 9s 14ms/step - loss: 0.0792 - val_loss: 0.5962\n",
      "Epoch 42/50\n",
      "614/614 [==============================] - 8s 13ms/step - loss: 0.0737 - val_loss: 0.5937\n",
      "Epoch 43/50\n",
      "614/614 [==============================] - 7s 11ms/step - loss: 0.0694 - val_loss: 0.6071\n",
      "Epoch 44/50\n",
      "614/614 [==============================] - 8s 13ms/step - loss: 0.0644 - val_loss: 0.6108\n",
      "Epoch 45/50\n",
      "614/614 [==============================] - 6s 10ms/step - loss: 0.0608 - val_loss: 0.5989\n",
      "Epoch 46/50\n",
      "614/614 [==============================] - 6s 10ms/step - loss: 0.0595 - val_loss: 0.5967\n",
      "Epoch 47/50\n",
      "614/614 [==============================] - 6s 10ms/step - loss: 0.0549 - val_loss: 0.6053\n",
      "Epoch 48/50\n",
      "614/614 [==============================] - 7s 11ms/step - loss: 0.0524 - val_loss: 0.5919\n",
      "Epoch 49/50\n",
      "614/614 [==============================] - 7s 11ms/step - loss: 0.0499 - val_loss: 0.5930\n",
      "Epoch 50/50\n",
      "614/614 [==============================] - 7s 11ms/step - loss: 0.0481 - val_loss: 0.5951\n"
     ]
    }
   ],
   "source": [
    "time_steps = 10\n",
    "X_train, y_train = create_dataset(train, train.bike_availability_ratio, time_steps)\n",
    "X_test, y_test = create_dataset(test, test.bike_availability_ratio, time_steps)\n",
    "print(X_train.shape, y_train.shape)\n",
    "\n",
    "model = keras.Sequential()\n",
    "model.add(\n",
    "    keras.layers.Bidirectional(\n",
    "        keras.layers.LSTM(\n",
    "            units=128,\n",
    "            input_shape=(X_train.shape[1], X_train.shape[2])\n",
    "        )\n",
    "    )\n",
    ")\n",
    "model.add(keras.layers.Dropout(rate=0.2))\n",
    "model.add(keras.layers.Dense(units=1))\n",
    "#model.add(keras.layers.Dense(256, input_dim=22, activation='relu'))\n",
    "#model.add(keras.layers.Dense(6, activation='softmax'))\n",
    "\n",
    "model.compile(loss='mean_squared_error', optimizer='adam')\n",
    "\n",
    "history = model.fit(\n",
    "    X_train, y_train,\n",
    "    epochs=50,\n",
    "    batch_size=32,\n",
    "    validation_split=0.1,\n",
    "    shuffle=False\n",
    ")"
   ],
   "metadata": {
    "collapsed": false,
    "pycharm": {
     "name": "#%%\n"
    }
   }
  },
  {
   "cell_type": "code",
   "execution_count": 99,
   "outputs": [
    {
     "data": {
      "text/plain": "<Figure size 432x288 with 1 Axes>",
      "image/png": "[encoded data removed]"
     },
     "metadata": {
      "needs_background": "light"
     },
     "output_type": "display_data"
    }
   ],
   "source": [
    "plt.plot(history.history['loss'], label='train')\n",
    "plt.plot(history.history['val_loss'], label='test')\n",
    "plt.legend();"
   ],
   "metadata": {
    "collapsed": false,
    "pycharm": {
     "name": "#%%\n"
    }
   }
  },
  {
   "cell_type": "code",
   "execution_count": 100,
   "outputs": [],
   "source": [
    "y_pred = model.predict(X_test)"
   ],
   "metadata": {
    "collapsed": false,
    "pycharm": {
     "name": "#%%\n"
    }
   }
  },
  {
   "cell_type": "code",
   "execution_count": 101,
   "outputs": [],
   "source": [
    "y_train_inv = availability_transformer.inverse_transform(y_train.reshape(1, -1))\n",
    "y_test_inv = availability_transformer.inverse_transform(y_test.reshape(1, -1))\n",
    "y_pred_inv = availability_transformer.inverse_transform(y_pred)"
   ],
   "metadata": {
    "collapsed": false,
    "pycharm": {
     "name": "#%%\n"
    }
   }
  },
  {
   "cell_type": "code",
   "execution_count": 102,
   "outputs": [
    {
     "data": {
      "text/plain": "<Figure size 432x288 with 1 Axes>",
      "image/png": "[encoded data removed]"
     },
     "metadata": {
      "needs_background": "light"
     },
     "output_type": "display_data"
    }
   ],
   "source": [
    "plt.plot(y_test_inv.flatten(), marker='.', label=\"true\")\n",
    "plt.plot(y_pred_inv.flatten(), 'r', label=\"prediction\")\n",
    "plt.ylabel('Bike Availability')\n",
    "plt.xlabel('Time Step')\n",
    "plt.legend()\n",
    "plt.show();"
   ],
   "metadata": {
    "collapsed": false,
    "pycharm": {
     "name": "#%%\n"
    }
   }
  },
  {
   "cell_type": "code",
   "execution_count": 103,
   "outputs": [],
   "source": [
    "def get_mean_absolute_deviations(predictions,actual_values):\n",
    "    \"\"\" Compute the mean absolute deviations of predictions vs actual test set values\n",
    "\n",
    "        Arguments:\n",
    "        * predictions: Our Model's predictions\n",
    "        * actual_values: Test set output\n",
    "\n",
    "    \"\"\"\n",
    "\n",
    "    # Convert numpy arrays to data frame as pandas as mean absolute deviation function we want to use\n",
    "    predictions_dataframe = pd.DataFrame(data = predictions.flatten())\n",
    "    actual_test_set_values_dataframe = pd.DataFrame(data=actual_values.flatten())\n",
    "\n",
    "    print(\"LSTM model prediction's Mean Absolute Deviation is \", predictions_dataframe.mad()[0])\n",
    "    print(\"Test set's Mean Absolute Deviation is\", actual_test_set_values_dataframe.mad()[0])"
   ],
   "metadata": {
    "collapsed": false,
    "pycharm": {
     "name": "#%%\n"
    }
   }
  },
  {
   "cell_type": "code",
   "execution_count": 104,
   "outputs": [
    {
     "name": "stdout",
     "output_type": "stream",
     "text": [
      "LSTM model prediction's Mean Absolute Deviation is  0.1102775\n",
      "Test set's Mean Absolute Deviation is 0.1477288753451784\n"
     ]
    }
   ],
   "source": [
    "get_mean_absolute_deviations(y_pred_inv,y_test_inv)"
   ],
   "metadata": {
    "collapsed": false,
    "pycharm": {
     "name": "#%%\n"
    }
   }
  },
  {
   "cell_type": "code",
   "execution_count": 80,
   "outputs": [],
   "source": [],
   "metadata": {
    "collapsed": false,
    "pycharm": {
     "name": "#%%\n"
    }
   }
  }
 ],
 "metadata": {
  "kernelspec": {
   "display_name": "Python 3",
   "language": "python",
   "name": "python3"
  },
  "language_info": {
   "codemirror_mode": {
    "name": "ipython",
    "version": 2
   },
   "file_extension": ".py",
   "mimetype": "text/x-python",
   "name": "python",
   "nbconvert_exporter": "python",
   "pygments_lexer": "ipython2",
   "version": "2.7.6"
  }
 },
 "nbformat": 4,
 "nbformat_minor": 0
}