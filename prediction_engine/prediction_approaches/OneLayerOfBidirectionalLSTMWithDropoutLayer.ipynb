{
 "cells": [
  {
   "cell_type": "code",
   "execution_count": 1,
   "outputs": [],
   "source": [
    "import keras as keras\n",
    "import pandas as pd\n",
    "import numpy as np\n",
    "from sklearn.preprocessing import RobustScaler\n",
    "import matplotlib.pyplot as plt"
   ],
   "metadata": {
    "collapsed": false,
    "pycharm": {
     "name": "#%%\n"
    }
   }
  },
  {
   "cell_type": "code",
   "execution_count": 2,
   "outputs": [
    {
     "data": {
      "text/plain": "   is_installed  is_renting  is_returning  longitude  latitude  ...  record_timestamp_minute_21  record_timestamp_minute_46  record_timestamp_minute_50  record_timestamp_minute_51  record_timestamp_second_0\n0             1           1             1   0.023661  0.488710  ...                           0                           1                           0                           0                          1\n1             1           1             1   0.023360  0.488375  ...                           0                           1                           0                           0                          1\n2             1           1             1   0.023520  0.488439  ...                           0                           1                           0                           0                          1\n3             1           1             1   0.023851  0.489104  ...                           0                           1                           0                           0                          1\n4             1           1             1   0.023768  0.488158  ...                           0                           1                           0                           0                          1\n\n[5 rows x 23 columns]",
      "text/html": "<div>\n<style scoped>\n    .dataframe tbody tr th:only-of-type {\n        vertical-align: middle;\n    }\n\n    .dataframe tbody tr th {\n        vertical-align: top;\n    }\n\n    .dataframe thead th {\n        text-align: right;\n    }\n</style>\n<table border=\"1\" class=\"dataframe\">\n  <thead>\n    <tr style=\"text-align: right;\">\n      <th></th>\n      <th>is_installed</th>\n      <th>is_renting</th>\n      <th>is_returning</th>\n      <th>longitude</th>\n      <th>latitude</th>\n      <th>...</th>\n      <th>record_timestamp_minute_21</th>\n      <th>record_timestamp_minute_46</th>\n      <th>record_timestamp_minute_50</th>\n      <th>record_timestamp_minute_51</th>\n      <th>record_timestamp_second_0</th>\n    </tr>\n  </thead>\n  <tbody>\n    <tr>\n      <th>0</th>\n      <td>1</td>\n      <td>1</td>\n      <td>1</td>\n      <td>0.023661</td>\n      <td>0.488710</td>\n      <td>...</td>\n      <td>0</td>\n      <td>1</td>\n      <td>0</td>\n      <td>0</td>\n      <td>1</td>\n    </tr>\n    <tr>\n      <th>1</th>\n      <td>1</td>\n      <td>1</td>\n      <td>1</td>\n      <td>0.023360</td>\n      <td>0.488375</td>\n      <td>...</td>\n      <td>0</td>\n      <td>1</td>\n      <td>0</td>\n      <td>0</td>\n      <td>1</td>\n    </tr>\n    <tr>\n      <th>2</th>\n      <td>1</td>\n      <td>1</td>\n      <td>1</td>\n      <td>0.023520</td>\n      <td>0.488439</td>\n      <td>...</td>\n      <td>0</td>\n      <td>1</td>\n      <td>0</td>\n      <td>0</td>\n      <td>1</td>\n    </tr>\n    <tr>\n      <th>3</th>\n      <td>1</td>\n      <td>1</td>\n      <td>1</td>\n      <td>0.023851</td>\n      <td>0.489104</td>\n      <td>...</td>\n      <td>0</td>\n      <td>1</td>\n      <td>0</td>\n      <td>0</td>\n      <td>1</td>\n    </tr>\n    <tr>\n      <th>4</th>\n      <td>1</td>\n      <td>1</td>\n      <td>1</td>\n      <td>0.023768</td>\n      <td>0.488158</td>\n      <td>...</td>\n      <td>0</td>\n      <td>1</td>\n      <td>0</td>\n      <td>0</td>\n      <td>1</td>\n    </tr>\n  </tbody>\n</table>\n<p>5 rows × 23 columns</p>\n</div>"
     },
     "execution_count": 2,
     "metadata": {},
     "output_type": "execute_result"
    }
   ],
   "source": [
    "pd.set_option('display.width', 500)\n",
    "np.set_printoptions(linewidth=500)\n",
    "pd.set_option('display.max_columns', 10)\n",
    "\n",
    "df = pd.read_csv(\n",
    "    \"../../dataset_building/paris_velib_dataset_preprocessed.csv\",\n",
    "    index_col=False\n",
    ")\n",
    "\n",
    "df.shape\n",
    "\n",
    "df.head()"
   ],
   "metadata": {
    "collapsed": false,
    "pycharm": {
     "name": "#%%\n"
    }
   }
  },
  {
   "cell_type": "code",
   "execution_count": 3,
   "outputs": [
    {
     "name": "stdout",
     "output_type": "stream",
     "text": [
      "21817 2425\n"
     ]
    }
   ],
   "source": [
    "# 10% of data for training\n",
    "train_size = int(len(df) * 0.9)\n",
    "test_size = len(df) - train_size\n",
    "train, test = df.iloc[0:train_size], df.iloc[train_size:len(df)]\n",
    "print(len(train), len(test))"
   ],
   "metadata": {
    "collapsed": false,
    "pycharm": {
     "name": "#%%\n"
    }
   }
  },
  {
   "cell_type": "code",
   "execution_count": 4,
   "outputs": [
    {
     "name": "stderr",
     "output_type": "stream",
     "text": [
      "C:\\Users\\teoma\\PycharmProjects\\RealtimePredictionBikeTerminalAvailability\\venv\\lib\\site-packages\\pandas\\core\\indexing.py:1835: SettingWithCopyWarning: \n",
      "A value is trying to be set on a copy of a slice from a DataFrame.\n",
      "Try using .loc[row_indexer,col_indexer] = value instead\n",
      "\n",
      "See the caveats in the documentation: https://pandas.pydata.org/pandas-docs/stable/user_guide/indexing.html#returning-a-view-versus-a-copy\n",
      "  self._setitem_single_column(loc, value[:, i].tolist(), pi)\n",
      "C:\\Users\\teoma\\PycharmProjects\\RealtimePredictionBikeTerminalAvailability\\venv\\lib\\site-packages\\pandas\\core\\indexing.py:1835: SettingWithCopyWarning: \n",
      "A value is trying to be set on a copy of a slice from a DataFrame.\n",
      "Try using .loc[row_indexer,col_indexer] = value instead\n",
      "\n",
      "See the caveats in the documentation: https://pandas.pydata.org/pandas-docs/stable/user_guide/indexing.html#returning-a-view-versus-a-copy\n",
      "  self._setitem_single_column(loc, value[:, i].tolist(), pi)\n",
      "C:\\Users\\teoma\\PycharmProjects\\RealtimePredictionBikeTerminalAvailability\\venv\\lib\\site-packages\\pandas\\core\\indexing.py:1732: SettingWithCopyWarning: \n",
      "A value is trying to be set on a copy of a slice from a DataFrame\n",
      "\n",
      "See the caveats in the documentation: https://pandas.pydata.org/pandas-docs/stable/user_guide/indexing.html#returning-a-view-versus-a-copy\n",
      "  self._setitem_single_block(indexer, value, name)\n",
      "C:\\Users\\teoma\\PycharmProjects\\RealtimePredictionBikeTerminalAvailability\\venv\\lib\\site-packages\\pandas\\core\\indexing.py:723: SettingWithCopyWarning: \n",
      "A value is trying to be set on a copy of a slice from a DataFrame\n",
      "\n",
      "See the caveats in the documentation: https://pandas.pydata.org/pandas-docs/stable/user_guide/indexing.html#returning-a-view-versus-a-copy\n",
      "  iloc._setitem_with_indexer(indexer, value, self.name)\n",
      "C:\\Users\\teoma\\PycharmProjects\\RealtimePredictionBikeTerminalAvailability\\venv\\lib\\site-packages\\pandas\\core\\indexing.py:1732: SettingWithCopyWarning: \n",
      "A value is trying to be set on a copy of a slice from a DataFrame\n",
      "\n",
      "See the caveats in the documentation: https://pandas.pydata.org/pandas-docs/stable/user_guide/indexing.html#returning-a-view-versus-a-copy\n",
      "  self._setitem_single_block(indexer, value, name)\n",
      "C:\\Users\\teoma\\PycharmProjects\\RealtimePredictionBikeTerminalAvailability\\venv\\lib\\site-packages\\pandas\\core\\indexing.py:723: SettingWithCopyWarning: \n",
      "A value is trying to be set on a copy of a slice from a DataFrame\n",
      "\n",
      "See the caveats in the documentation: https://pandas.pydata.org/pandas-docs/stable/user_guide/indexing.html#returning-a-view-versus-a-copy\n",
      "  iloc._setitem_with_indexer(indexer, value, self.name)\n"
     ]
    }
   ],
   "source": [
    "feature_columns = list(df.columns)\n",
    "feature_columns.remove('bike_availability_ratio')\n",
    "\n",
    "f_columns = feature_columns\n",
    "f_transformer = RobustScaler()\n",
    "f_transformer = f_transformer.fit(train[f_columns].to_numpy())\n",
    "train.loc[:, f_columns] = f_transformer.transform(\n",
    "    train[f_columns].to_numpy()\n",
    ")\n",
    "test.loc[:, f_columns] = f_transformer.transform(\n",
    "    test[f_columns].to_numpy()\n",
    ")\n",
    "\n",
    "bike_availability_col = ['bike_availability_ratio']\n",
    "availability_transformer = RobustScaler()\n",
    "availability_transformer = availability_transformer.fit(train[bike_availability_col])\n",
    "train.loc[:, bike_availability_col] = availability_transformer.transform(\n",
    "    train[bike_availability_col]\n",
    ")\n",
    "test.loc[:, bike_availability_col] = availability_transformer.transform(\n",
    "    test[bike_availability_col]\n",
    ")"
   ],
   "metadata": {
    "collapsed": false,
    "pycharm": {
     "name": "#%%\n"
    }
   }
  },
  {
   "cell_type": "code",
   "execution_count": 5,
   "outputs": [],
   "source": [
    "def create_dataset(X, y, time_steps=1):\n",
    "    Xs, ys = [], []\n",
    "    for i in range(len(X) - time_steps):\n",
    "        v = X.iloc[i:(i + time_steps)].values\n",
    "        Xs.append(v)\n",
    "        ys.append(y.iloc[i + time_steps])\n",
    "    return np.array(Xs), np.array(ys)"
   ],
   "metadata": {
    "collapsed": false,
    "pycharm": {
     "name": "#%%\n"
    }
   }
  },
  {
   "cell_type": "code",
   "execution_count": 6,
   "outputs": [
    {
     "name": "stdout",
     "output_type": "stream",
     "text": [
      "(21807, 10, 23) (21807,)\n",
      "Epoch 1/30\n",
      "614/614 [==============================] - 11s 12ms/step - loss: 0.3780 - val_loss: 0.3656\n",
      "Epoch 2/30\n",
      "614/614 [==============================] - 8s 12ms/step - loss: 0.3730 - val_loss: 0.3676\n",
      "Epoch 3/30\n",
      "614/614 [==============================] - 7s 11ms/step - loss: 0.3712 - val_loss: 0.3661\n",
      "Epoch 4/30\n",
      "614/614 [==============================] - 6s 10ms/step - loss: 0.3699 - val_loss: 0.3651\n",
      "Epoch 5/30\n",
      "614/614 [==============================] - 6s 10ms/step - loss: 0.3680 - val_loss: 0.3642\n",
      "Epoch 6/30\n",
      "614/614 [==============================] - 6s 10ms/step - loss: 0.3668 - val_loss: 0.3649\n",
      "Epoch 7/30\n",
      "614/614 [==============================] - 7s 11ms/step - loss: 0.3649 - val_loss: 0.3651\n",
      "Epoch 8/30\n",
      "614/614 [==============================] - 7s 11ms/step - loss: 0.3630 - val_loss: 0.3661\n",
      "Epoch 9/30\n",
      "614/614 [==============================] - 7s 11ms/step - loss: 0.3611 - val_loss: 0.3656\n",
      "Epoch 10/30\n",
      "614/614 [==============================] - 8s 12ms/step - loss: 0.3588 - val_loss: 0.3677\n",
      "Epoch 11/30\n",
      "614/614 [==============================] - 8s 13ms/step - loss: 0.3570 - val_loss: 0.3662\n",
      "Epoch 12/30\n",
      "614/614 [==============================] - 6s 10ms/step - loss: 0.3546 - val_loss: 0.3666\n",
      "Epoch 13/30\n",
      "614/614 [==============================] - 7s 12ms/step - loss: 0.3513 - val_loss: 0.3715\n",
      "Epoch 14/30\n",
      "614/614 [==============================] - 7s 11ms/step - loss: 0.3480 - val_loss: 0.3693\n",
      "Epoch 15/30\n",
      "614/614 [==============================] - 6s 10ms/step - loss: 0.3446 - val_loss: 0.3735\n",
      "Epoch 16/30\n",
      "614/614 [==============================] - 6s 10ms/step - loss: 0.3403 - val_loss: 0.3771\n",
      "Epoch 17/30\n",
      "614/614 [==============================] - 6s 10ms/step - loss: 0.3343 - val_loss: 0.3775\n",
      "Epoch 18/30\n",
      "614/614 [==============================] - 6s 10ms/step - loss: 0.3294 - val_loss: 0.3781\n",
      "Epoch 19/30\n",
      "614/614 [==============================] - 6s 10ms/step - loss: 0.3226 - val_loss: 0.3836\n",
      "Epoch 20/30\n",
      "614/614 [==============================] - 6s 10ms/step - loss: 0.3147 - val_loss: 0.3949\n",
      "Epoch 21/30\n",
      "614/614 [==============================] - 6s 10ms/step - loss: 0.3065 - val_loss: 0.4125\n",
      "Epoch 22/30\n",
      "614/614 [==============================] - 6s 9ms/step - loss: 0.2963 - val_loss: 0.4131\n",
      "Epoch 23/30\n",
      "614/614 [==============================] - 6s 10ms/step - loss: 0.2855 - val_loss: 0.4216\n",
      "Epoch 24/30\n",
      "614/614 [==============================] - 6s 10ms/step - loss: 0.2747 - val_loss: 0.4269\n",
      "Epoch 25/30\n",
      "614/614 [==============================] - 6s 10ms/step - loss: 0.2608 - val_loss: 0.4358\n",
      "Epoch 26/30\n",
      "614/614 [==============================] - 6s 9ms/step - loss: 0.2472 - val_loss: 0.4421\n",
      "Epoch 27/30\n",
      "614/614 [==============================] - 6s 10ms/step - loss: 0.2319 - val_loss: 0.4584\n",
      "Epoch 28/30\n",
      "614/614 [==============================] - 6s 10ms/step - loss: 0.2173 - val_loss: 0.4700\n",
      "Epoch 29/30\n",
      "614/614 [==============================] - 6s 10ms/step - loss: 0.2030 - val_loss: 0.4815\n",
      "Epoch 30/30\n",
      "614/614 [==============================] - 6s 10ms/step - loss: 0.1887 - val_loss: 0.4917\n"
     ]
    }
   ],
   "source": [
    "time_steps = 10\n",
    "X_train, y_train = create_dataset(train, train.bike_availability_ratio, time_steps)\n",
    "X_test, y_test = create_dataset(test, test.bike_availability_ratio, time_steps)\n",
    "print(X_train.shape, y_train.shape)\n",
    "\n",
    "model = keras.Sequential()\n",
    "model.add(\n",
    "    keras.layers.Bidirectional(\n",
    "        keras.layers.LSTM(\n",
    "            units=128,\n",
    "            input_shape=(X_train.shape[1], X_train.shape[2])\n",
    "        )\n",
    "    )\n",
    ")\n",
    "model.add(keras.layers.Dropout(rate=0.2))\n",
    "model.add(keras.layers.Dense(units=1))\n",
    "\n",
    "model.compile(loss='mean_squared_error', optimizer='adam')\n",
    "\n",
    "history = model.fit(\n",
    "    X_train, y_train,\n",
    "    epochs=30,\n",
    "    batch_size=32,\n",
    "    validation_split=0.1,\n",
    "    shuffle=False\n",
    ")"
   ],
   "metadata": {
    "collapsed": false,
    "pycharm": {
     "name": "#%%\n"
    }
   }
  },
  {
   "cell_type": "code",
   "execution_count": 7,
   "outputs": [
    {
     "data": {
      "text/plain": "<Figure size 432x288 with 1 Axes>",
      "image/png": "[encoded data removed]"
     },
     "metadata": {
      "needs_background": "light"
     },
     "output_type": "display_data"
    }
   ],
   "source": [
    "plt.plot(history.history['loss'], label='train')\n",
    "plt.plot(history.history['val_loss'], label='test')\n",
    "plt.legend();"
   ],
   "metadata": {
    "collapsed": false,
    "pycharm": {
     "name": "#%%\n"
    }
   }
  },
  {
   "cell_type": "code",
   "execution_count": 8,
   "outputs": [],
   "source": [
    "y_pred = model.predict(X_test)"
   ],
   "metadata": {
    "collapsed": false,
    "pycharm": {
     "name": "#%%\n"
    }
   }
  },
  {
   "cell_type": "code",
   "execution_count": 9,
   "outputs": [],
   "source": [
    "y_train_inv = availability_transformer.inverse_transform(y_train.reshape(1, -1))\n",
    "y_test_inv = availability_transformer.inverse_transform(y_test.reshape(1, -1))\n",
    "y_pred_inv = availability_transformer.inverse_transform(y_pred)"
   ],
   "metadata": {
    "collapsed": false,
    "pycharm": {
     "name": "#%%\n"
    }
   }
  },
  {
   "cell_type": "code",
   "execution_count": 10,
   "outputs": [
    {
     "data": {
      "text/plain": "<Figure size 432x288 with 1 Axes>",
      "image/png": "[encoded data removed]"
     },
     "metadata": {
      "needs_background": "light"
     },
     "output_type": "display_data"
    }
   ],
   "source": [
    "plt.plot(y_test_inv.flatten(), marker='.', label=\"true\")\n",
    "plt.plot(y_pred_inv.flatten(), 'r', label=\"prediction\")\n",
    "plt.ylabel('Bike Availability')\n",
    "plt.xlabel('Time Step')\n",
    "plt.legend()\n",
    "plt.show();"
   ],
   "metadata": {
    "collapsed": false,
    "pycharm": {
     "name": "#%%\n"
    }
   }
  },
  {
   "cell_type": "code",
   "execution_count": 11,
   "outputs": [],
   "source": [
    "def get_mean_absolute_deviations(predictions,actual_values):\n",
    "    \"\"\" Compute the mean absolute deviations of predictions vs actual test set values\n",
    "\n",
    "        Arguments:\n",
    "        * predictions: Our Model's predictions\n",
    "        * actual_values: Test set output\n",
    "\n",
    "    \"\"\"\n",
    "\n",
    "    # Convert numpy arrays to data frame as pandas as mean absolute deviation function we want to use\n",
    "    predictions_dataframe = pd.DataFrame(data = predictions.flatten())\n",
    "    actual_test_set_values_dataframe = pd.DataFrame(data=actual_values.flatten())\n",
    "\n",
    "    print(\"LSTM model prediction's Mean Absolute Deviation is \", predictions_dataframe.mad()[0])\n",
    "    print(\"Test set's Mean Absolute Deviation is\", actual_test_set_values_dataframe.mad()[0])"
   ],
   "metadata": {
    "collapsed": false,
    "pycharm": {
     "name": "#%%\n"
    }
   }
  },
  {
   "cell_type": "code",
   "execution_count": 12,
   "outputs": [
    {
     "name": "stdout",
     "output_type": "stream",
     "text": [
      "LSTM model prediction's Mean Absolute Deviation is  0.09254041\n",
      "Test set's Mean Absolute Deviation is 0.1477288753451784\n"
     ]
    }
   ],
   "source": [
    "get_mean_absolute_deviations(y_pred_inv,y_test_inv)"
   ],
   "metadata": {
    "collapsed": false,
    "pycharm": {
     "name": "#%%\n"
    }
   }
  }
 ],
 "metadata": {
  "kernelspec": {
   "display_name": "Python 3",
   "language": "python",
   "name": "python3"
  },
  "language_info": {
   "codemirror_mode": {
    "name": "ipython",
    "version": 2
   },
   "file_extension": ".py",
   "mimetype": "text/x-python",
   "name": "python",
   "nbconvert_exporter": "python",
   "pygments_lexer": "ipython2",
   "version": "2.7.6"
  }
 },
 "nbformat": 4,
 "nbformat_minor": 0
}