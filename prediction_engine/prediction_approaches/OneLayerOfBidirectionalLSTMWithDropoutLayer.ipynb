{
 "cells": [
  {
   "cell_type": "code",
   "execution_count": 1,
   "outputs": [],
   "source": [
    "import keras as keras\n",
    "import pandas as pd\n",
    "import numpy as np\n",
    "from sklearn import metrics\n",
    "from sklearn.preprocessing import RobustScaler\n",
    "import matplotlib.pyplot as plt"
   ],
   "metadata": {
    "collapsed": false,
    "pycharm": {
     "name": "#%%\n"
    }
   }
  },
  {
   "cell_type": "code",
   "execution_count": 2,
   "outputs": [
    {
     "data": {
      "text/plain": "   is_installed  is_renting  is_returning  longitude  latitude  ...  record_timestamp_minute_46  record_timestamp_minute_50  record_timestamp_minute_51  record_timestamp_minute_59  record_timestamp_second_0\n0             1           1             1   0.023661  0.488710  ...                           1                           0                           0                           0                          1\n1             1           1             1   0.023360  0.488375  ...                           1                           0                           0                           0                          1\n2             1           1             1   0.023520  0.488439  ...                           1                           0                           0                           0                          1\n3             1           1             1   0.023851  0.489104  ...                           1                           0                           0                           0                          1\n4             1           1             1   0.023768  0.488158  ...                           1                           0                           0                           0                          1\n\n[5 rows x 40 columns]",
      "text/html": "<div>\n<style scoped>\n    .dataframe tbody tr th:only-of-type {\n        vertical-align: middle;\n    }\n\n    .dataframe tbody tr th {\n        vertical-align: top;\n    }\n\n    .dataframe thead th {\n        text-align: right;\n    }\n</style>\n<table border=\"1\" class=\"dataframe\">\n  <thead>\n    <tr style=\"text-align: right;\">\n      <th></th>\n      <th>is_installed</th>\n      <th>is_renting</th>\n      <th>is_returning</th>\n      <th>longitude</th>\n      <th>latitude</th>\n      <th>...</th>\n      <th>record_timestamp_minute_46</th>\n      <th>record_timestamp_minute_50</th>\n      <th>record_timestamp_minute_51</th>\n      <th>record_timestamp_minute_59</th>\n      <th>record_timestamp_second_0</th>\n    </tr>\n  </thead>\n  <tbody>\n    <tr>\n      <th>0</th>\n      <td>1</td>\n      <td>1</td>\n      <td>1</td>\n      <td>0.023661</td>\n      <td>0.488710</td>\n      <td>...</td>\n      <td>1</td>\n      <td>0</td>\n      <td>0</td>\n      <td>0</td>\n      <td>1</td>\n    </tr>\n    <tr>\n      <th>1</th>\n      <td>1</td>\n      <td>1</td>\n      <td>1</td>\n      <td>0.023360</td>\n      <td>0.488375</td>\n      <td>...</td>\n      <td>1</td>\n      <td>0</td>\n      <td>0</td>\n      <td>0</td>\n      <td>1</td>\n    </tr>\n    <tr>\n      <th>2</th>\n      <td>1</td>\n      <td>1</td>\n      <td>1</td>\n      <td>0.023520</td>\n      <td>0.488439</td>\n      <td>...</td>\n      <td>1</td>\n      <td>0</td>\n      <td>0</td>\n      <td>0</td>\n      <td>1</td>\n    </tr>\n    <tr>\n      <th>3</th>\n      <td>1</td>\n      <td>1</td>\n      <td>1</td>\n      <td>0.023851</td>\n      <td>0.489104</td>\n      <td>...</td>\n      <td>1</td>\n      <td>0</td>\n      <td>0</td>\n      <td>0</td>\n      <td>1</td>\n    </tr>\n    <tr>\n      <th>4</th>\n      <td>1</td>\n      <td>1</td>\n      <td>1</td>\n      <td>0.023768</td>\n      <td>0.488158</td>\n      <td>...</td>\n      <td>1</td>\n      <td>0</td>\n      <td>0</td>\n      <td>0</td>\n      <td>1</td>\n    </tr>\n  </tbody>\n</table>\n<p>5 rows × 40 columns</p>\n</div>"
     },
     "execution_count": 2,
     "metadata": {},
     "output_type": "execute_result"
    }
   ],
   "source": [
    "pd.set_option('display.width', 500)\n",
    "np.set_printoptions(linewidth=500)\n",
    "pd.set_option('display.max_columns', 10)\n",
    "\n",
    "df = pd.read_csv(\n",
    "    \"../../dataset_building/paris_velib_dataset_preprocessed.csv\",\n",
    "    index_col=False\n",
    ")\n",
    "\n",
    "df.shape\n",
    "\n",
    "df.head()"
   ],
   "metadata": {
    "collapsed": false,
    "pycharm": {
     "name": "#%%\n"
    }
   }
  },
  {
   "cell_type": "code",
   "execution_count": 3,
   "outputs": [
    {
     "name": "stdout",
     "output_type": "stream",
     "text": [
      "66949 28693\n"
     ]
    }
   ],
   "source": [
    "# 30% of data for testing\n",
    "train_size = int(len(df) * 0.7)\n",
    "test_size = len(df) - train_size\n",
    "train, test = df.iloc[0:train_size], df.iloc[train_size:len(df)]\n",
    "print(len(train), len(test))"
   ],
   "metadata": {
    "collapsed": false,
    "pycharm": {
     "name": "#%%\n"
    }
   }
  },
  {
   "cell_type": "code",
   "execution_count": 4,
   "outputs": [
    {
     "name": "stderr",
     "output_type": "stream",
     "text": [
      "C:\\Users\\teoma\\PycharmProjects\\RealtimePredictionBikeTerminalAvailability\\venv\\lib\\site-packages\\pandas\\core\\indexing.py:1835: SettingWithCopyWarning: \n",
      "A value is trying to be set on a copy of a slice from a DataFrame.\n",
      "Try using .loc[row_indexer,col_indexer] = value instead\n",
      "\n",
      "See the caveats in the documentation: https://pandas.pydata.org/pandas-docs/stable/user_guide/indexing.html#returning-a-view-versus-a-copy\n",
      "  self._setitem_single_column(loc, value[:, i].tolist(), pi)\n",
      "C:\\Users\\teoma\\PycharmProjects\\RealtimePredictionBikeTerminalAvailability\\venv\\lib\\site-packages\\pandas\\core\\indexing.py:1835: SettingWithCopyWarning: \n",
      "A value is trying to be set on a copy of a slice from a DataFrame.\n",
      "Try using .loc[row_indexer,col_indexer] = value instead\n",
      "\n",
      "See the caveats in the documentation: https://pandas.pydata.org/pandas-docs/stable/user_guide/indexing.html#returning-a-view-versus-a-copy\n",
      "  self._setitem_single_column(loc, value[:, i].tolist(), pi)\n",
      "C:\\Users\\teoma\\PycharmProjects\\RealtimePredictionBikeTerminalAvailability\\venv\\lib\\site-packages\\pandas\\core\\indexing.py:1732: SettingWithCopyWarning: \n",
      "A value is trying to be set on a copy of a slice from a DataFrame\n",
      "\n",
      "See the caveats in the documentation: https://pandas.pydata.org/pandas-docs/stable/user_guide/indexing.html#returning-a-view-versus-a-copy\n",
      "  self._setitem_single_block(indexer, value, name)\n",
      "C:\\Users\\teoma\\PycharmProjects\\RealtimePredictionBikeTerminalAvailability\\venv\\lib\\site-packages\\pandas\\core\\indexing.py:723: SettingWithCopyWarning: \n",
      "A value is trying to be set on a copy of a slice from a DataFrame\n",
      "\n",
      "See the caveats in the documentation: https://pandas.pydata.org/pandas-docs/stable/user_guide/indexing.html#returning-a-view-versus-a-copy\n",
      "  iloc._setitem_with_indexer(indexer, value, self.name)\n",
      "C:\\Users\\teoma\\PycharmProjects\\RealtimePredictionBikeTerminalAvailability\\venv\\lib\\site-packages\\pandas\\core\\indexing.py:1732: SettingWithCopyWarning: \n",
      "A value is trying to be set on a copy of a slice from a DataFrame\n",
      "\n",
      "See the caveats in the documentation: https://pandas.pydata.org/pandas-docs/stable/user_guide/indexing.html#returning-a-view-versus-a-copy\n",
      "  self._setitem_single_block(indexer, value, name)\n",
      "C:\\Users\\teoma\\PycharmProjects\\RealtimePredictionBikeTerminalAvailability\\venv\\lib\\site-packages\\pandas\\core\\indexing.py:723: SettingWithCopyWarning: \n",
      "A value is trying to be set on a copy of a slice from a DataFrame\n",
      "\n",
      "See the caveats in the documentation: https://pandas.pydata.org/pandas-docs/stable/user_guide/indexing.html#returning-a-view-versus-a-copy\n",
      "  iloc._setitem_with_indexer(indexer, value, self.name)\n"
     ]
    }
   ],
   "source": [
    "feature_columns = list(df.columns)\n",
    "feature_columns.remove('bike_availability_ratio')\n",
    "\n",
    "f_columns = feature_columns\n",
    "f_transformer = RobustScaler()\n",
    "f_transformer = f_transformer.fit(train[f_columns].to_numpy())\n",
    "train.loc[:, f_columns] = f_transformer.transform(\n",
    "    train[f_columns].to_numpy()\n",
    ")\n",
    "test.loc[:, f_columns] = f_transformer.transform(\n",
    "    test[f_columns].to_numpy()\n",
    ")\n",
    "\n",
    "bike_availability_col = ['bike_availability_ratio']\n",
    "availability_transformer = RobustScaler()\n",
    "availability_transformer = availability_transformer.fit(train[bike_availability_col])\n",
    "train.loc[:, bike_availability_col] = availability_transformer.transform(\n",
    "    train[bike_availability_col]\n",
    ")\n",
    "test.loc[:, bike_availability_col] = availability_transformer.transform(\n",
    "    test[bike_availability_col]\n",
    ")"
   ],
   "metadata": {
    "collapsed": false,
    "pycharm": {
     "name": "#%%\n"
    }
   }
  },
  {
   "cell_type": "code",
   "execution_count": 5,
   "outputs": [],
   "source": [
    "def create_dataset(X, y, time_steps=1):\n",
    "    Xs, ys = [], []\n",
    "    for i in range(len(X) - time_steps):\n",
    "        v = X.iloc[i:(i + time_steps)].values\n",
    "        Xs.append(v)\n",
    "        ys.append(y.iloc[i + time_steps])\n",
    "    return np.array(Xs), np.array(ys)"
   ],
   "metadata": {
    "collapsed": false,
    "pycharm": {
     "name": "#%%\n"
    }
   }
  },
  {
   "cell_type": "code",
   "execution_count": 6,
   "outputs": [
    {
     "name": "stdout",
     "output_type": "stream",
     "text": [
      "(66939, 10, 40) (66939,)\n",
      "Epoch 1/30\n",
      "1883/1883 [==============================] - 20s 9ms/step - loss: 0.3587 - val_loss: 0.3185\n",
      "Epoch 2/30\n",
      "1883/1883 [==============================] - 17s 9ms/step - loss: 0.3536 - val_loss: 0.3185\n",
      "Epoch 3/30\n",
      "1883/1883 [==============================] - 17s 9ms/step - loss: 0.3523 - val_loss: 0.3185\n",
      "Epoch 4/30\n",
      "1883/1883 [==============================] - 16s 9ms/step - loss: 0.3505 - val_loss: 0.3181\n",
      "Epoch 5/30\n",
      "1883/1883 [==============================] - 17s 9ms/step - loss: 0.3487 - val_loss: 0.3178\n",
      "Epoch 6/30\n",
      "1883/1883 [==============================] - 19s 10ms/step - loss: 0.3468 - val_loss: 0.3188\n",
      "Epoch 7/30\n",
      "1883/1883 [==============================] - 21s 11ms/step - loss: 0.3444 - val_loss: 0.3200\n",
      "Epoch 8/30\n",
      "1883/1883 [==============================] - 16s 8ms/step - loss: 0.3421 - val_loss: 0.3224\n",
      "Epoch 9/30\n",
      "1883/1883 [==============================] - 18s 10ms/step - loss: 0.3394 - val_loss: 0.3261\n",
      "Epoch 10/30\n",
      "1883/1883 [==============================] - 17s 9ms/step - loss: 0.3358 - val_loss: 0.3303\n",
      "Epoch 11/30\n",
      "1883/1883 [==============================] - 19s 10ms/step - loss: 0.3314 - val_loss: 0.3403\n",
      "Epoch 12/30\n",
      "1883/1883 [==============================] - 18s 10ms/step - loss: 0.3261 - val_loss: 0.3498\n",
      "Epoch 13/30\n",
      "1883/1883 [==============================] - 21s 11ms/step - loss: 0.3201 - val_loss: 0.3567\n",
      "Epoch 14/30\n",
      "1883/1883 [==============================] - 18s 10ms/step - loss: 0.3133 - val_loss: 0.3628\n",
      "Epoch 15/30\n",
      "1883/1883 [==============================] - 18s 10ms/step - loss: 0.3065 - val_loss: 0.3726\n",
      "Epoch 16/30\n",
      "1883/1883 [==============================] - 17s 9ms/step - loss: 0.2976 - val_loss: 0.3813\n",
      "Epoch 17/30\n",
      "1883/1883 [==============================] - 17s 9ms/step - loss: 0.2882 - val_loss: 0.3823\n",
      "Epoch 18/30\n",
      "1883/1883 [==============================] - 17s 9ms/step - loss: 0.2772 - val_loss: 0.4032\n",
      "Epoch 19/30\n",
      "1883/1883 [==============================] - 17s 9ms/step - loss: 0.2655 - val_loss: 0.4080\n",
      "Epoch 20/30\n",
      "1883/1883 [==============================] - 17s 9ms/step - loss: 0.2535 - val_loss: 0.4438\n",
      "Epoch 21/30\n",
      "1883/1883 [==============================] - 16s 9ms/step - loss: 0.2419 - val_loss: 0.4570\n",
      "Epoch 22/30\n",
      "1883/1883 [==============================] - 16s 9ms/step - loss: 0.2288 - val_loss: 0.4658\n",
      "Epoch 23/30\n",
      "1883/1883 [==============================] - 17s 9ms/step - loss: 0.2158 - val_loss: 0.4849\n",
      "Epoch 24/30\n",
      "1883/1883 [==============================] - 16s 9ms/step - loss: 0.2048 - val_loss: 0.4948\n",
      "Epoch 25/30\n",
      "1883/1883 [==============================] - 18s 9ms/step - loss: 0.1928 - val_loss: 0.4970\n",
      "Epoch 26/30\n",
      "1883/1883 [==============================] - 17s 9ms/step - loss: 0.1799 - val_loss: 0.5157\n",
      "Epoch 27/30\n",
      "1883/1883 [==============================] - 19s 10ms/step - loss: 0.1690 - val_loss: 0.5079\n",
      "Epoch 28/30\n",
      "1883/1883 [==============================] - 19s 10ms/step - loss: 0.1588 - val_loss: 0.5154\n",
      "Epoch 29/30\n",
      "1883/1883 [==============================] - 17s 9ms/step - loss: 0.1484 - val_loss: 0.5253\n",
      "Epoch 30/30\n",
      "1883/1883 [==============================] - 17s 9ms/step - loss: 0.1401 - val_loss: 0.5397\n"
     ]
    }
   ],
   "source": [
    "time_steps = 10\n",
    "X_train, y_train = create_dataset(train, train.bike_availability_ratio, time_steps)\n",
    "X_test, y_test = create_dataset(test, test.bike_availability_ratio, time_steps)\n",
    "print(X_train.shape, y_train.shape)\n",
    "\n",
    "model = keras.Sequential()\n",
    "model.add(\n",
    "    keras.layers.Bidirectional(\n",
    "        keras.layers.LSTM(\n",
    "            units=128,\n",
    "            input_shape=(X_train.shape[1], X_train.shape[2])\n",
    "        )\n",
    "    )\n",
    ")\n",
    "model.add(keras.layers.Dropout(rate=0.2))\n",
    "model.add(keras.layers.Dense(units=1))\n",
    "\n",
    "model.compile(loss='mean_squared_error', optimizer='adam')\n",
    "\n",
    "history = model.fit(\n",
    "    X_train, y_train,\n",
    "    epochs=30,\n",
    "    batch_size=32,\n",
    "    validation_split=0.1,\n",
    "    shuffle=False\n",
    ")"
   ],
   "metadata": {
    "collapsed": false,
    "pycharm": {
     "name": "#%%\n"
    }
   }
  },
  {
   "cell_type": "code",
   "execution_count": 7,
   "outputs": [
    {
     "data": {
      "text/plain": "<Figure size 432x288 with 1 Axes>",
      "image/png": "[encoded data removed]"
     },
     "metadata": {
      "needs_background": "light"
     },
     "output_type": "display_data"
    }
   ],
   "source": [
    "plt.plot(history.history['loss'], label='train')\n",
    "plt.plot(history.history['val_loss'], label='test')\n",
    "plt.legend();"
   ],
   "metadata": {
    "collapsed": false,
    "pycharm": {
     "name": "#%%\n"
    }
   }
  },
  {
   "cell_type": "code",
   "execution_count": 8,
   "outputs": [],
   "source": [
    "y_pred = model.predict(X_test)"
   ],
   "metadata": {
    "collapsed": false,
    "pycharm": {
     "name": "#%%\n"
    }
   }
  },
  {
   "cell_type": "code",
   "execution_count": 9,
   "outputs": [],
   "source": [
    "y_train_inv = availability_transformer.inverse_transform(y_train.reshape(1, -1))\n",
    "y_test_inv = availability_transformer.inverse_transform(y_test.reshape(1, -1))\n",
    "y_pred_inv = availability_transformer.inverse_transform(y_pred)"
   ],
   "metadata": {
    "collapsed": false,
    "pycharm": {
     "name": "#%%\n"
    }
   }
  },
  {
   "cell_type": "code",
   "execution_count": 10,
   "outputs": [
    {
     "data": {
      "text/plain": "<Figure size 432x288 with 1 Axes>",
      "image/png": "[encoded data removed]"
     },
     "metadata": {
      "needs_background": "light"
     },
     "output_type": "display_data"
    }
   ],
   "source": [
    "plt.plot(y_test_inv.flatten(), marker='.', label=\"true\")\n",
    "plt.plot(y_pred_inv.flatten(), 'r', label=\"prediction\")\n",
    "plt.ylabel('Bike Availability')\n",
    "plt.xlabel('Time Step')\n",
    "plt.legend()\n",
    "plt.show();"
   ],
   "metadata": {
    "collapsed": false,
    "pycharm": {
     "name": "#%%\n"
    }
   }
  },
  {
   "cell_type": "code",
   "execution_count": 11,
   "outputs": [],
   "source": [
    "def get_mean_absolute_deviations(predictions,actual_values):\n",
    "    predictions_dataframe = pd.DataFrame(data = predictions.flatten())\n",
    "    actual_test_set_values_dataframe = pd.DataFrame(data=actual_values.flatten())\n",
    "\n",
    "    print(\"LSTM model prediction's Mean Absolute Deviation is \", predictions_dataframe.mad()[0])\n",
    "    print(\"Test set's Mean Absolute Deviation is\", actual_test_set_values_dataframe.mad()[0])"
   ],
   "metadata": {
    "collapsed": false,
    "pycharm": {
     "name": "#%%\n"
    }
   }
  },
  {
   "cell_type": "code",
   "execution_count": 12,
   "outputs": [
    {
     "name": "stdout",
     "output_type": "stream",
     "text": [
      "LSTM model prediction's Mean Absolute Deviation is  19.149412\n",
      "Test set's Mean Absolute Deviation is 25.223128863243673\n"
     ]
    }
   ],
   "source": [
    "get_mean_absolute_deviations(y_pred_inv,y_test_inv)"
   ],
   "metadata": {
    "collapsed": false,
    "pycharm": {
     "name": "#%%\n"
    }
   }
  },
  {
   "cell_type": "code",
   "execution_count": 13,
   "outputs": [
    {
     "name": "stdout",
     "output_type": "stream",
     "text": [
      "Mean Absolute Error: 0.6483098280981716\n"
     ]
    }
   ],
   "source": [
    "print(\"Mean Absolute Error:\", metrics.mean_absolute_error(y_test, y_pred, sample_weight=None, multioutput=\"uniform_average\"))"
   ],
   "metadata": {
    "collapsed": false,
    "pycharm": {
     "name": "#%%\n"
    }
   }
  },
  {
   "cell_type": "code",
   "execution_count": 13,
   "outputs": [],
   "source": [],
   "metadata": {
    "collapsed": false,
    "pycharm": {
     "name": "#%%\n"
    }
   }
  }
 ],
 "metadata": {
  "kernelspec": {
   "display_name": "Python 3",
   "language": "python",
   "name": "python3"
  },
  "language_info": {
   "codemirror_mode": {
    "name": "ipython",
    "version": 2
   },
   "file_extension": ".py",
   "mimetype": "text/x-python",
   "name": "python",
   "nbconvert_exporter": "python",
   "pygments_lexer": "ipython2",
   "version": "2.7.6"
  }
 },
 "nbformat": 4,
 "nbformat_minor": 0
}