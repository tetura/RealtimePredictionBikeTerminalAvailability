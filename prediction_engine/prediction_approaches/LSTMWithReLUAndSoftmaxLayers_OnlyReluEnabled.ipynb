{
 "cells": [
  {
   "cell_type": "code",
   "execution_count": 14,
   "outputs": [],
   "source": [
    "import keras as keras\n",
    "import pandas as pd\n",
    "import numpy as np\n",
    "from sklearn import metrics\n",
    "from sklearn.preprocessing import RobustScaler\n",
    "import matplotlib.pyplot as plt"
   ],
   "metadata": {
    "collapsed": false,
    "pycharm": {
     "name": "#%%\n"
    }
   }
  },
  {
   "cell_type": "code",
   "execution_count": 15,
   "outputs": [
    {
     "data": {
      "text/plain": "   is_installed  is_renting  is_returning  longitude  latitude  ...  record_timestamp_minute_46  record_timestamp_minute_50  record_timestamp_minute_51  record_timestamp_minute_59  record_timestamp_second_0\n0             1           1             1   0.023661  0.488710  ...                           1                           0                           0                           0                          1\n1             1           1             1   0.023360  0.488375  ...                           1                           0                           0                           0                          1\n2             1           1             1   0.023520  0.488439  ...                           1                           0                           0                           0                          1\n3             1           1             1   0.023851  0.489104  ...                           1                           0                           0                           0                          1\n4             1           1             1   0.023768  0.488158  ...                           1                           0                           0                           0                          1\n\n[5 rows x 30 columns]",
      "text/html": "<div>\n<style scoped>\n    .dataframe tbody tr th:only-of-type {\n        vertical-align: middle;\n    }\n\n    .dataframe tbody tr th {\n        vertical-align: top;\n    }\n\n    .dataframe thead th {\n        text-align: right;\n    }\n</style>\n<table border=\"1\" class=\"dataframe\">\n  <thead>\n    <tr style=\"text-align: right;\">\n      <th></th>\n      <th>is_installed</th>\n      <th>is_renting</th>\n      <th>is_returning</th>\n      <th>longitude</th>\n      <th>latitude</th>\n      <th>...</th>\n      <th>record_timestamp_minute_46</th>\n      <th>record_timestamp_minute_50</th>\n      <th>record_timestamp_minute_51</th>\n      <th>record_timestamp_minute_59</th>\n      <th>record_timestamp_second_0</th>\n    </tr>\n  </thead>\n  <tbody>\n    <tr>\n      <th>0</th>\n      <td>1</td>\n      <td>1</td>\n      <td>1</td>\n      <td>0.023661</td>\n      <td>0.488710</td>\n      <td>...</td>\n      <td>1</td>\n      <td>0</td>\n      <td>0</td>\n      <td>0</td>\n      <td>1</td>\n    </tr>\n    <tr>\n      <th>1</th>\n      <td>1</td>\n      <td>1</td>\n      <td>1</td>\n      <td>0.023360</td>\n      <td>0.488375</td>\n      <td>...</td>\n      <td>1</td>\n      <td>0</td>\n      <td>0</td>\n      <td>0</td>\n      <td>1</td>\n    </tr>\n    <tr>\n      <th>2</th>\n      <td>1</td>\n      <td>1</td>\n      <td>1</td>\n      <td>0.023520</td>\n      <td>0.488439</td>\n      <td>...</td>\n      <td>1</td>\n      <td>0</td>\n      <td>0</td>\n      <td>0</td>\n      <td>1</td>\n    </tr>\n    <tr>\n      <th>3</th>\n      <td>1</td>\n      <td>1</td>\n      <td>1</td>\n      <td>0.023851</td>\n      <td>0.489104</td>\n      <td>...</td>\n      <td>1</td>\n      <td>0</td>\n      <td>0</td>\n      <td>0</td>\n      <td>1</td>\n    </tr>\n    <tr>\n      <th>4</th>\n      <td>1</td>\n      <td>1</td>\n      <td>1</td>\n      <td>0.023768</td>\n      <td>0.488158</td>\n      <td>...</td>\n      <td>1</td>\n      <td>0</td>\n      <td>0</td>\n      <td>0</td>\n      <td>1</td>\n    </tr>\n  </tbody>\n</table>\n<p>5 rows × 30 columns</p>\n</div>"
     },
     "execution_count": 15,
     "metadata": {},
     "output_type": "execute_result"
    }
   ],
   "source": [
    "pd.set_option('display.width', 500)\n",
    "np.set_printoptions(linewidth=500)\n",
    "pd.set_option('display.max_columns', 10)\n",
    "\n",
    "df = pd.read_csv(\n",
    "    \"../../dataset_building/paris_velib_dataset_preprocessed.csv\",\n",
    "    index_col=False\n",
    ")\n",
    "\n",
    "df.shape\n",
    "\n",
    "df.head()"
   ],
   "metadata": {
    "collapsed": false,
    "pycharm": {
     "name": "#%%\n"
    }
   }
  },
  {
   "cell_type": "code",
   "execution_count": 16,
   "outputs": [
    {
     "name": "stdout",
     "output_type": "stream",
     "text": [
      "24966 10700\n"
     ]
    }
   ],
   "source": [
    "# 30% of data for testing\n",
    "train_size = int(len(df) * 0.7)\n",
    "test_size = len(df) - train_size\n",
    "train, test = df.iloc[0:train_size], df.iloc[train_size:len(df)]\n",
    "print(len(train), len(test))"
   ],
   "metadata": {
    "collapsed": false,
    "pycharm": {
     "name": "#%%\n"
    }
   }
  },
  {
   "cell_type": "code",
   "execution_count": 17,
   "outputs": [
    {
     "name": "stderr",
     "output_type": "stream",
     "text": [
      "C:\\Users\\teoma\\PycharmProjects\\RealtimePredictionBikeTerminalAvailability\\venv\\lib\\site-packages\\pandas\\core\\indexing.py:1835: SettingWithCopyWarning: \n",
      "A value is trying to be set on a copy of a slice from a DataFrame.\n",
      "Try using .loc[row_indexer,col_indexer] = value instead\n",
      "\n",
      "See the caveats in the documentation: https://pandas.pydata.org/pandas-docs/stable/user_guide/indexing.html#returning-a-view-versus-a-copy\n",
      "  self._setitem_single_column(loc, value[:, i].tolist(), pi)\n",
      "C:\\Users\\teoma\\PycharmProjects\\RealtimePredictionBikeTerminalAvailability\\venv\\lib\\site-packages\\pandas\\core\\indexing.py:1835: SettingWithCopyWarning: \n",
      "A value is trying to be set on a copy of a slice from a DataFrame.\n",
      "Try using .loc[row_indexer,col_indexer] = value instead\n",
      "\n",
      "See the caveats in the documentation: https://pandas.pydata.org/pandas-docs/stable/user_guide/indexing.html#returning-a-view-versus-a-copy\n",
      "  self._setitem_single_column(loc, value[:, i].tolist(), pi)\n",
      "C:\\Users\\teoma\\PycharmProjects\\RealtimePredictionBikeTerminalAvailability\\venv\\lib\\site-packages\\pandas\\core\\indexing.py:1732: SettingWithCopyWarning: \n",
      "A value is trying to be set on a copy of a slice from a DataFrame\n",
      "\n",
      "See the caveats in the documentation: https://pandas.pydata.org/pandas-docs/stable/user_guide/indexing.html#returning-a-view-versus-a-copy\n",
      "  self._setitem_single_block(indexer, value, name)\n",
      "C:\\Users\\teoma\\PycharmProjects\\RealtimePredictionBikeTerminalAvailability\\venv\\lib\\site-packages\\pandas\\core\\indexing.py:723: SettingWithCopyWarning: \n",
      "A value is trying to be set on a copy of a slice from a DataFrame\n",
      "\n",
      "See the caveats in the documentation: https://pandas.pydata.org/pandas-docs/stable/user_guide/indexing.html#returning-a-view-versus-a-copy\n",
      "  iloc._setitem_with_indexer(indexer, value, self.name)\n",
      "C:\\Users\\teoma\\PycharmProjects\\RealtimePredictionBikeTerminalAvailability\\venv\\lib\\site-packages\\pandas\\core\\indexing.py:1732: SettingWithCopyWarning: \n",
      "A value is trying to be set on a copy of a slice from a DataFrame\n",
      "\n",
      "See the caveats in the documentation: https://pandas.pydata.org/pandas-docs/stable/user_guide/indexing.html#returning-a-view-versus-a-copy\n",
      "  self._setitem_single_block(indexer, value, name)\n",
      "C:\\Users\\teoma\\PycharmProjects\\RealtimePredictionBikeTerminalAvailability\\venv\\lib\\site-packages\\pandas\\core\\indexing.py:723: SettingWithCopyWarning: \n",
      "A value is trying to be set on a copy of a slice from a DataFrame\n",
      "\n",
      "See the caveats in the documentation: https://pandas.pydata.org/pandas-docs/stable/user_guide/indexing.html#returning-a-view-versus-a-copy\n",
      "  iloc._setitem_with_indexer(indexer, value, self.name)\n"
     ]
    }
   ],
   "source": [
    "feature_columns = list(df.columns)\n",
    "feature_columns.remove('bike_availability_ratio')\n",
    "\n",
    "f_columns = feature_columns\n",
    "f_transformer = RobustScaler()\n",
    "f_transformer = f_transformer.fit(train[f_columns].to_numpy())\n",
    "train.loc[:, f_columns] = f_transformer.transform(\n",
    "    train[f_columns].to_numpy()\n",
    ")\n",
    "test.loc[:, f_columns] = f_transformer.transform(\n",
    "    test[f_columns].to_numpy()\n",
    ")\n",
    "\n",
    "bike_availability_col = ['bike_availability_ratio']\n",
    "availability_transformer = RobustScaler()\n",
    "availability_transformer = availability_transformer.fit(train[bike_availability_col])\n",
    "train.loc[:, bike_availability_col] = availability_transformer.transform(\n",
    "    train[bike_availability_col]\n",
    ")\n",
    "test.loc[:, bike_availability_col] = availability_transformer.transform(\n",
    "    test[bike_availability_col]\n",
    ")"
   ],
   "metadata": {
    "collapsed": false,
    "pycharm": {
     "name": "#%%\n"
    }
   }
  },
  {
   "cell_type": "code",
   "execution_count": 18,
   "outputs": [],
   "source": [
    "def create_dataset(X, y, time_steps=1):\n",
    "    Xs, ys = [], []\n",
    "    for i in range(len(X) - time_steps):\n",
    "        v = X.iloc[i:(i + time_steps)].values\n",
    "        Xs.append(v)\n",
    "        ys.append(y.iloc[i + time_steps])\n",
    "    return np.array(Xs), np.array(ys)"
   ],
   "metadata": {
    "collapsed": false,
    "pycharm": {
     "name": "#%%\n"
    }
   }
  },
  {
   "cell_type": "code",
   "execution_count": 19,
   "outputs": [
    {
     "name": "stdout",
     "output_type": "stream",
     "text": [
      "(24956, 10, 30) (24956,)\n",
      "Epoch 1/50\n",
      "702/702 [==============================] - 9s 8ms/step - loss: 0.3794 - val_loss: 0.3789\n",
      "Epoch 2/50\n",
      "702/702 [==============================] - 5s 8ms/step - loss: 0.3787 - val_loss: 0.3786\n",
      "Epoch 3/50\n",
      "702/702 [==============================] - 5s 8ms/step - loss: 0.3774 - val_loss: 0.3782\n",
      "Epoch 4/50\n",
      "702/702 [==============================] - 6s 8ms/step - loss: 0.3765 - val_loss: 0.3779\n",
      "Epoch 5/50\n",
      "702/702 [==============================] - 6s 8ms/step - loss: 0.3754 - val_loss: 0.3769\n",
      "Epoch 6/50\n",
      "702/702 [==============================] - 6s 8ms/step - loss: 0.3740 - val_loss: 0.3763\n",
      "Epoch 7/50\n",
      "702/702 [==============================] - 6s 8ms/step - loss: 0.3723 - val_loss: 0.3760\n",
      "Epoch 8/50\n",
      "702/702 [==============================] - 6s 8ms/step - loss: 0.3705 - val_loss: 0.3766\n",
      "Epoch 9/50\n",
      "702/702 [==============================] - 6s 8ms/step - loss: 0.3677 - val_loss: 0.3757\n",
      "Epoch 10/50\n",
      "702/702 [==============================] - 6s 8ms/step - loss: 0.3650 - val_loss: 0.3780\n",
      "Epoch 11/50\n",
      "702/702 [==============================] - 6s 8ms/step - loss: 0.3619 - val_loss: 0.3793\n",
      "Epoch 12/50\n",
      "702/702 [==============================] - 6s 8ms/step - loss: 0.3581 - val_loss: 0.3807\n",
      "Epoch 13/50\n",
      "702/702 [==============================] - 6s 8ms/step - loss: 0.3544 - val_loss: 0.3846\n",
      "Epoch 14/50\n",
      "702/702 [==============================] - 6s 8ms/step - loss: 0.3499 - val_loss: 0.3845\n",
      "Epoch 15/50\n",
      "702/702 [==============================] - 6s 9ms/step - loss: 0.3428 - val_loss: 0.3885\n",
      "Epoch 16/50\n",
      "702/702 [==============================] - 6s 8ms/step - loss: 0.3334 - val_loss: 0.3903\n",
      "Epoch 17/50\n",
      "702/702 [==============================] - 6s 8ms/step - loss: 0.3272 - val_loss: 0.3913\n",
      "Epoch 18/50\n",
      "702/702 [==============================] - 6s 9ms/step - loss: 0.3204 - val_loss: 0.3899\n",
      "Epoch 19/50\n",
      "702/702 [==============================] - 6s 9ms/step - loss: 0.3127 - val_loss: 0.3905\n",
      "Epoch 20/50\n",
      "702/702 [==============================] - 6s 9ms/step - loss: 0.3065 - val_loss: 0.3945\n",
      "Epoch 21/50\n",
      "702/702 [==============================] - 7s 10ms/step - loss: 0.2978 - val_loss: 0.3966\n",
      "Epoch 22/50\n",
      "702/702 [==============================] - 6s 9ms/step - loss: 0.2892 - val_loss: 0.4084\n",
      "Epoch 23/50\n",
      "702/702 [==============================] - 6s 9ms/step - loss: 0.2831 - val_loss: 0.4110\n",
      "Epoch 24/50\n",
      "702/702 [==============================] - 7s 10ms/step - loss: 0.2750 - val_loss: 0.4129\n",
      "Epoch 25/50\n",
      "702/702 [==============================] - 5s 7ms/step - loss: 0.2677 - val_loss: 0.4211\n",
      "Epoch 26/50\n",
      "702/702 [==============================] - 6s 8ms/step - loss: 0.2600 - val_loss: 0.4243\n",
      "Epoch 27/50\n",
      "702/702 [==============================] - 6s 8ms/step - loss: 0.2541 - val_loss: 0.4316\n",
      "Epoch 28/50\n",
      "702/702 [==============================] - 7s 9ms/step - loss: 0.2485 - val_loss: 0.4373\n",
      "Epoch 29/50\n",
      "702/702 [==============================] - 5s 8ms/step - loss: 0.2434 - val_loss: 0.4384\n",
      "Epoch 30/50\n",
      "702/702 [==============================] - 6s 8ms/step - loss: 0.2378 - val_loss: 0.4311\n",
      "Epoch 31/50\n",
      "702/702 [==============================] - 5s 7ms/step - loss: 0.2324 - val_loss: 0.4395\n",
      "Epoch 32/50\n",
      "702/702 [==============================] - 5s 7ms/step - loss: 0.2297 - val_loss: 0.4374\n",
      "Epoch 33/50\n",
      "702/702 [==============================] - 5s 8ms/step - loss: 0.2246 - val_loss: 0.4402\n",
      "Epoch 34/50\n",
      "702/702 [==============================] - 5s 7ms/step - loss: 0.2209 - val_loss: 0.4465\n",
      "Epoch 35/50\n",
      "702/702 [==============================] - 6s 8ms/step - loss: 0.2182 - val_loss: 0.4577\n",
      "Epoch 36/50\n",
      "702/702 [==============================] - 5s 8ms/step - loss: 0.2150 - val_loss: 0.4262\n",
      "Epoch 37/50\n",
      "702/702 [==============================] - 6s 8ms/step - loss: 0.2108 - val_loss: 0.4379\n",
      "Epoch 38/50\n",
      "702/702 [==============================] - 6s 8ms/step - loss: 0.2082 - val_loss: 0.4379\n",
      "Epoch 39/50\n",
      "702/702 [==============================] - 5s 7ms/step - loss: 0.2068 - val_loss: 0.4386\n",
      "Epoch 40/50\n",
      "702/702 [==============================] - 4s 6ms/step - loss: 0.2043 - val_loss: 0.4345\n",
      "Epoch 41/50\n",
      "702/702 [==============================] - 4s 6ms/step - loss: 0.2036 - val_loss: 0.4434\n",
      "Epoch 42/50\n",
      "702/702 [==============================] - 5s 7ms/step - loss: 0.2013 - val_loss: 0.4351\n",
      "Epoch 43/50\n",
      "702/702 [==============================] - 4s 6ms/step - loss: 0.1998 - val_loss: 0.4340\n",
      "Epoch 44/50\n",
      "702/702 [==============================] - 4s 6ms/step - loss: 0.1973 - val_loss: 0.4369\n",
      "Epoch 45/50\n",
      "702/702 [==============================] - 5s 6ms/step - loss: 0.1953 - val_loss: 0.4247\n",
      "Epoch 46/50\n",
      "702/702 [==============================] - 5s 7ms/step - loss: 0.1936 - val_loss: 0.4313\n",
      "Epoch 47/50\n",
      "702/702 [==============================] - 6s 8ms/step - loss: 0.1896 - val_loss: 0.4241\n",
      "Epoch 48/50\n",
      "702/702 [==============================] - 5s 7ms/step - loss: 0.1875 - val_loss: 0.4303\n",
      "Epoch 49/50\n",
      "702/702 [==============================] - 6s 9ms/step - loss: 0.1869 - val_loss: 0.4242\n",
      "Epoch 50/50\n",
      "702/702 [==============================] - 5s 7ms/step - loss: 0.1855 - val_loss: 0.4213\n"
     ]
    }
   ],
   "source": [
    "time_steps = 10\n",
    "X_train, y_train = create_dataset(train, train.bike_availability_ratio, time_steps)\n",
    "X_test, y_test = create_dataset(test, test.bike_availability_ratio, time_steps)\n",
    "print(X_train.shape, y_train.shape)\n",
    "\n",
    "model = keras.Sequential()\n",
    "model.add(\n",
    "    keras.layers.Bidirectional(\n",
    "        keras.layers.LSTM(\n",
    "            units=128,\n",
    "            input_shape=(X_train.shape[1], X_train.shape[2])\n",
    "        )\n",
    "    )\n",
    ")\n",
    "model.add(keras.layers.Dropout(rate=0.2))\n",
    "model.add(keras.layers.Dense(units=1))\n",
    "model.add(keras.layers.Dense(256, input_dim=22, activation='relu'))\n",
    "#model.add(keras.layers.Dense(6, activation='softmax'))\n",
    "\n",
    "model.compile(loss='mean_squared_error', optimizer='adam')\n",
    "\n",
    "history = model.fit(\n",
    "    X_train, y_train,\n",
    "    epochs=50,\n",
    "    batch_size=32,\n",
    "    validation_split=0.1,\n",
    "    shuffle=False\n",
    ")"
   ],
   "metadata": {
    "collapsed": false,
    "pycharm": {
     "name": "#%%\n"
    }
   }
  },
  {
   "cell_type": "code",
   "execution_count": 20,
   "outputs": [
    {
     "data": {
      "text/plain": "<Figure size 432x288 with 1 Axes>",
      "image/png": "[encoded data removed]"
     },
     "metadata": {
      "needs_background": "light"
     },
     "output_type": "display_data"
    }
   ],
   "source": [
    "plt.plot(history.history['loss'], label='train')\n",
    "plt.plot(history.history['val_loss'], label='test')\n",
    "plt.legend();"
   ],
   "metadata": {
    "collapsed": false,
    "pycharm": {
     "name": "#%%\n"
    }
   }
  },
  {
   "cell_type": "code",
   "execution_count": 21,
   "outputs": [],
   "source": [
    "y_pred = model.predict(X_test)"
   ],
   "metadata": {
    "collapsed": false,
    "pycharm": {
     "name": "#%%\n"
    }
   }
  },
  {
   "cell_type": "code",
   "execution_count": 22,
   "outputs": [],
   "source": [
    "y_train_inv = availability_transformer.inverse_transform(y_train.reshape(1, -1))\n",
    "y_test_inv = availability_transformer.inverse_transform(y_test.reshape(1, -1))\n",
    "y_pred_inv = availability_transformer.inverse_transform(y_pred)"
   ],
   "metadata": {
    "collapsed": false,
    "pycharm": {
     "name": "#%%\n"
    }
   }
  },
  {
   "cell_type": "code",
   "execution_count": 23,
   "outputs": [
    {
     "data": {
      "text/plain": "<Figure size 432x288 with 1 Axes>",
      "image/png": "[encoded data removed]"
     },
     "metadata": {
      "needs_background": "light"
     },
     "output_type": "display_data"
    }
   ],
   "source": [
    "plt.plot(y_test_inv.flatten(), marker='.', label=\"true\")\n",
    "plt.plot(y_pred_inv.flatten(), 'r', label=\"prediction\")\n",
    "plt.ylabel('Bike Availability')\n",
    "plt.xlabel('Time Step')\n",
    "plt.legend()\n",
    "plt.show();"
   ],
   "metadata": {
    "collapsed": false,
    "pycharm": {
     "name": "#%%\n"
    }
   }
  },
  {
   "cell_type": "code",
   "execution_count": 24,
   "outputs": [],
   "source": [
    "def get_mean_absolute_deviations(predictions,actual_values):\n",
    "    predictions_dataframe = pd.DataFrame(data = predictions.flatten())\n",
    "    actual_test_set_values_dataframe = pd.DataFrame(data=actual_values.flatten())\n",
    "\n",
    "    print(\"LSTM model prediction's Mean Absolute Deviation is \", predictions_dataframe.mad()[0])\n",
    "    print(\"Test set's Mean Absolute Deviation is\", actual_test_set_values_dataframe.mad()[0])"
   ],
   "metadata": {
    "collapsed": false,
    "pycharm": {
     "name": "#%%\n"
    }
   }
  },
  {
   "cell_type": "code",
   "execution_count": 25,
   "outputs": [
    {
     "name": "stdout",
     "output_type": "stream",
     "text": [
      "LSTM model prediction's Mean Absolute Deviation is  10.1057825\n",
      "Test set's Mean Absolute Deviation is 26.071190799151786\n"
     ]
    }
   ],
   "source": [
    "get_mean_absolute_deviations(y_pred_inv,y_test_inv)"
   ],
   "metadata": {
    "collapsed": false,
    "pycharm": {
     "name": "#%%\n"
    }
   }
  },
  {
   "cell_type": "code",
   "execution_count": 26,
   "outputs": [
    {
     "ename": "ValueError",
     "evalue": "y_true and y_pred have different number of output (1!=256)",
     "output_type": "error",
     "traceback": [
      "\u001B[1;31m---------------------------------------------------------------------------\u001B[0m",
      "\u001B[1;31mValueError\u001B[0m                                Traceback (most recent call last)",
      "\u001B[1;32m~\\AppData\\Local\\Temp/ipykernel_19648/1541840512.py\u001B[0m in \u001B[0;36m<module>\u001B[1;34m\u001B[0m\n\u001B[1;32m----> 1\u001B[1;33m \u001B[0mprint\u001B[0m\u001B[1;33m(\u001B[0m\u001B[1;34m\"Mean Absolute Error:\"\u001B[0m\u001B[1;33m,\u001B[0m \u001B[0mmetrics\u001B[0m\u001B[1;33m.\u001B[0m\u001B[0mmean_absolute_error\u001B[0m\u001B[1;33m(\u001B[0m\u001B[0my_test\u001B[0m\u001B[1;33m,\u001B[0m \u001B[0my_pred\u001B[0m\u001B[1;33m,\u001B[0m \u001B[0msample_weight\u001B[0m\u001B[1;33m=\u001B[0m\u001B[1;32mNone\u001B[0m\u001B[1;33m,\u001B[0m \u001B[0mmultioutput\u001B[0m\u001B[1;33m=\u001B[0m\u001B[1;34m\"uniform_average\"\u001B[0m\u001B[1;33m)\u001B[0m\u001B[1;33m)\u001B[0m\u001B[1;33m\u001B[0m\u001B[1;33m\u001B[0m\u001B[0m\n\u001B[0m",
      "\u001B[1;32m~\\PycharmProjects\\RealtimePredictionBikeTerminalAvailability\\venv\\lib\\site-packages\\sklearn\\metrics\\_regression.py\u001B[0m in \u001B[0;36mmean_absolute_error\u001B[1;34m(y_true, y_pred, sample_weight, multioutput)\u001B[0m\n\u001B[0;32m    184\u001B[0m     \u001B[1;36m0.85\u001B[0m\u001B[1;33m...\u001B[0m\u001B[1;33m\u001B[0m\u001B[1;33m\u001B[0m\u001B[0m\n\u001B[0;32m    185\u001B[0m     \"\"\"\n\u001B[1;32m--> 186\u001B[1;33m     y_type, y_true, y_pred, multioutput = _check_reg_targets(\n\u001B[0m\u001B[0;32m    187\u001B[0m         \u001B[0my_true\u001B[0m\u001B[1;33m,\u001B[0m \u001B[0my_pred\u001B[0m\u001B[1;33m,\u001B[0m \u001B[0mmultioutput\u001B[0m\u001B[1;33m\u001B[0m\u001B[1;33m\u001B[0m\u001B[0m\n\u001B[0;32m    188\u001B[0m     )\n",
      "\u001B[1;32m~\\PycharmProjects\\RealtimePredictionBikeTerminalAvailability\\venv\\lib\\site-packages\\sklearn\\metrics\\_regression.py\u001B[0m in \u001B[0;36m_check_reg_targets\u001B[1;34m(y_true, y_pred, multioutput, dtype)\u001B[0m\n\u001B[0;32m     98\u001B[0m \u001B[1;33m\u001B[0m\u001B[0m\n\u001B[0;32m     99\u001B[0m     \u001B[1;32mif\u001B[0m \u001B[0my_true\u001B[0m\u001B[1;33m.\u001B[0m\u001B[0mshape\u001B[0m\u001B[1;33m[\u001B[0m\u001B[1;36m1\u001B[0m\u001B[1;33m]\u001B[0m \u001B[1;33m!=\u001B[0m \u001B[0my_pred\u001B[0m\u001B[1;33m.\u001B[0m\u001B[0mshape\u001B[0m\u001B[1;33m[\u001B[0m\u001B[1;36m1\u001B[0m\u001B[1;33m]\u001B[0m\u001B[1;33m:\u001B[0m\u001B[1;33m\u001B[0m\u001B[1;33m\u001B[0m\u001B[0m\n\u001B[1;32m--> 100\u001B[1;33m         raise ValueError(\n\u001B[0m\u001B[0;32m    101\u001B[0m             \"y_true and y_pred have different number of output ({0}!={1})\".format(\n\u001B[0;32m    102\u001B[0m                 \u001B[0my_true\u001B[0m\u001B[1;33m.\u001B[0m\u001B[0mshape\u001B[0m\u001B[1;33m[\u001B[0m\u001B[1;36m1\u001B[0m\u001B[1;33m]\u001B[0m\u001B[1;33m,\u001B[0m \u001B[0my_pred\u001B[0m\u001B[1;33m.\u001B[0m\u001B[0mshape\u001B[0m\u001B[1;33m[\u001B[0m\u001B[1;36m1\u001B[0m\u001B[1;33m]\u001B[0m\u001B[1;33m\u001B[0m\u001B[1;33m\u001B[0m\u001B[0m\n",
      "\u001B[1;31mValueError\u001B[0m: y_true and y_pred have different number of output (1!=256)"
     ]
    }
   ],
   "source": [
    "print(\"Mean Absolute Error:\", metrics.mean_absolute_error(y_test, y_pred, sample_weight=None, multioutput=\"uniform_average\"))"
   ],
   "metadata": {
    "collapsed": false,
    "pycharm": {
     "name": "#%%\n"
    }
   }
  }
 ],
 "metadata": {
  "kernelspec": {
   "display_name": "Python 3",
   "language": "python",
   "name": "python3"
  },
  "language_info": {
   "codemirror_mode": {
    "name": "ipython",
    "version": 2
   },
   "file_extension": ".py",
   "mimetype": "text/x-python",
   "name": "python",
   "nbconvert_exporter": "python",
   "pygments_lexer": "ipython2",
   "version": "2.7.6"
  }
 },
 "nbformat": 4,
 "nbformat_minor": 0
}