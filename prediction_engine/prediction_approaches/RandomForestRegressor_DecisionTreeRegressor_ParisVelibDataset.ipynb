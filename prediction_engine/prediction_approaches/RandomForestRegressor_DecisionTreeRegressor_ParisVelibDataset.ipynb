{
 "cells": [
  {
   "cell_type": "code",
   "execution_count": 16,
   "metadata": {
    "collapsed": true
   },
   "outputs": [],
   "source": [
    "from sklearn.metrics import mean_squared_error\n",
    "from sklearn.metrics import mean_absolute_error\n",
    "from sklearn.tree import DecisionTreeRegressor\n",
    "from sklearn.ensemble import RandomForestRegressor\n",
    "from sklearn.model_selection import train_test_split\n",
    "import pandas as pd\n",
    "import numpy as np\n",
    "from math import sqrt\n",
    "from sklearn.preprocessing import StandardScaler"
   ]
  },
  {
   "cell_type": "code",
   "execution_count": 17,
   "outputs": [
    {
     "data": {
      "text/plain": "   is_installed  is_renting  is_returning  longitude  latitude  ...  record_timestamp_minute_46  record_timestamp_minute_50  record_timestamp_minute_51  record_timestamp_minute_59  record_timestamp_second_0\n0             1           1             1   0.023661  0.488710  ...                           1                           0                           0                           0                          1\n1             1           1             1   0.023360  0.488375  ...                           1                           0                           0                           0                          1\n2             1           1             1   0.023520  0.488439  ...                           1                           0                           0                           0                          1\n3             1           1             1   0.023851  0.489104  ...                           1                           0                           0                           0                          1\n4             1           1             1   0.023768  0.488158  ...                           1                           0                           0                           0                          1\n\n[5 rows x 40 columns]",
      "text/html": "<div>\n<style scoped>\n    .dataframe tbody tr th:only-of-type {\n        vertical-align: middle;\n    }\n\n    .dataframe tbody tr th {\n        vertical-align: top;\n    }\n\n    .dataframe thead th {\n        text-align: right;\n    }\n</style>\n<table border=\"1\" class=\"dataframe\">\n  <thead>\n    <tr style=\"text-align: right;\">\n      <th></th>\n      <th>is_installed</th>\n      <th>is_renting</th>\n      <th>is_returning</th>\n      <th>longitude</th>\n      <th>latitude</th>\n      <th>...</th>\n      <th>record_timestamp_minute_46</th>\n      <th>record_timestamp_minute_50</th>\n      <th>record_timestamp_minute_51</th>\n      <th>record_timestamp_minute_59</th>\n      <th>record_timestamp_second_0</th>\n    </tr>\n  </thead>\n  <tbody>\n    <tr>\n      <th>0</th>\n      <td>1</td>\n      <td>1</td>\n      <td>1</td>\n      <td>0.023661</td>\n      <td>0.488710</td>\n      <td>...</td>\n      <td>1</td>\n      <td>0</td>\n      <td>0</td>\n      <td>0</td>\n      <td>1</td>\n    </tr>\n    <tr>\n      <th>1</th>\n      <td>1</td>\n      <td>1</td>\n      <td>1</td>\n      <td>0.023360</td>\n      <td>0.488375</td>\n      <td>...</td>\n      <td>1</td>\n      <td>0</td>\n      <td>0</td>\n      <td>0</td>\n      <td>1</td>\n    </tr>\n    <tr>\n      <th>2</th>\n      <td>1</td>\n      <td>1</td>\n      <td>1</td>\n      <td>0.023520</td>\n      <td>0.488439</td>\n      <td>...</td>\n      <td>1</td>\n      <td>0</td>\n      <td>0</td>\n      <td>0</td>\n      <td>1</td>\n    </tr>\n    <tr>\n      <th>3</th>\n      <td>1</td>\n      <td>1</td>\n      <td>1</td>\n      <td>0.023851</td>\n      <td>0.489104</td>\n      <td>...</td>\n      <td>1</td>\n      <td>0</td>\n      <td>0</td>\n      <td>0</td>\n      <td>1</td>\n    </tr>\n    <tr>\n      <th>4</th>\n      <td>1</td>\n      <td>1</td>\n      <td>1</td>\n      <td>0.023768</td>\n      <td>0.488158</td>\n      <td>...</td>\n      <td>1</td>\n      <td>0</td>\n      <td>0</td>\n      <td>0</td>\n      <td>1</td>\n    </tr>\n  </tbody>\n</table>\n<p>5 rows × 40 columns</p>\n</div>"
     },
     "execution_count": 17,
     "metadata": {},
     "output_type": "execute_result"
    }
   ],
   "source": [
    "pd.set_option('display.width', 500)\n",
    "np.set_printoptions(linewidth=500)\n",
    "pd.set_option('display.max_columns', 10)\n",
    "\n",
    "df = pd.read_csv(\n",
    "    \"../../dataset_building/paris_velib_dataset_preprocessed.csv\",\n",
    "    index_col=False\n",
    ")\n",
    "\n",
    "df.shape\n",
    "\n",
    "df.head()"
   ],
   "metadata": {
    "collapsed": false,
    "pycharm": {
     "name": "#%%\n"
    }
   }
  },
  {
   "cell_type": "code",
   "execution_count": 18,
   "outputs": [
    {
     "data": {
      "text/plain": "False"
     },
     "execution_count": 18,
     "metadata": {},
     "output_type": "execute_result"
    }
   ],
   "source": [
    "df.isnull().values.any()"
   ],
   "metadata": {
    "collapsed": false,
    "pycharm": {
     "name": "#%%\n"
    }
   }
  },
  {
   "cell_type": "code",
   "execution_count": 19,
   "outputs": [
    {
     "data": {
      "text/plain": "       is_installed    is_renting  is_returning     longitude      latitude  ...  record_timestamp_minute_46  record_timestamp_minute_50  record_timestamp_minute_51  record_timestamp_minute_59  record_timestamp_second_0\ncount  95642.000000  95642.000000  95642.000000  95642.000000  95642.000000  ...                95642.000000                95642.000000                95642.000000                95642.000000                    95642.0\nmean       0.989670      0.978169      0.978169      0.023417      0.488580  ...                    0.014910                    0.014910                    0.104368                    0.029861                        1.0\nstd        0.101112      0.146134      0.146134      0.000552      0.000296  ...                    0.121192                    0.121192                    0.305739                    0.170206                        0.0\nmin        0.000000      0.000000      0.000000      0.021656      0.487646  ...                    0.000000                    0.000000                    0.000000                    0.000000                        1.0\n25%        1.000000      1.000000      1.000000      0.023044      0.488379  ...                    0.000000                    0.000000                    0.000000                    0.000000                        1.0\n50%        1.000000      1.000000      1.000000      0.023439      0.488585  ...                    0.000000                    0.000000                    0.000000                    0.000000                        1.0\n75%        1.000000      1.000000      1.000000      0.023785      0.488791  ...                    0.000000                    0.000000                    0.000000                    0.000000                        1.0\nmax        1.000000      1.000000      1.000000      0.025382      0.489470  ...                    1.000000                    1.000000                    1.000000                    1.000000                        1.0\n\n[8 rows x 40 columns]",
      "text/html": "<div>\n<style scoped>\n    .dataframe tbody tr th:only-of-type {\n        vertical-align: middle;\n    }\n\n    .dataframe tbody tr th {\n        vertical-align: top;\n    }\n\n    .dataframe thead th {\n        text-align: right;\n    }\n</style>\n<table border=\"1\" class=\"dataframe\">\n  <thead>\n    <tr style=\"text-align: right;\">\n      <th></th>\n      <th>is_installed</th>\n      <th>is_renting</th>\n      <th>is_returning</th>\n      <th>longitude</th>\n      <th>latitude</th>\n      <th>...</th>\n      <th>record_timestamp_minute_46</th>\n      <th>record_timestamp_minute_50</th>\n      <th>record_timestamp_minute_51</th>\n      <th>record_timestamp_minute_59</th>\n      <th>record_timestamp_second_0</th>\n    </tr>\n  </thead>\n  <tbody>\n    <tr>\n      <th>count</th>\n      <td>95642.000000</td>\n      <td>95642.000000</td>\n      <td>95642.000000</td>\n      <td>95642.000000</td>\n      <td>95642.000000</td>\n      <td>...</td>\n      <td>95642.000000</td>\n      <td>95642.000000</td>\n      <td>95642.000000</td>\n      <td>95642.000000</td>\n      <td>95642.0</td>\n    </tr>\n    <tr>\n      <th>mean</th>\n      <td>0.989670</td>\n      <td>0.978169</td>\n      <td>0.978169</td>\n      <td>0.023417</td>\n      <td>0.488580</td>\n      <td>...</td>\n      <td>0.014910</td>\n      <td>0.014910</td>\n      <td>0.104368</td>\n      <td>0.029861</td>\n      <td>1.0</td>\n    </tr>\n    <tr>\n      <th>std</th>\n      <td>0.101112</td>\n      <td>0.146134</td>\n      <td>0.146134</td>\n      <td>0.000552</td>\n      <td>0.000296</td>\n      <td>...</td>\n      <td>0.121192</td>\n      <td>0.121192</td>\n      <td>0.305739</td>\n      <td>0.170206</td>\n      <td>0.0</td>\n    </tr>\n    <tr>\n      <th>min</th>\n      <td>0.000000</td>\n      <td>0.000000</td>\n      <td>0.000000</td>\n      <td>0.021656</td>\n      <td>0.487646</td>\n      <td>...</td>\n      <td>0.000000</td>\n      <td>0.000000</td>\n      <td>0.000000</td>\n      <td>0.000000</td>\n      <td>1.0</td>\n    </tr>\n    <tr>\n      <th>25%</th>\n      <td>1.000000</td>\n      <td>1.000000</td>\n      <td>1.000000</td>\n      <td>0.023044</td>\n      <td>0.488379</td>\n      <td>...</td>\n      <td>0.000000</td>\n      <td>0.000000</td>\n      <td>0.000000</td>\n      <td>0.000000</td>\n      <td>1.0</td>\n    </tr>\n    <tr>\n      <th>50%</th>\n      <td>1.000000</td>\n      <td>1.000000</td>\n      <td>1.000000</td>\n      <td>0.023439</td>\n      <td>0.488585</td>\n      <td>...</td>\n      <td>0.000000</td>\n      <td>0.000000</td>\n      <td>0.000000</td>\n      <td>0.000000</td>\n      <td>1.0</td>\n    </tr>\n    <tr>\n      <th>75%</th>\n      <td>1.000000</td>\n      <td>1.000000</td>\n      <td>1.000000</td>\n      <td>0.023785</td>\n      <td>0.488791</td>\n      <td>...</td>\n      <td>0.000000</td>\n      <td>0.000000</td>\n      <td>0.000000</td>\n      <td>0.000000</td>\n      <td>1.0</td>\n    </tr>\n    <tr>\n      <th>max</th>\n      <td>1.000000</td>\n      <td>1.000000</td>\n      <td>1.000000</td>\n      <td>0.025382</td>\n      <td>0.489470</td>\n      <td>...</td>\n      <td>1.000000</td>\n      <td>1.000000</td>\n      <td>1.000000</td>\n      <td>1.000000</td>\n      <td>1.0</td>\n    </tr>\n  </tbody>\n</table>\n<p>8 rows × 40 columns</p>\n</div>"
     },
     "execution_count": 19,
     "metadata": {},
     "output_type": "execute_result"
    }
   ],
   "source": [
    "df.describe()"
   ],
   "metadata": {
    "collapsed": false,
    "pycharm": {
     "name": "#%%\n"
    }
   }
  },
  {
   "cell_type": "code",
   "execution_count": 20,
   "outputs": [],
   "source": [
    "X = df.drop([\"bike_availability_ratio\"], axis=1)"
   ],
   "metadata": {
    "collapsed": false,
    "pycharm": {
     "name": "#%%\n"
    }
   }
  },
  {
   "cell_type": "code",
   "execution_count": 21,
   "outputs": [],
   "source": [
    "y = df[\"bike_availability_ratio\"]"
   ],
   "metadata": {
    "collapsed": false,
    "pycharm": {
     "name": "#%%\n"
    }
   }
  },
  {
   "cell_type": "code",
   "execution_count": 22,
   "outputs": [],
   "source": [
    "X_train, X_test, y_train, y_test = train_test_split(X, y, test_size=0.2, random_state=123)"
   ],
   "metadata": {
    "collapsed": false,
    "pycharm": {
     "name": "#%%\n"
    }
   }
  },
  {
   "cell_type": "code",
   "execution_count": 23,
   "outputs": [
    {
     "data": {
      "text/plain": "(76513, 39)"
     },
     "execution_count": 23,
     "metadata": {},
     "output_type": "execute_result"
    }
   ],
   "source": [
    "X_train.shape"
   ],
   "metadata": {
    "collapsed": false,
    "pycharm": {
     "name": "#%%\n"
    }
   }
  },
  {
   "cell_type": "code",
   "execution_count": 24,
   "outputs": [
    {
     "data": {
      "text/plain": "(19129, 39)"
     },
     "execution_count": 24,
     "metadata": {},
     "output_type": "execute_result"
    }
   ],
   "source": [
    "X_test.shape"
   ],
   "metadata": {
    "collapsed": false,
    "pycharm": {
     "name": "#%%\n"
    }
   }
  },
  {
   "cell_type": "code",
   "execution_count": 25,
   "outputs": [],
   "source": [
    "scaler = StandardScaler()\n",
    "train_scaled = scaler.fit_transform(X_train)\n",
    "test_scaled = scaler.transform(X_test)"
   ],
   "metadata": {
    "collapsed": false,
    "pycharm": {
     "name": "#%%\n"
    }
   }
  },
  {
   "cell_type": "code",
   "execution_count": 26,
   "outputs": [],
   "source": [
    "tree_model = DecisionTreeRegressor()\n",
    "rf_model = RandomForestRegressor()"
   ],
   "metadata": {
    "collapsed": false,
    "pycharm": {
     "name": "#%%\n"
    }
   }
  },
  {
   "cell_type": "code",
   "execution_count": 27,
   "outputs": [
    {
     "data": {
      "text/plain": "RandomForestRegressor()"
     },
     "execution_count": 27,
     "metadata": {},
     "output_type": "execute_result"
    }
   ],
   "source": [
    "tree_model.fit(train_scaled, y_train)\n",
    "rf_model.fit(train_scaled, y_train)"
   ],
   "metadata": {
    "collapsed": false,
    "pycharm": {
     "name": "#%%\n"
    }
   }
  },
  {
   "cell_type": "code",
   "execution_count": 28,
   "outputs": [],
   "source": [
    "tree_mse = mean_squared_error(y_train, tree_model.predict(train_scaled))\n",
    "tree_mae = mean_absolute_error(y_train, tree_model.predict(train_scaled))\n",
    "rf_mse = mean_squared_error(y_train, rf_model.predict(train_scaled))\n",
    "rf_mae = mean_absolute_error(y_train, rf_model.predict(train_scaled))"
   ],
   "metadata": {
    "collapsed": false,
    "pycharm": {
     "name": "#%%\n"
    }
   }
  },
  {
   "cell_type": "code",
   "execution_count": 29,
   "outputs": [
    {
     "name": "stdout",
     "output_type": "stream",
     "text": [
      "Decision Tree training mse =  5.443429585343566e-05  & mae =  5.334560993657215e-05  & rmse =  0.007377960141762468\n",
      "Random Forest training mse =  11.630675149769722  & mae =  2.2007538316009887  & rmse =  3.410377567040008\n"
     ]
    }
   ],
   "source": [
    "print(\"Decision Tree training mse = \",tree_mse,\" & mae = \",tree_mae,\" & rmse = \", sqrt(tree_mse))\n",
    "print(\"Random Forest training mse = \",rf_mse,\" & mae = \",rf_mae,\" & rmse = \", sqrt(rf_mse))"
   ],
   "metadata": {
    "collapsed": false,
    "pycharm": {
     "name": "#%%\n"
    }
   }
  },
  {
   "cell_type": "code",
   "execution_count": 30,
   "outputs": [],
   "source": [
    "tree_test_mse = mean_squared_error(y_test, tree_model.predict(test_scaled))\n",
    "tree_test_mae = mean_absolute_error(y_test, tree_model.predict(test_scaled))\n",
    "rf_test_mse = mean_squared_error(y_test, rf_model.predict(test_scaled))\n",
    "rf_test_mae = mean_absolute_error(y_test, rf_model.predict(test_scaled))"
   ],
   "metadata": {
    "collapsed": false,
    "pycharm": {
     "name": "#%%\n"
    }
   }
  },
  {
   "cell_type": "code",
   "execution_count": 31,
   "outputs": [
    {
     "name": "stdout",
     "output_type": "stream",
     "text": [
      "Decision Tree test mse =  120.2329595283558  & mae =  5.983877695082856  & rmse =  10.965079093575012\n",
      "Random Forest test mse =  82.30887355782913  & mae =  5.9477617040989585  & rmse =  9.07242379730076\n"
     ]
    }
   ],
   "source": [
    "print(\"Decision Tree test mse = \",tree_test_mse,\" & mae = \",tree_test_mae,\" & rmse = \", sqrt(tree_test_mse))\n",
    "print(\"Random Forest test mse = \",rf_test_mse,\" & mae = \",rf_test_mae,\" & rmse = \", sqrt(rf_test_mse))"
   ],
   "metadata": {
    "collapsed": false,
    "pycharm": {
     "name": "#%%\n"
    }
   }
  }
 ],
 "metadata": {
  "kernelspec": {
   "display_name": "Python 3",
   "language": "python",
   "name": "python3"
  },
  "language_info": {
   "codemirror_mode": {
    "name": "ipython",
    "version": 2
   },
   "file_extension": ".py",
   "mimetype": "text/x-python",
   "name": "python",
   "nbconvert_exporter": "python",
   "pygments_lexer": "ipython2",
   "version": "2.7.6"
  }
 },
 "nbformat": 4,
 "nbformat_minor": 0
}